{
 "cells": [
  {
   "cell_type": "markdown",
   "metadata": {},
   "source": [
    "# Ampliando\n",
    "En esta lección generaremos correos electrónicos de atención al cliente adaptados a la revisión de cada cliente."
   ]
  },
  {
   "cell_type": "code",
   "execution_count": 1,
   "metadata": {},
   "outputs": [],
   "source": [
    "import openai\n",
    "import os\n",
    "from IPython.display import Markdown, HTML\n",
    "import requests\n",
    "import json\n",
    "\n",
    "from dotenv import load_dotenv\n",
    "load_dotenv()\n",
    "\n",
    "openai.api_key = os.getenv(\"OPENAI_API_KEY\")\n",
    "auth_token = os.getenv(\"AUTH_TOKEN\")\n",
    "\n",
    "\n",
    "headers = {\n",
    "  'Content-Type': 'application/json',\n",
    "  'Authorization': f\"Bearer {auth_token}\"\n",
    "}\n",
    "\n",
    "url = 'https://api.awanllm.com/v1/chat/completions' # URL for the API\n",
    "# Función para llamar a la API de LLMCloud para preguntarle a LLAMA\n",
    "def preguntar_llama(sys_prompt, prompt):\n",
    "    payload = json.dumps({\n",
    "        \"model\": \"Meta-Llama-3-8B-Instruct\",\n",
    "        \"messages\": [\n",
    "            {\"role\": \"system\", \"content\": sys_prompt},\n",
    "            {\"role\": \"user\", \"content\": prompt}\n",
    "        ],\n",
    "      })\n",
    "    return requests.request(\"POST\", url, headers=headers, data=payload).json()['choices'][0]['message']['content']\n",
    "\n",
    "client = openai.OpenAI()\n",
    "\n",
    "def get_completion(prompt, model=\"gpt-3.5-turbo\", temperature=0.1):\n",
    "    messages = [{\"role\": \"user\", \"content\": prompt}]\n",
    "    response = client.chat.completions.create(\n",
    "        model=model,\n",
    "        messages=messages,\n",
    "        temperature=temperature,\n",
    "        max_tokens=512,\n",
    "        top_p=1,\n",
    "        frequency_penalty=0,\n",
    "        presence_penalty=0\n",
    "    )\n",
    "    return response.choices[0].message.content"
   ]
  },
  {
   "cell_type": "markdown",
   "metadata": {},
   "source": [
    "## Personalizar la respuesta automática al correo electrónico de un cliente"
   ]
  },
  {
   "cell_type": "code",
   "execution_count": 2,
   "metadata": {},
   "outputs": [],
   "source": [
    "# Teniendo en cuenta lo que aprendimos en la lección sobre \"inferir\" el sentimiento del cliente original, personaliza el correo electrónico\n",
    "\n",
    "sentiment = \"negative\"\n",
    "\n",
    "# reseña de una licuadora\n",
    "review = \"\"\"\n",
    "Buenos días,\n",
    "\n",
    "Me gustaría compartir mi experiencia con la licuadora que compré en su tienda. La licuadora es muy bonita y elegante, pero no es tan potente como esperaba. La primera vez que la usé, se calentó mucho y no pude hacer un batido. Además, la tapa no encaja bien y se sale cuando la licuadora está en funcionamiento.\n",
    "\n",
    "Entonces, en noviembre, todavía tenían el sistema de 17 piezas en oferta por alrededor de $49, aproximadamente la mitad de precio. Sin embargo, por alguna razón, alrededor de la segunda semana de diciembre, los precios subieron a entre $70-$89 por el mismo sistema. El sistema de 11 piezas también aumentó en alrededor de $10 o más desde el precio de venta anterior de $29. La base, donde se encaja la cuchilla, no se ve tan bien como en ediciones anteriores de hace unos años, pero planeo ser muy cuidadoso con ella.\n",
    "\n",
    "Un consejo especial al hacer batidos es cortar finamente y congelar las frutas y verduras que planeas usar, de esa manera puedes evitar agregar tanto hielo al hacer tu batido. Después de aproximadamente un año, el motor comenzó a hacer un ruido extraño. Llamé al servicio al cliente, pero la garantía ya había expirado, así que tuve que comprar otro.\n",
    "\n",
    "PD: La calidad general ha disminuido en este tipo de productos, por lo que están contando en gran medida con el reconocimiento de marca y la lealtad del consumidor para mantener las ventas. El producto llegó en aproximadamente dos días.\n",
    "\n",
    "Atentamente,\n",
    "Alfonso\n",
    "\"\"\""
   ]
  },
  {
   "cell_type": "code",
   "execution_count": 3,
   "metadata": {},
   "outputs": [
    {
     "data": {
      "text/markdown": [
       "### Respuesta de GPT\n",
       "Estimado Alfonso,\n",
       "\n",
       "Gracias por tomarte el tiempo de compartir tu experiencia con la licuadora que adquiriste en nuestra tienda. Lamentamos mucho escuchar que no cumplió con tus expectativas y que experimentaste problemas con su funcionamiento y durabilidad.\n",
       "\n",
       "Nos disculpamos por los inconvenientes que esto te haya causado. Valoramos tus comentarios y te aseguramos que tomaremos en consideración tus observaciones para mejorar nuestros productos y servicios.\n",
       "\n",
       "Si necesitas alguna asistencia adicional o deseas discutir más a fondo tus inquietudes, no dudes en comunicarte con nuestro equipo de servicio al cliente. Estamos aquí para ayudarte en lo que necesites.\n",
       "\n",
       "Agradecemos tu retroalimentación y la oportunidad de mejorar. Esperamos poder brindarte una mejor experiencia en el futuro.\n",
       "\n",
       "Atentamente,\n",
       "Agente de servicio al cliente de IA"
      ],
      "text/plain": [
       "<IPython.core.display.Markdown object>"
      ]
     },
     "metadata": {},
     "output_type": "display_data"
    },
    {
     "name": "stdout",
     "output_type": "stream",
     "text": [
      "\n",
      "---------------------------------------------\n",
      "\n"
     ]
    },
    {
     "data": {
      "text/markdown": [
       "### Respuesta de LLAMA\n",
       "Asunto: Agradezco su reseña y le ofrezco ayuda adicional\n",
       "\n",
       "Querido Alfonso,\n",
       "\n",
       "Gracias por tomarse el tiempo de compartir su experiencia con nuestra licuadora en nuestra tienda. Me duele ver que no haya cumplido con sus expectativas en cuanto a la potencia y la calidad. Lo siento especialmente por el problema con la tapa y el ruido extraño después de un año de uso.\n",
       "\n",
       "En particular, me gustó saber que valoró nuestro sistema de 17 piezas y nos hizo notar el aumento en precios en cierto momento. Estoy de acuerdo con usted en que la base de la cuchilla no parece tan buena como en versiones anteriores.\n",
       "\n",
       "Por supuesto, lamentamos que la garantía hubiera expirado antes de que pudieran ayudarnos con el problema con el motor. Si necesita ayuda adicional o tiene alguna pregunta, no dude en ponerse en contacto con nosotros. Nuestro equipo de servicio al cliente estará encantado de asistirle.\n",
       "\n",
       "Agradezco su honesta retroalimentación y esperamos mejorar nuestros productos y servicios para ofrecer una mejor experiencia al futuro.\n",
       "\n",
       "Atentamente,\n",
       "Agente de servicio al cliente de IA"
      ],
      "text/plain": [
       "<IPython.core.display.Markdown object>"
      ]
     },
     "metadata": {},
     "output_type": "display_data"
    }
   ],
   "source": [
    "prompt = f\"\"\"\n",
    "Eres un asistente de IA de servicio al cliente.\n",
    "Tu tarea es enviar una respuesta por correo electrónico a un cliente valioso.\n",
    "Dado el correo electrónico del cliente delimitado por ```, genera una respuesta para agradecer al cliente por su reseña.\n",
    "Si el sentimiento es positivo o neutral, agradéceles por su reseña.\n",
    "Si el sentimiento es negativo, discúlpate y sugiere que pueden comunicarse con el servicio al cliente.\n",
    "Asegúrate de usar detalles específicos de la reseña.\n",
    "Escribe en un tono conciso y profesional.\n",
    "Firma el correo electrónico como `Agente de servicio al cliente de IA`.\n",
    "Reseña del cliente: ```{review}```\n",
    "Sentimiento de la reseña: {sentiment}\n",
    "\"\"\"\n",
    "response = get_completion(prompt)\n",
    "display(Markdown(f\"### Respuesta de GPT\\n{response}\"))\n",
    "print(\"\\n---------------------------------------------\\n\")\n",
    "display(Markdown(f\"### Respuesta de LLAMA\\n{preguntar_llama('Eres un asistente de IA cuyo trabajo es responder a lo que te está pidiendo el usuario de la forma más fiel al prompt sin preámbulos explicativos ni resúmenes finales.', prompt)}\"))"
   ]
  },
  {
   "cell_type": "markdown",
   "metadata": {},
   "source": [
    "## Recordándole al modelo que utilice detalles del email del cliente"
   ]
  },
  {
   "cell_type": "code",
   "execution_count": 4,
   "metadata": {},
   "outputs": [
    {
     "data": {
      "text/markdown": [
       "### Respuesta de GPT\n",
       "Estimado Alfonso,\n",
       "\n",
       "Gracias por tomarte el tiempo de compartir tu experiencia con la licuadora que adquiriste en nuestra tienda. Lamentamos escuchar que no cumplió completamente tus expectativas y que experimentaste problemas con su funcionamiento.\n",
       "\n",
       "Nos disculpamos por las molestias ocasionadas por la falta de potencia de la licuadora, así como por los problemas con la tapa y el sobrecalentamiento que mencionaste. También lamentamos la situación con el cambio de precios en nuestros productos y la disminución en la calidad percibida.\n",
       "\n",
       "Apreciamos tus comentarios detallados y tu consejo sobre el uso de frutas y verduras congeladas para los batidos. Tus observaciones son muy valiosas para nosotros y las tendremos en cuenta mientras trabajamos en mejorar nuestros productos y servicios.\n",
       "\n",
       "Si necesitas alguna asistencia adicional o deseas compartir más detalles sobre tu experiencia, por favor no dudes en contactarnos a través de nuestro servicio al cliente. Estamos aquí para ayudarte en lo que necesites.\n",
       "\n",
       "Agradecemos tu sinceridad y la oportunidad de mejorar nuestros productos. Valoramos tu lealtad como cliente y esperamos poder brindarte una mejor experiencia en el futuro.\n",
       "\n",
       "Atentamente,\n",
       "Agente de servicio al cliente de IA"
      ],
      "text/plain": [
       "<IPython.core.display.Markdown object>"
      ]
     },
     "metadata": {},
     "output_type": "display_data"
    },
    {
     "name": "stdout",
     "output_type": "stream",
     "text": [
      "\n",
      "---------------------------------------------\n",
      "\n"
     ]
    },
    {
     "data": {
      "text/markdown": [
       "### Respuesta de LLAMA\n",
       "Asunto: Agradezco su retroalimentación sobre nuestra licuadora\n",
       "\n",
       "Estimado Sr. Alfonso,\n",
       "\n",
       "Queremos expresar nuestro agradecimiento por haber tomado el tiempo de compartir su experiencia con nosotros sobre la licuadora que compró en nuestra tienda. Me entristece saber que no estuvo satisfecho con el rendimiento de la licuadora, especialmente con la potencia y la calidad de la tapa.\n",
       "\n",
       "Disculpamos cualquier incomodidad causada por el aumento de precio del sistema de piezas y lamentamos que no haya podido aprovechar plenamente su compra debido a la caducidad de la garantía. Estamos trabajando para mejorar constantemente nuestros productos y servicios.\n",
       "\n",
       "Agradezco también sus sugerencias prácticas para mejorar el uso de la licuadora, como cortar finamente y congelar las frutas y verduras antes de hacer batidos. Estas recomendaciones serán útiles para otros clientes.\n",
       "\n",
       "Gracias nuevamente por su retroalimentación. Si necesita ayuda adicional o tiene alguna pregunta, por favor no dude en ponerse en contacto con nuestro servicio al cliente.\n",
       "\n",
       "Atentamente,\n",
       "Agente de servicio al cliente de IA"
      ],
      "text/plain": [
       "<IPython.core.display.Markdown object>"
      ]
     },
     "metadata": {},
     "output_type": "display_data"
    }
   ],
   "source": [
    "prompt = f\"\"\"\n",
    "Eres un asistente de IA de servicio al cliente.\n",
    "Tu tarea es enviar una respuesta por correo electrónico a un cliente valioso.\n",
    "Dado el correo electrónico del cliente delimitado por ```, genera una respuesta para agradecer al cliente por su reseña.\n",
    "Si el sentimiento es positivo o neutral, agradéceles por su reseña.\n",
    "Si el sentimiento es negativo, discúlpate y sugiere que pueden comunicarse con el servicio al cliente.\n",
    "Asegúrate de usar detalles específicos de la reseña para que la respuesta no sea tan robótica.\n",
    "Escribe en un tono conciso y profesional.\n",
    "Firma el correo electrónico como `Agente de servicio al cliente de IA`.\n",
    "Reseña del cliente: ```{review}```\n",
    "Sentimiento de la reseña: {sentiment}\n",
    "\"\"\"\n",
    "response = get_completion(prompt, temperature=1)\n",
    "display(Markdown(f\"### Respuesta de GPT\\n{response}\"))\n",
    "print(\"\\n---------------------------------------------\\n\")\n",
    "display(Markdown(f\"### Respuesta de LLAMA\\n{preguntar_llama('Eres un asistente de IA cuyo trabajo es responder a lo que te está pidiendo el usuario de la forma más fiel al prompt sin preámbulos explicativos ni resúmenes finales.', prompt)}\"))"
   ]
  }
 ],
 "metadata": {
  "kernelspec": {
   "display_name": "venv",
   "language": "python",
   "name": "python3"
  },
  "language_info": {
   "codemirror_mode": {
    "name": "ipython",
    "version": 3
   },
   "file_extension": ".py",
   "mimetype": "text/x-python",
   "name": "python",
   "nbconvert_exporter": "python",
   "pygments_lexer": "ipython3",
   "version": "3.11.2"
  }
 },
 "nbformat": 4,
 "nbformat_minor": 2
}
