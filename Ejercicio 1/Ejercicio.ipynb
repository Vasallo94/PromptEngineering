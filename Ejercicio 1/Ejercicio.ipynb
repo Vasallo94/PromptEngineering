{
 "cells": [
  {
   "cell_type": "markdown",
   "metadata": {},
   "source": [
    "# Ejercicio AirBnB"
   ]
  },
  {
   "cell_type": "markdown",
   "metadata": {},
   "source": [
    "En este cuaderno vamos a trabajar con un dataset de AirBnB de la ciudad de Oporto. Se puede encontrar más información sobre el dataset y otras implementaciones en [Porto](https://github.com/Vasallo94/Porto). \n",
    "\n",
    "El dataset contiene información sobre las características de las viviendas, su localización, el precio, el número de comentarios, etc.\n",
    "\n",
    "El objetivo de este ejercicio es poder analizar los comentarios de los usuarios mediante diferentes LLMs (GPT y LLAMA) y poder extraer información relevante de los mismos para su análisis posterior."
   ]
  },
  {
   "cell_type": "markdown",
   "metadata": {},
   "source": [
    "## Primera parte\n",
    "\n",
    "Vamos a utilizar el archivo listings1_cleaned.csv que contiene información sobre las viviendas de AirBnB en Oporto."
   ]
  },
  {
   "cell_type": "code",
   "execution_count": 1,
   "metadata": {},
   "outputs": [],
   "source": [
    "\n",
    "import pandas as pd\n",
    "import sys\n",
    "sys.path.append('../utils/')\n",
    "from funciones import preguntar_llama, preguntar_gpt\n",
    "import json"
   ]
  },
  {
   "cell_type": "code",
   "execution_count": 2,
   "metadata": {},
   "outputs": [
    {
     "data": {
      "text/html": [
       "<div>\n",
       "<style scoped>\n",
       "    .dataframe tbody tr th:only-of-type {\n",
       "        vertical-align: middle;\n",
       "    }\n",
       "\n",
       "    .dataframe tbody tr th {\n",
       "        vertical-align: top;\n",
       "    }\n",
       "\n",
       "    .dataframe thead th {\n",
       "        text-align: right;\n",
       "    }\n",
       "</style>\n",
       "<table border=\"1\" class=\"dataframe\">\n",
       "  <thead>\n",
       "    <tr style=\"text-align: right;\">\n",
       "      <th></th>\n",
       "      <th>listing_id</th>\n",
       "      <th>listing_url</th>\n",
       "      <th>picture_url</th>\n",
       "      <th>name</th>\n",
       "      <th>description</th>\n",
       "      <th>host_id</th>\n",
       "      <th>host_name</th>\n",
       "      <th>host_since</th>\n",
       "      <th>host_response_rate</th>\n",
       "      <th>host_acceptance_rate</th>\n",
       "      <th>...</th>\n",
       "      <th>review_scores_rating</th>\n",
       "      <th>review_scores_cleanliness</th>\n",
       "      <th>review_scores_checkin</th>\n",
       "      <th>review_scores_communication</th>\n",
       "      <th>review_scores_location</th>\n",
       "      <th>reviews_per_month</th>\n",
       "      <th>availability_365</th>\n",
       "      <th>has_availability</th>\n",
       "      <th>last_review</th>\n",
       "      <th>geographical_group</th>\n",
       "    </tr>\n",
       "  </thead>\n",
       "  <tbody>\n",
       "    <tr>\n",
       "      <th>0</th>\n",
       "      <td>2.905900e+04</td>\n",
       "      <td>https://www.airbnb.com/rooms/29059</td>\n",
       "      <td>https://a0.muscache.com/pictures/736399/fa6c31...</td>\n",
       "      <td>Lovely studio Quartier Latin</td>\n",
       "      <td>CITQ 267153&lt;br /&gt;Lovely studio with 1 closed r...</td>\n",
       "      <td>125031.0</td>\n",
       "      <td>Maryline</td>\n",
       "      <td>2010-05-14</td>\n",
       "      <td>100.000000</td>\n",
       "      <td>98.000000</td>\n",
       "      <td>...</td>\n",
       "      <td>4.670000</td>\n",
       "      <td>4.620000</td>\n",
       "      <td>4.810000</td>\n",
       "      <td>4.770000</td>\n",
       "      <td>4.820000</td>\n",
       "      <td>2.69000</td>\n",
       "      <td>302.0</td>\n",
       "      <td>t</td>\n",
       "      <td>2024-03-16</td>\n",
       "      <td>Central</td>\n",
       "    </tr>\n",
       "    <tr>\n",
       "      <th>1</th>\n",
       "      <td>2.906100e+04</td>\n",
       "      <td>https://www.airbnb.com/rooms/29061</td>\n",
       "      <td>https://a0.muscache.com/pictures/9e59d417-4b6a...</td>\n",
       "      <td>Maison historique - Quartier Latin</td>\n",
       "      <td>Lovely historic house with plenty of period ch...</td>\n",
       "      <td>125031.0</td>\n",
       "      <td>Maryline</td>\n",
       "      <td>2010-05-14</td>\n",
       "      <td>100.000000</td>\n",
       "      <td>98.000000</td>\n",
       "      <td>...</td>\n",
       "      <td>4.730000</td>\n",
       "      <td>4.660000</td>\n",
       "      <td>4.880000</td>\n",
       "      <td>4.810000</td>\n",
       "      <td>4.870000</td>\n",
       "      <td>0.88000</td>\n",
       "      <td>348.0</td>\n",
       "      <td>t</td>\n",
       "      <td>2024-02-19</td>\n",
       "      <td>Central</td>\n",
       "    </tr>\n",
       "    <tr>\n",
       "      <th>2</th>\n",
       "      <td>3.630100e+04</td>\n",
       "      <td>https://www.airbnb.com/rooms/36301</td>\n",
       "      <td>https://a0.muscache.com/pictures/26c20544-475f...</td>\n",
       "      <td>Romantic &amp; peaceful Plateau  loft</td>\n",
       "      <td>Enjoy the best of Montreal  in this romantic, ...</td>\n",
       "      <td>381468.0</td>\n",
       "      <td>Sylvie</td>\n",
       "      <td>2011-02-07</td>\n",
       "      <td>94.000000</td>\n",
       "      <td>80.000000</td>\n",
       "      <td>...</td>\n",
       "      <td>4.860000</td>\n",
       "      <td>4.860000</td>\n",
       "      <td>4.920000</td>\n",
       "      <td>4.900000</td>\n",
       "      <td>4.880000</td>\n",
       "      <td>0.47000</td>\n",
       "      <td>81.0</td>\n",
       "      <td>t</td>\n",
       "      <td>2024-01-07</td>\n",
       "      <td>Central</td>\n",
       "    </tr>\n",
       "    <tr>\n",
       "      <th>3</th>\n",
       "      <td>3.811800e+04</td>\n",
       "      <td>https://www.airbnb.com/rooms/38118</td>\n",
       "      <td>https://a0.muscache.com/pictures/213997/763ec1...</td>\n",
       "      <td>Beautiful room  with a balcony in front of a parc</td>\n",
       "      <td>Nearest metro Papineau.</td>\n",
       "      <td>163569.0</td>\n",
       "      <td>M.</td>\n",
       "      <td>2010-07-11</td>\n",
       "      <td>78.000000</td>\n",
       "      <td>0.000000</td>\n",
       "      <td>...</td>\n",
       "      <td>4.500000</td>\n",
       "      <td>4.250000</td>\n",
       "      <td>4.810000</td>\n",
       "      <td>4.810000</td>\n",
       "      <td>4.630000</td>\n",
       "      <td>0.10000</td>\n",
       "      <td>299.0</td>\n",
       "      <td>t</td>\n",
       "      <td>2022-08-29</td>\n",
       "      <td>Central</td>\n",
       "    </tr>\n",
       "    <tr>\n",
       "      <th>4</th>\n",
       "      <td>5.047900e+04</td>\n",
       "      <td>https://www.airbnb.com/rooms/50479</td>\n",
       "      <td>https://a0.muscache.com/pictures/miso/Hosting-...</td>\n",
       "      <td>L'Arcade Douce</td>\n",
       "      <td>The appartement is sunny and ideally situated ...</td>\n",
       "      <td>231694.0</td>\n",
       "      <td>Noemie</td>\n",
       "      <td>2010-09-11</td>\n",
       "      <td>100.000000</td>\n",
       "      <td>100.000000</td>\n",
       "      <td>...</td>\n",
       "      <td>4.950000</td>\n",
       "      <td>4.940000</td>\n",
       "      <td>4.970000</td>\n",
       "      <td>4.980000</td>\n",
       "      <td>4.840000</td>\n",
       "      <td>1.60000</td>\n",
       "      <td>0.0</td>\n",
       "      <td>t</td>\n",
       "      <td>2024-03-18</td>\n",
       "      <td>South</td>\n",
       "    </tr>\n",
       "    <tr>\n",
       "      <th>...</th>\n",
       "      <td>...</td>\n",
       "      <td>...</td>\n",
       "      <td>...</td>\n",
       "      <td>...</td>\n",
       "      <td>...</td>\n",
       "      <td>...</td>\n",
       "      <td>...</td>\n",
       "      <td>...</td>\n",
       "      <td>...</td>\n",
       "      <td>...</td>\n",
       "      <td>...</td>\n",
       "      <td>...</td>\n",
       "      <td>...</td>\n",
       "      <td>...</td>\n",
       "      <td>...</td>\n",
       "      <td>...</td>\n",
       "      <td>...</td>\n",
       "      <td>...</td>\n",
       "      <td>...</td>\n",
       "      <td>...</td>\n",
       "      <td>...</td>\n",
       "    </tr>\n",
       "    <tr>\n",
       "      <th>8135</th>\n",
       "      <td>1.116753e+18</td>\n",
       "      <td>https://www.airbnb.com/rooms/1116753448972266015</td>\n",
       "      <td>https://a0.muscache.com/pictures/miso/Hosting-...</td>\n",
       "      <td>Logement ,1 chambre 04 personnes</td>\n",
       "      <td>If you are looking for a beautiful cozy and we...</td>\n",
       "      <td>429774011.0</td>\n",
       "      <td>Ammar</td>\n",
       "      <td>2021-10-31</td>\n",
       "      <td>96.922347</td>\n",
       "      <td>89.203748</td>\n",
       "      <td>...</td>\n",
       "      <td>4.715698</td>\n",
       "      <td>4.692737</td>\n",
       "      <td>4.814562</td>\n",
       "      <td>4.812302</td>\n",
       "      <td>4.768682</td>\n",
       "      <td>1.70759</td>\n",
       "      <td>257.0</td>\n",
       "      <td>t</td>\n",
       "      <td>NaN</td>\n",
       "      <td>North</td>\n",
       "    </tr>\n",
       "    <tr>\n",
       "      <th>8136</th>\n",
       "      <td>1.116820e+18</td>\n",
       "      <td>https://www.airbnb.com/rooms/1116820020797670135</td>\n",
       "      <td>https://a0.muscache.com/pictures/miso/Hosting-...</td>\n",
       "      <td>Superbe maison à Montréal</td>\n",
       "      <td>Beautiful entire place in the heart of Montreal</td>\n",
       "      <td>126764590.0</td>\n",
       "      <td>Samuel</td>\n",
       "      <td>2017-04-20</td>\n",
       "      <td>96.922347</td>\n",
       "      <td>89.203748</td>\n",
       "      <td>...</td>\n",
       "      <td>4.715698</td>\n",
       "      <td>4.692737</td>\n",
       "      <td>4.814562</td>\n",
       "      <td>4.812302</td>\n",
       "      <td>4.768682</td>\n",
       "      <td>1.70759</td>\n",
       "      <td>269.0</td>\n",
       "      <td>t</td>\n",
       "      <td>NaN</td>\n",
       "      <td>East</td>\n",
       "    </tr>\n",
       "    <tr>\n",
       "      <th>8137</th>\n",
       "      <td>1.117028e+18</td>\n",
       "      <td>https://www.airbnb.com/rooms/1117028063118176710</td>\n",
       "      <td>https://a0.muscache.com/pictures/miso/Hosting-...</td>\n",
       "      <td>Luxurious 2BR - Downtown Montreal</td>\n",
       "      <td>Feel at home at these brand new construction C...</td>\n",
       "      <td>159008278.0</td>\n",
       "      <td>Melissa</td>\n",
       "      <td>2017-11-16</td>\n",
       "      <td>100.000000</td>\n",
       "      <td>100.000000</td>\n",
       "      <td>...</td>\n",
       "      <td>4.715698</td>\n",
       "      <td>4.692737</td>\n",
       "      <td>4.814562</td>\n",
       "      <td>4.812302</td>\n",
       "      <td>4.768682</td>\n",
       "      <td>1.70759</td>\n",
       "      <td>156.0</td>\n",
       "      <td>t</td>\n",
       "      <td>NaN</td>\n",
       "      <td>Central</td>\n",
       "    </tr>\n",
       "    <tr>\n",
       "      <th>8138</th>\n",
       "      <td>1.117273e+18</td>\n",
       "      <td>https://www.airbnb.com/rooms/1117273423317641658</td>\n",
       "      <td>https://a0.muscache.com/pictures/miso/Hosting-...</td>\n",
       "      <td>Magnifique appart Plateau</td>\n",
       "      <td>Fully renovated condo style apartment, beautif...</td>\n",
       "      <td>214303569.0</td>\n",
       "      <td>Jean-Georges</td>\n",
       "      <td>2018-09-08</td>\n",
       "      <td>100.000000</td>\n",
       "      <td>93.000000</td>\n",
       "      <td>...</td>\n",
       "      <td>4.715698</td>\n",
       "      <td>4.692737</td>\n",
       "      <td>4.814562</td>\n",
       "      <td>4.812302</td>\n",
       "      <td>4.768682</td>\n",
       "      <td>1.70759</td>\n",
       "      <td>192.0</td>\n",
       "      <td>t</td>\n",
       "      <td>NaN</td>\n",
       "      <td>Central</td>\n",
       "    </tr>\n",
       "    <tr>\n",
       "      <th>8139</th>\n",
       "      <td>1.118138e+18</td>\n",
       "      <td>https://www.airbnb.com/rooms/1118138226258202248</td>\n",
       "      <td>https://a0.muscache.com/pictures/prohost-api/H...</td>\n",
       "      <td>#327 Cozy &amp; Stylish 1 Bedroom Plateau Mont-Royal</td>\n",
       "      <td>Stylish furnished apartment in Plateau Mont-Ro...</td>\n",
       "      <td>195649860.0</td>\n",
       "      <td>Jean-Christoph</td>\n",
       "      <td>2018-06-14</td>\n",
       "      <td>97.000000</td>\n",
       "      <td>61.000000</td>\n",
       "      <td>...</td>\n",
       "      <td>4.715698</td>\n",
       "      <td>4.692737</td>\n",
       "      <td>4.814562</td>\n",
       "      <td>4.812302</td>\n",
       "      <td>4.768682</td>\n",
       "      <td>1.70759</td>\n",
       "      <td>292.0</td>\n",
       "      <td>t</td>\n",
       "      <td>NaN</td>\n",
       "      <td>Central</td>\n",
       "    </tr>\n",
       "  </tbody>\n",
       "</table>\n",
       "<p>8140 rows × 37 columns</p>\n",
       "</div>"
      ],
      "text/plain": [
       "        listing_id                                       listing_url  \\\n",
       "0     2.905900e+04                https://www.airbnb.com/rooms/29059   \n",
       "1     2.906100e+04                https://www.airbnb.com/rooms/29061   \n",
       "2     3.630100e+04                https://www.airbnb.com/rooms/36301   \n",
       "3     3.811800e+04                https://www.airbnb.com/rooms/38118   \n",
       "4     5.047900e+04                https://www.airbnb.com/rooms/50479   \n",
       "...            ...                                               ...   \n",
       "8135  1.116753e+18  https://www.airbnb.com/rooms/1116753448972266015   \n",
       "8136  1.116820e+18  https://www.airbnb.com/rooms/1116820020797670135   \n",
       "8137  1.117028e+18  https://www.airbnb.com/rooms/1117028063118176710   \n",
       "8138  1.117273e+18  https://www.airbnb.com/rooms/1117273423317641658   \n",
       "8139  1.118138e+18  https://www.airbnb.com/rooms/1118138226258202248   \n",
       "\n",
       "                                            picture_url  \\\n",
       "0     https://a0.muscache.com/pictures/736399/fa6c31...   \n",
       "1     https://a0.muscache.com/pictures/9e59d417-4b6a...   \n",
       "2     https://a0.muscache.com/pictures/26c20544-475f...   \n",
       "3     https://a0.muscache.com/pictures/213997/763ec1...   \n",
       "4     https://a0.muscache.com/pictures/miso/Hosting-...   \n",
       "...                                                 ...   \n",
       "8135  https://a0.muscache.com/pictures/miso/Hosting-...   \n",
       "8136  https://a0.muscache.com/pictures/miso/Hosting-...   \n",
       "8137  https://a0.muscache.com/pictures/miso/Hosting-...   \n",
       "8138  https://a0.muscache.com/pictures/miso/Hosting-...   \n",
       "8139  https://a0.muscache.com/pictures/prohost-api/H...   \n",
       "\n",
       "                                                   name  \\\n",
       "0                          Lovely studio Quartier Latin   \n",
       "1                    Maison historique - Quartier Latin   \n",
       "2                     Romantic & peaceful Plateau  loft   \n",
       "3     Beautiful room  with a balcony in front of a parc   \n",
       "4                                        L'Arcade Douce   \n",
       "...                                                 ...   \n",
       "8135                   Logement ,1 chambre 04 personnes   \n",
       "8136                          Superbe maison à Montréal   \n",
       "8137                  Luxurious 2BR - Downtown Montreal   \n",
       "8138                          Magnifique appart Plateau   \n",
       "8139   #327 Cozy & Stylish 1 Bedroom Plateau Mont-Royal   \n",
       "\n",
       "                                            description      host_id  \\\n",
       "0     CITQ 267153<br />Lovely studio with 1 closed r...     125031.0   \n",
       "1     Lovely historic house with plenty of period ch...     125031.0   \n",
       "2     Enjoy the best of Montreal  in this romantic, ...     381468.0   \n",
       "3                               Nearest metro Papineau.     163569.0   \n",
       "4     The appartement is sunny and ideally situated ...     231694.0   \n",
       "...                                                 ...          ...   \n",
       "8135  If you are looking for a beautiful cozy and we...  429774011.0   \n",
       "8136    Beautiful entire place in the heart of Montreal  126764590.0   \n",
       "8137  Feel at home at these brand new construction C...  159008278.0   \n",
       "8138  Fully renovated condo style apartment, beautif...  214303569.0   \n",
       "8139  Stylish furnished apartment in Plateau Mont-Ro...  195649860.0   \n",
       "\n",
       "           host_name  host_since  host_response_rate  host_acceptance_rate  \\\n",
       "0           Maryline  2010-05-14          100.000000             98.000000   \n",
       "1           Maryline  2010-05-14          100.000000             98.000000   \n",
       "2             Sylvie  2011-02-07           94.000000             80.000000   \n",
       "3                 M.  2010-07-11           78.000000              0.000000   \n",
       "4             Noemie  2010-09-11          100.000000            100.000000   \n",
       "...              ...         ...                 ...                   ...   \n",
       "8135           Ammar  2021-10-31           96.922347             89.203748   \n",
       "8136          Samuel  2017-04-20           96.922347             89.203748   \n",
       "8137         Melissa  2017-11-16          100.000000            100.000000   \n",
       "8138    Jean-Georges  2018-09-08          100.000000             93.000000   \n",
       "8139  Jean-Christoph  2018-06-14           97.000000             61.000000   \n",
       "\n",
       "      ...  review_scores_rating  review_scores_cleanliness  \\\n",
       "0     ...              4.670000                   4.620000   \n",
       "1     ...              4.730000                   4.660000   \n",
       "2     ...              4.860000                   4.860000   \n",
       "3     ...              4.500000                   4.250000   \n",
       "4     ...              4.950000                   4.940000   \n",
       "...   ...                   ...                        ...   \n",
       "8135  ...              4.715698                   4.692737   \n",
       "8136  ...              4.715698                   4.692737   \n",
       "8137  ...              4.715698                   4.692737   \n",
       "8138  ...              4.715698                   4.692737   \n",
       "8139  ...              4.715698                   4.692737   \n",
       "\n",
       "      review_scores_checkin review_scores_communication  \\\n",
       "0                  4.810000                    4.770000   \n",
       "1                  4.880000                    4.810000   \n",
       "2                  4.920000                    4.900000   \n",
       "3                  4.810000                    4.810000   \n",
       "4                  4.970000                    4.980000   \n",
       "...                     ...                         ...   \n",
       "8135               4.814562                    4.812302   \n",
       "8136               4.814562                    4.812302   \n",
       "8137               4.814562                    4.812302   \n",
       "8138               4.814562                    4.812302   \n",
       "8139               4.814562                    4.812302   \n",
       "\n",
       "      review_scores_location  reviews_per_month availability_365  \\\n",
       "0                   4.820000            2.69000            302.0   \n",
       "1                   4.870000            0.88000            348.0   \n",
       "2                   4.880000            0.47000             81.0   \n",
       "3                   4.630000            0.10000            299.0   \n",
       "4                   4.840000            1.60000              0.0   \n",
       "...                      ...                ...              ...   \n",
       "8135                4.768682            1.70759            257.0   \n",
       "8136                4.768682            1.70759            269.0   \n",
       "8137                4.768682            1.70759            156.0   \n",
       "8138                4.768682            1.70759            192.0   \n",
       "8139                4.768682            1.70759            292.0   \n",
       "\n",
       "     has_availability  last_review  geographical_group  \n",
       "0                   t   2024-03-16             Central  \n",
       "1                   t   2024-02-19             Central  \n",
       "2                   t   2024-01-07             Central  \n",
       "3                   t   2022-08-29             Central  \n",
       "4                   t   2024-03-18               South  \n",
       "...               ...          ...                 ...  \n",
       "8135                t          NaN               North  \n",
       "8136                t          NaN                East  \n",
       "8137                t          NaN             Central  \n",
       "8138                t          NaN             Central  \n",
       "8139                t          NaN             Central  \n",
       "\n",
       "[8140 rows x 37 columns]"
      ]
     },
     "execution_count": 2,
     "metadata": {},
     "output_type": "execute_result"
    }
   ],
   "source": [
    "data = pd.read_csv(\"listings1_cleaned.csv\")\n",
    "data"
   ]
  },
  {
   "cell_type": "code",
   "execution_count": 3,
   "metadata": {},
   "outputs": [
    {
     "name": "stderr",
     "output_type": "stream",
     "text": [
      "/var/folders/l7/2cl9nrjs74bc3y72c8n3j2k80000gp/T/ipykernel_38233/2643287345.py:2: SettingWithCopyWarning: \n",
      "A value is trying to be set on a copy of a slice from a DataFrame.\n",
      "Try using .loc[row_indexer,col_indexer] = value instead\n",
      "\n",
      "See the caveats in the documentation: https://pandas.pydata.org/pandas-docs/stable/user_guide/indexing.html#returning-a-view-versus-a-copy\n",
      "  data[\"text\"] = data[\"name\"].fillna(\"\") + \"\\n\" + data[\"description\"].fillna(\"\")\n"
     ]
    },
    {
     "data": {
      "text/html": [
       "<div>\n",
       "<style scoped>\n",
       "    .dataframe tbody tr th:only-of-type {\n",
       "        vertical-align: middle;\n",
       "    }\n",
       "\n",
       "    .dataframe tbody tr th {\n",
       "        vertical-align: top;\n",
       "    }\n",
       "\n",
       "    .dataframe thead th {\n",
       "        text-align: right;\n",
       "    }\n",
       "</style>\n",
       "<table border=\"1\" class=\"dataframe\">\n",
       "  <thead>\n",
       "    <tr style=\"text-align: right;\">\n",
       "      <th></th>\n",
       "      <th>listing_id</th>\n",
       "      <th>name</th>\n",
       "      <th>description</th>\n",
       "      <th>text</th>\n",
       "      <th>gpt_response</th>\n",
       "    </tr>\n",
       "  </thead>\n",
       "  <tbody>\n",
       "    <tr>\n",
       "      <th>1750</th>\n",
       "      <td>3.575908e+07</td>\n",
       "      <td>Bright flat in Montreal - Appartement lumineux</td>\n",
       "      <td>Bright 2 bedroom flat in a friendly and authen...</td>\n",
       "      <td>Bright flat in Montreal - Appartement lumineux...</td>\n",
       "      <td>```json\\n{\\n    \"Name\": \"Bright flat in Montre...</td>\n",
       "    </tr>\n",
       "    <tr>\n",
       "      <th>66</th>\n",
       "      <td>6.375330e+05</td>\n",
       "      <td>Charming Downtown Montreal</td>\n",
       "      <td>Charm &amp; standing for your stay in Montreal&lt;br ...</td>\n",
       "      <td>Charming Downtown Montreal\\nCharm &amp; standing f...</td>\n",
       "      <td>{\\n    \"Name\": \"Charming Downtown Montreal\",\\n...</td>\n",
       "    </tr>\n",
       "    <tr>\n",
       "      <th>4598</th>\n",
       "      <td>7.822780e+17</td>\n",
       "      <td>Stunning 2BR - Old Montreal 2A</td>\n",
       "      <td>Welcome to Hotel Le Moyne; Experience the allu...</td>\n",
       "      <td>Stunning 2BR - Old Montreal 2A\\nWelcome to Hot...</td>\n",
       "      <td>```json\\n{\\n    \"Name\": \"Hotel Le Moyne\",\\n   ...</td>\n",
       "    </tr>\n",
       "  </tbody>\n",
       "</table>\n",
       "</div>"
      ],
      "text/plain": [
       "        listing_id                                            name  \\\n",
       "1750  3.575908e+07  Bright flat in Montreal - Appartement lumineux   \n",
       "66    6.375330e+05                      Charming Downtown Montreal   \n",
       "4598  7.822780e+17                  Stunning 2BR - Old Montreal 2A   \n",
       "\n",
       "                                            description  \\\n",
       "1750  Bright 2 bedroom flat in a friendly and authen...   \n",
       "66    Charm & standing for your stay in Montreal<br ...   \n",
       "4598  Welcome to Hotel Le Moyne; Experience the allu...   \n",
       "\n",
       "                                                   text  \\\n",
       "1750  Bright flat in Montreal - Appartement lumineux...   \n",
       "66    Charming Downtown Montreal\\nCharm & standing f...   \n",
       "4598  Stunning 2BR - Old Montreal 2A\\nWelcome to Hot...   \n",
       "\n",
       "                                           gpt_response  \n",
       "1750  ```json\\n{\\n    \"Name\": \"Bright flat in Montre...  \n",
       "66    {\\n    \"Name\": \"Charming Downtown Montreal\",\\n...  \n",
       "4598  ```json\\n{\\n    \"Name\": \"Hotel Le Moyne\",\\n   ...  "
      ]
     },
     "execution_count": 3,
     "metadata": {},
     "output_type": "execute_result"
    }
   ],
   "source": [
    "data = data[[\"listing_id\", \"name\", \"description\"]]\n",
    "data[\"text\"] = data[\"name\"].fillna(\"\") + \"\\n\" + data[\"description\"].fillna(\"\")\n",
    "data = data.sample(3, random_state=10)\n",
    "\n",
    "llama_responses = {}\n",
    "\n",
    "prompt_template = \"\"\"\n",
    "Vas a analizar los comentarios de unos alojamientos turísticos. \n",
    "Se te va a proporcionar una serie de textos que has de analizar y clasificar en un json con la siguiente estructura:\n",
    "```json\n",
    "{\n",
    "    \"Name\": str,\n",
    "    \"Location\": str,\n",
    "    \"MainCharacteristic\": str,\n",
    "    \"Type\": str,\n",
    "    \n",
    "}\n",
    "```\n",
    "Donde:\n",
    "- Name: Nombre del alojamiento.\n",
    "- Location: Ubicación del alojamiento.\n",
    "- MainCharacteristic: Característica principal del alojamiento.\n",
    "- Type: Tipo de alojamiento.\n",
    "Analiza el siguiente texto y clasifícalo en el json correspondiente: \n",
    "```\n",
    "{{text}}\n",
    "```\n",
    "\"\"\"\n",
    "for index, row in data.iterrows():\n",
    "    text = str(row[\"text\"])\n",
    "    listing_id = row[\"listing_id\"]\n",
    "\n",
    "    prompt = prompt_template.replace(\"{{text}}\", text)\n",
    "    # Cambiar a preguntar_gpt para utilizar OpenAI\n",
    "    llama_response = preguntar_gpt(\n",
    "        \"Eres un asistente de IA cuyo trabajo es responder a lo que te está pidiendo el usuario de la forma más fiel al prompt sin preámbulos explicativos ni resúmenes finales.\",\n",
    "        prompt,\n",
    "    )\n",
    "    if llama_response is not None:\n",
    "        llama_responses[listing_id] = llama_response\n",
    "    else:\n",
    "        print(f\"No se pudo obtener una respuesta para el listing_id: {listing_id}\")\n",
    "\n",
    "data[\"gpt_response\"] = data[\"listing_id\"].map(llama_responses)\n",
    "data"
   ]
  },
  {
   "cell_type": "code",
   "execution_count": 4,
   "metadata": {},
   "outputs": [],
   "source": [
    "data.to_csv('Airbnb_gpt_15responses.csv', index=False)"
   ]
  },
  {
   "cell_type": "code",
   "execution_count": 5,
   "metadata": {},
   "outputs": [],
   "source": [
    "data = pd.read_csv('Airbnb_gpt_15responses.csv')"
   ]
  },
  {
   "cell_type": "code",
   "execution_count": 6,
   "metadata": {},
   "outputs": [
    {
     "data": {
      "text/html": [
       "<div>\n",
       "<style scoped>\n",
       "    .dataframe tbody tr th:only-of-type {\n",
       "        vertical-align: middle;\n",
       "    }\n",
       "\n",
       "    .dataframe tbody tr th {\n",
       "        vertical-align: top;\n",
       "    }\n",
       "\n",
       "    .dataframe thead th {\n",
       "        text-align: right;\n",
       "    }\n",
       "</style>\n",
       "<table border=\"1\" class=\"dataframe\">\n",
       "  <thead>\n",
       "    <tr style=\"text-align: right;\">\n",
       "      <th></th>\n",
       "      <th>listing_id</th>\n",
       "      <th>name</th>\n",
       "      <th>description</th>\n",
       "      <th>text</th>\n",
       "      <th>gpt_response</th>\n",
       "    </tr>\n",
       "  </thead>\n",
       "  <tbody>\n",
       "    <tr>\n",
       "      <th>0</th>\n",
       "      <td>3.575908e+07</td>\n",
       "      <td>Bright flat in Montreal - Appartement lumineux</td>\n",
       "      <td>Bright 2 bedroom flat in a friendly and authen...</td>\n",
       "      <td>Bright flat in Montreal - Appartement lumineux...</td>\n",
       "      <td>```json\\n{\\n    \"Name\": \"Bright flat in Montre...</td>\n",
       "    </tr>\n",
       "    <tr>\n",
       "      <th>1</th>\n",
       "      <td>6.375330e+05</td>\n",
       "      <td>Charming Downtown Montreal</td>\n",
       "      <td>Charm &amp; standing for your stay in Montreal&lt;br ...</td>\n",
       "      <td>Charming Downtown Montreal\\nCharm &amp; standing f...</td>\n",
       "      <td>{\\n    \"Name\": \"Charming Downtown Montreal\",\\n...</td>\n",
       "    </tr>\n",
       "    <tr>\n",
       "      <th>2</th>\n",
       "      <td>7.822780e+17</td>\n",
       "      <td>Stunning 2BR - Old Montreal 2A</td>\n",
       "      <td>Welcome to Hotel Le Moyne; Experience the allu...</td>\n",
       "      <td>Stunning 2BR - Old Montreal 2A\\nWelcome to Hot...</td>\n",
       "      <td>```json\\n{\\n    \"Name\": \"Hotel Le Moyne\",\\n   ...</td>\n",
       "    </tr>\n",
       "  </tbody>\n",
       "</table>\n",
       "</div>"
      ],
      "text/plain": [
       "     listing_id                                            name  \\\n",
       "0  3.575908e+07  Bright flat in Montreal - Appartement lumineux   \n",
       "1  6.375330e+05                      Charming Downtown Montreal   \n",
       "2  7.822780e+17                  Stunning 2BR - Old Montreal 2A   \n",
       "\n",
       "                                         description  \\\n",
       "0  Bright 2 bedroom flat in a friendly and authen...   \n",
       "1  Charm & standing for your stay in Montreal<br ...   \n",
       "2  Welcome to Hotel Le Moyne; Experience the allu...   \n",
       "\n",
       "                                                text  \\\n",
       "0  Bright flat in Montreal - Appartement lumineux...   \n",
       "1  Charming Downtown Montreal\\nCharm & standing f...   \n",
       "2  Stunning 2BR - Old Montreal 2A\\nWelcome to Hot...   \n",
       "\n",
       "                                        gpt_response  \n",
       "0  ```json\\n{\\n    \"Name\": \"Bright flat in Montre...  \n",
       "1  {\\n    \"Name\": \"Charming Downtown Montreal\",\\n...  \n",
       "2  ```json\\n{\\n    \"Name\": \"Hotel Le Moyne\",\\n   ...  "
      ]
     },
     "execution_count": 6,
     "metadata": {},
     "output_type": "execute_result"
    }
   ],
   "source": [
    "data"
   ]
  },
  {
   "cell_type": "code",
   "execution_count": 7,
   "metadata": {},
   "outputs": [
    {
     "data": {
      "text/html": [
       "<div>\n",
       "<style scoped>\n",
       "    .dataframe tbody tr th:only-of-type {\n",
       "        vertical-align: middle;\n",
       "    }\n",
       "\n",
       "    .dataframe tbody tr th {\n",
       "        vertical-align: top;\n",
       "    }\n",
       "\n",
       "    .dataframe thead th {\n",
       "        text-align: right;\n",
       "    }\n",
       "</style>\n",
       "<table border=\"1\" class=\"dataframe\">\n",
       "  <thead>\n",
       "    <tr style=\"text-align: right;\">\n",
       "      <th></th>\n",
       "      <th>listing_id</th>\n",
       "      <th>name</th>\n",
       "      <th>description</th>\n",
       "      <th>text</th>\n",
       "      <th>gpt_response</th>\n",
       "      <th>Name</th>\n",
       "      <th>Location</th>\n",
       "      <th>MainCharacteristic</th>\n",
       "      <th>Type</th>\n",
       "    </tr>\n",
       "  </thead>\n",
       "  <tbody>\n",
       "    <tr>\n",
       "      <th>0</th>\n",
       "      <td>3.575908e+07</td>\n",
       "      <td>Bright flat in Montreal - Appartement lumineux</td>\n",
       "      <td>Bright 2 bedroom flat in a friendly and authen...</td>\n",
       "      <td>Bright flat in Montreal - Appartement lumineux...</td>\n",
       "      <td>```json\\n{\\n    \"Name\": \"Bright flat in Montre...</td>\n",
       "      <td>Bright flat in Montreal - Appartement lumineux</td>\n",
       "      <td>Montreal</td>\n",
       "      <td>Bright 2 bedroom flat in a friendly and authen...</td>\n",
       "      <td>Apartment</td>\n",
       "    </tr>\n",
       "    <tr>\n",
       "      <th>1</th>\n",
       "      <td>6.375330e+05</td>\n",
       "      <td>Charming Downtown Montreal</td>\n",
       "      <td>Charm &amp; standing for your stay in Montreal&lt;br ...</td>\n",
       "      <td>Charming Downtown Montreal\\nCharm &amp; standing f...</td>\n",
       "      <td>{\\n    \"Name\": \"Charming Downtown Montreal\",\\n...</td>\n",
       "      <td>Charming Downtown Montreal</td>\n",
       "      <td>Montreal</td>\n",
       "      <td>Completely renovated apartments in a private m...</td>\n",
       "      <td>Tourist residence</td>\n",
       "    </tr>\n",
       "    <tr>\n",
       "      <th>2</th>\n",
       "      <td>7.822780e+17</td>\n",
       "      <td>Stunning 2BR - Old Montreal 2A</td>\n",
       "      <td>Welcome to Hotel Le Moyne; Experience the allu...</td>\n",
       "      <td>Stunning 2BR - Old Montreal 2A\\nWelcome to Hot...</td>\n",
       "      <td>```json\\n{\\n    \"Name\": \"Hotel Le Moyne\",\\n   ...</td>\n",
       "      <td>Hotel Le Moyne</td>\n",
       "      <td>Old Montreal</td>\n",
       "      <td>Breathtaking views of historical charm</td>\n",
       "      <td>2-bedroom apartment</td>\n",
       "    </tr>\n",
       "  </tbody>\n",
       "</table>\n",
       "</div>"
      ],
      "text/plain": [
       "     listing_id                                            name  \\\n",
       "0  3.575908e+07  Bright flat in Montreal - Appartement lumineux   \n",
       "1  6.375330e+05                      Charming Downtown Montreal   \n",
       "2  7.822780e+17                  Stunning 2BR - Old Montreal 2A   \n",
       "\n",
       "                                         description  \\\n",
       "0  Bright 2 bedroom flat in a friendly and authen...   \n",
       "1  Charm & standing for your stay in Montreal<br ...   \n",
       "2  Welcome to Hotel Le Moyne; Experience the allu...   \n",
       "\n",
       "                                                text  \\\n",
       "0  Bright flat in Montreal - Appartement lumineux...   \n",
       "1  Charming Downtown Montreal\\nCharm & standing f...   \n",
       "2  Stunning 2BR - Old Montreal 2A\\nWelcome to Hot...   \n",
       "\n",
       "                                        gpt_response  \\\n",
       "0  ```json\\n{\\n    \"Name\": \"Bright flat in Montre...   \n",
       "1  {\\n    \"Name\": \"Charming Downtown Montreal\",\\n...   \n",
       "2  ```json\\n{\\n    \"Name\": \"Hotel Le Moyne\",\\n   ...   \n",
       "\n",
       "                                             Name      Location  \\\n",
       "0  Bright flat in Montreal - Appartement lumineux      Montreal   \n",
       "1                      Charming Downtown Montreal      Montreal   \n",
       "2                                  Hotel Le Moyne  Old Montreal   \n",
       "\n",
       "                                  MainCharacteristic                 Type  \n",
       "0  Bright 2 bedroom flat in a friendly and authen...            Apartment  \n",
       "1  Completely renovated apartments in a private m...    Tourist residence  \n",
       "2             Breathtaking views of historical charm  2-bedroom apartment  "
      ]
     },
     "execution_count": 7,
     "metadata": {},
     "output_type": "execute_result"
    }
   ],
   "source": [
    "def process_json_response(json_str):\n",
    "    # Verificar si json_str es NaN\n",
    "    if json_str != json_str:  # Esta es una forma de verificar NaN en Python\n",
    "        return {\"error\": \"Input is NaN, cannot process.\"}\n",
    "\n",
    "    # Limpiar la entrada si está envuelta en bloques de código markdown\n",
    "    if json_str.startswith(\"```json\\n\") and json_str.endswith(\"```\"):\n",
    "        json_str = json_str[7:-3]  # Eliminar los marcadores de bloque de código\n",
    "\n",
    "    try:\n",
    "        # Intentar cargar el JSON\n",
    "        json_data = json.loads(json_str)\n",
    "        return json_data\n",
    "    except json.JSONDecodeError:\n",
    "        return {}\n",
    "\n",
    "\n",
    "# Aplicar la función a la columna 'gpt_response'\n",
    "data[\"processed_response\"] = data[\"gpt_response\"].apply(\n",
    "    process_json_response\n",
    ")  # Cambiar a 'gpt_response' si es necesario\n",
    "\n",
    "# Encontrar el primer elemento no vacío (que no sea {}) para determinar el orden de las claves\n",
    "first_valid_response = next((item for item in data[\"processed_response\"] if item), None)\n",
    "\n",
    "if first_valid_response:\n",
    "    # Obtener todas las claves únicas de los JSONs en el orden del primer elemento válido\n",
    "    ordered_keys = list(first_valid_response.keys())\n",
    "\n",
    "    # Crear nuevas columnas para cada clave, manteniendo el orden\n",
    "    for key in ordered_keys:\n",
    "        data[key] = data[\"processed_response\"].apply(lambda x: x.get(key, None))\n",
    "\n",
    "# Eliminar la columna temporal 'processed_response'\n",
    "data = data.drop(\"processed_response\", axis=1)\n",
    "\n",
    "data"
   ]
  },
  {
   "cell_type": "code",
   "execution_count": 8,
   "metadata": {},
   "outputs": [
    {
     "data": {
      "application/vnd.plotly.v1+json": {
       "config": {
        "plotlyServerURL": "https://plot.ly"
       },
       "data": [
        {
         "alignmentgroup": "True",
         "hovertemplate": "Name=%{x}<br>count=%{y}<extra></extra>",
         "legendgroup": "",
         "marker": {
          "color": "#636efa",
          "pattern": {
           "shape": ""
          }
         },
         "name": "",
         "offsetgroup": "",
         "orientation": "v",
         "showlegend": false,
         "textposition": "auto",
         "type": "bar",
         "x": [
          "Bright flat in Montreal - Appartement lumineux",
          "Charming Downtown Montreal",
          "Hotel Le Moyne"
         ],
         "xaxis": "x",
         "y": [
          1,
          1,
          1
         ],
         "yaxis": "y"
        },
        {
         "alignmentgroup": "True",
         "hovertemplate": "Location=%{x}<br>count=%{y}<extra></extra>",
         "legendgroup": "",
         "marker": {
          "color": "#636efa",
          "pattern": {
           "shape": ""
          }
         },
         "name": "",
         "offsetgroup": "",
         "orientation": "v",
         "showlegend": false,
         "textposition": "auto",
         "type": "bar",
         "x": [
          "Montreal",
          "Old Montreal"
         ],
         "xaxis": "x2",
         "y": [
          2,
          1
         ],
         "yaxis": "y2"
        },
        {
         "alignmentgroup": "True",
         "hovertemplate": "MainCharacteristic=%{x}<br>count=%{y}<extra></extra>",
         "legendgroup": "",
         "marker": {
          "color": "#636efa",
          "pattern": {
           "shape": ""
          }
         },
         "name": "",
         "offsetgroup": "",
         "orientation": "v",
         "showlegend": false,
         "textposition": "auto",
         "type": "bar",
         "x": [
          "Bright 2 bedroom flat in a friendly and authentic neighborhood",
          "Completely renovated apartments in a private mansion from 1870",
          "Breathtaking views of historical charm"
         ],
         "xaxis": "x3",
         "y": [
          1,
          1,
          1
         ],
         "yaxis": "y3"
        },
        {
         "alignmentgroup": "True",
         "hovertemplate": "Type=%{x}<br>count=%{y}<extra></extra>",
         "legendgroup": "",
         "marker": {
          "color": "#636efa",
          "pattern": {
           "shape": ""
          }
         },
         "name": "",
         "offsetgroup": "",
         "orientation": "v",
         "showlegend": false,
         "textposition": "auto",
         "type": "bar",
         "x": [
          "Apartment",
          "Tourist residence",
          "2-bedroom apartment"
         ],
         "xaxis": "x4",
         "y": [
          1,
          1,
          1
         ],
         "yaxis": "y4"
        }
       ],
       "layout": {
        "annotations": [
         {
          "font": {
           "size": 16
          },
          "showarrow": false,
          "text": "Name",
          "x": 0.5,
          "xanchor": "center",
          "xref": "paper",
          "y": 1.05,
          "yanchor": "bottom",
          "yref": "paper"
         },
         {
          "font": {
           "size": 16
          },
          "showarrow": false,
          "text": "Location",
          "x": 0.5,
          "xanchor": "center",
          "xref": "paper",
          "y": 0.7375,
          "yanchor": "bottom",
          "yref": "paper"
         },
         {
          "font": {
           "size": 16
          },
          "showarrow": false,
          "text": "MainCharacteristic",
          "x": 0.5,
          "xanchor": "center",
          "xref": "paper",
          "y": 0.425,
          "yanchor": "bottom",
          "yref": "paper"
         },
         {
          "font": {
           "size": 16
          },
          "showarrow": false,
          "text": "Type",
          "x": 0.5,
          "xanchor": "center",
          "xref": "paper",
          "y": 0.1125,
          "yanchor": "bottom",
          "yref": "paper"
         }
        ],
        "height": 2000,
        "margin": {
         "b": 100,
         "l": 50,
         "r": 50,
         "t": 50
        },
        "showlegend": false,
        "template": {
         "data": {
          "bar": [
           {
            "error_x": {
             "color": "#2a3f5f"
            },
            "error_y": {
             "color": "#2a3f5f"
            },
            "marker": {
             "line": {
              "color": "#E5ECF6",
              "width": 0.5
             },
             "pattern": {
              "fillmode": "overlay",
              "size": 10,
              "solidity": 0.2
             }
            },
            "type": "bar"
           }
          ],
          "barpolar": [
           {
            "marker": {
             "line": {
              "color": "#E5ECF6",
              "width": 0.5
             },
             "pattern": {
              "fillmode": "overlay",
              "size": 10,
              "solidity": 0.2
             }
            },
            "type": "barpolar"
           }
          ],
          "carpet": [
           {
            "aaxis": {
             "endlinecolor": "#2a3f5f",
             "gridcolor": "white",
             "linecolor": "white",
             "minorgridcolor": "white",
             "startlinecolor": "#2a3f5f"
            },
            "baxis": {
             "endlinecolor": "#2a3f5f",
             "gridcolor": "white",
             "linecolor": "white",
             "minorgridcolor": "white",
             "startlinecolor": "#2a3f5f"
            },
            "type": "carpet"
           }
          ],
          "choropleth": [
           {
            "colorbar": {
             "outlinewidth": 0,
             "ticks": ""
            },
            "type": "choropleth"
           }
          ],
          "contour": [
           {
            "colorbar": {
             "outlinewidth": 0,
             "ticks": ""
            },
            "colorscale": [
             [
              0,
              "#0d0887"
             ],
             [
              0.1111111111111111,
              "#46039f"
             ],
             [
              0.2222222222222222,
              "#7201a8"
             ],
             [
              0.3333333333333333,
              "#9c179e"
             ],
             [
              0.4444444444444444,
              "#bd3786"
             ],
             [
              0.5555555555555556,
              "#d8576b"
             ],
             [
              0.6666666666666666,
              "#ed7953"
             ],
             [
              0.7777777777777778,
              "#fb9f3a"
             ],
             [
              0.8888888888888888,
              "#fdca26"
             ],
             [
              1,
              "#f0f921"
             ]
            ],
            "type": "contour"
           }
          ],
          "contourcarpet": [
           {
            "colorbar": {
             "outlinewidth": 0,
             "ticks": ""
            },
            "type": "contourcarpet"
           }
          ],
          "heatmap": [
           {
            "colorbar": {
             "outlinewidth": 0,
             "ticks": ""
            },
            "colorscale": [
             [
              0,
              "#0d0887"
             ],
             [
              0.1111111111111111,
              "#46039f"
             ],
             [
              0.2222222222222222,
              "#7201a8"
             ],
             [
              0.3333333333333333,
              "#9c179e"
             ],
             [
              0.4444444444444444,
              "#bd3786"
             ],
             [
              0.5555555555555556,
              "#d8576b"
             ],
             [
              0.6666666666666666,
              "#ed7953"
             ],
             [
              0.7777777777777778,
              "#fb9f3a"
             ],
             [
              0.8888888888888888,
              "#fdca26"
             ],
             [
              1,
              "#f0f921"
             ]
            ],
            "type": "heatmap"
           }
          ],
          "heatmapgl": [
           {
            "colorbar": {
             "outlinewidth": 0,
             "ticks": ""
            },
            "colorscale": [
             [
              0,
              "#0d0887"
             ],
             [
              0.1111111111111111,
              "#46039f"
             ],
             [
              0.2222222222222222,
              "#7201a8"
             ],
             [
              0.3333333333333333,
              "#9c179e"
             ],
             [
              0.4444444444444444,
              "#bd3786"
             ],
             [
              0.5555555555555556,
              "#d8576b"
             ],
             [
              0.6666666666666666,
              "#ed7953"
             ],
             [
              0.7777777777777778,
              "#fb9f3a"
             ],
             [
              0.8888888888888888,
              "#fdca26"
             ],
             [
              1,
              "#f0f921"
             ]
            ],
            "type": "heatmapgl"
           }
          ],
          "histogram": [
           {
            "marker": {
             "pattern": {
              "fillmode": "overlay",
              "size": 10,
              "solidity": 0.2
             }
            },
            "type": "histogram"
           }
          ],
          "histogram2d": [
           {
            "colorbar": {
             "outlinewidth": 0,
             "ticks": ""
            },
            "colorscale": [
             [
              0,
              "#0d0887"
             ],
             [
              0.1111111111111111,
              "#46039f"
             ],
             [
              0.2222222222222222,
              "#7201a8"
             ],
             [
              0.3333333333333333,
              "#9c179e"
             ],
             [
              0.4444444444444444,
              "#bd3786"
             ],
             [
              0.5555555555555556,
              "#d8576b"
             ],
             [
              0.6666666666666666,
              "#ed7953"
             ],
             [
              0.7777777777777778,
              "#fb9f3a"
             ],
             [
              0.8888888888888888,
              "#fdca26"
             ],
             [
              1,
              "#f0f921"
             ]
            ],
            "type": "histogram2d"
           }
          ],
          "histogram2dcontour": [
           {
            "colorbar": {
             "outlinewidth": 0,
             "ticks": ""
            },
            "colorscale": [
             [
              0,
              "#0d0887"
             ],
             [
              0.1111111111111111,
              "#46039f"
             ],
             [
              0.2222222222222222,
              "#7201a8"
             ],
             [
              0.3333333333333333,
              "#9c179e"
             ],
             [
              0.4444444444444444,
              "#bd3786"
             ],
             [
              0.5555555555555556,
              "#d8576b"
             ],
             [
              0.6666666666666666,
              "#ed7953"
             ],
             [
              0.7777777777777778,
              "#fb9f3a"
             ],
             [
              0.8888888888888888,
              "#fdca26"
             ],
             [
              1,
              "#f0f921"
             ]
            ],
            "type": "histogram2dcontour"
           }
          ],
          "mesh3d": [
           {
            "colorbar": {
             "outlinewidth": 0,
             "ticks": ""
            },
            "type": "mesh3d"
           }
          ],
          "parcoords": [
           {
            "line": {
             "colorbar": {
              "outlinewidth": 0,
              "ticks": ""
             }
            },
            "type": "parcoords"
           }
          ],
          "pie": [
           {
            "automargin": true,
            "type": "pie"
           }
          ],
          "scatter": [
           {
            "fillpattern": {
             "fillmode": "overlay",
             "size": 10,
             "solidity": 0.2
            },
            "type": "scatter"
           }
          ],
          "scatter3d": [
           {
            "line": {
             "colorbar": {
              "outlinewidth": 0,
              "ticks": ""
             }
            },
            "marker": {
             "colorbar": {
              "outlinewidth": 0,
              "ticks": ""
             }
            },
            "type": "scatter3d"
           }
          ],
          "scattercarpet": [
           {
            "marker": {
             "colorbar": {
              "outlinewidth": 0,
              "ticks": ""
             }
            },
            "type": "scattercarpet"
           }
          ],
          "scattergeo": [
           {
            "marker": {
             "colorbar": {
              "outlinewidth": 0,
              "ticks": ""
             }
            },
            "type": "scattergeo"
           }
          ],
          "scattergl": [
           {
            "marker": {
             "colorbar": {
              "outlinewidth": 0,
              "ticks": ""
             }
            },
            "type": "scattergl"
           }
          ],
          "scattermapbox": [
           {
            "marker": {
             "colorbar": {
              "outlinewidth": 0,
              "ticks": ""
             }
            },
            "type": "scattermapbox"
           }
          ],
          "scatterpolar": [
           {
            "marker": {
             "colorbar": {
              "outlinewidth": 0,
              "ticks": ""
             }
            },
            "type": "scatterpolar"
           }
          ],
          "scatterpolargl": [
           {
            "marker": {
             "colorbar": {
              "outlinewidth": 0,
              "ticks": ""
             }
            },
            "type": "scatterpolargl"
           }
          ],
          "scatterternary": [
           {
            "marker": {
             "colorbar": {
              "outlinewidth": 0,
              "ticks": ""
             }
            },
            "type": "scatterternary"
           }
          ],
          "surface": [
           {
            "colorbar": {
             "outlinewidth": 0,
             "ticks": ""
            },
            "colorscale": [
             [
              0,
              "#0d0887"
             ],
             [
              0.1111111111111111,
              "#46039f"
             ],
             [
              0.2222222222222222,
              "#7201a8"
             ],
             [
              0.3333333333333333,
              "#9c179e"
             ],
             [
              0.4444444444444444,
              "#bd3786"
             ],
             [
              0.5555555555555556,
              "#d8576b"
             ],
             [
              0.6666666666666666,
              "#ed7953"
             ],
             [
              0.7777777777777778,
              "#fb9f3a"
             ],
             [
              0.8888888888888888,
              "#fdca26"
             ],
             [
              1,
              "#f0f921"
             ]
            ],
            "type": "surface"
           }
          ],
          "table": [
           {
            "cells": {
             "fill": {
              "color": "#EBF0F8"
             },
             "line": {
              "color": "white"
             }
            },
            "header": {
             "fill": {
              "color": "#C8D4E3"
             },
             "line": {
              "color": "white"
             }
            },
            "type": "table"
           }
          ]
         },
         "layout": {
          "annotationdefaults": {
           "arrowcolor": "#2a3f5f",
           "arrowhead": 0,
           "arrowwidth": 1
          },
          "autotypenumbers": "strict",
          "coloraxis": {
           "colorbar": {
            "outlinewidth": 0,
            "ticks": ""
           }
          },
          "colorscale": {
           "diverging": [
            [
             0,
             "#8e0152"
            ],
            [
             0.1,
             "#c51b7d"
            ],
            [
             0.2,
             "#de77ae"
            ],
            [
             0.3,
             "#f1b6da"
            ],
            [
             0.4,
             "#fde0ef"
            ],
            [
             0.5,
             "#f7f7f7"
            ],
            [
             0.6,
             "#e6f5d0"
            ],
            [
             0.7,
             "#b8e186"
            ],
            [
             0.8,
             "#7fbc41"
            ],
            [
             0.9,
             "#4d9221"
            ],
            [
             1,
             "#276419"
            ]
           ],
           "sequential": [
            [
             0,
             "#0d0887"
            ],
            [
             0.1111111111111111,
             "#46039f"
            ],
            [
             0.2222222222222222,
             "#7201a8"
            ],
            [
             0.3333333333333333,
             "#9c179e"
            ],
            [
             0.4444444444444444,
             "#bd3786"
            ],
            [
             0.5555555555555556,
             "#d8576b"
            ],
            [
             0.6666666666666666,
             "#ed7953"
            ],
            [
             0.7777777777777778,
             "#fb9f3a"
            ],
            [
             0.8888888888888888,
             "#fdca26"
            ],
            [
             1,
             "#f0f921"
            ]
           ],
           "sequentialminus": [
            [
             0,
             "#0d0887"
            ],
            [
             0.1111111111111111,
             "#46039f"
            ],
            [
             0.2222222222222222,
             "#7201a8"
            ],
            [
             0.3333333333333333,
             "#9c179e"
            ],
            [
             0.4444444444444444,
             "#bd3786"
            ],
            [
             0.5555555555555556,
             "#d8576b"
            ],
            [
             0.6666666666666666,
             "#ed7953"
            ],
            [
             0.7777777777777778,
             "#fb9f3a"
            ],
            [
             0.8888888888888888,
             "#fdca26"
            ],
            [
             1,
             "#f0f921"
            ]
           ]
          },
          "colorway": [
           "#636efa",
           "#EF553B",
           "#00cc96",
           "#ab63fa",
           "#FFA15A",
           "#19d3f3",
           "#FF6692",
           "#B6E880",
           "#FF97FF",
           "#FECB52"
          ],
          "font": {
           "color": "#2a3f5f"
          },
          "geo": {
           "bgcolor": "white",
           "lakecolor": "white",
           "landcolor": "#E5ECF6",
           "showlakes": true,
           "showland": true,
           "subunitcolor": "white"
          },
          "hoverlabel": {
           "align": "left"
          },
          "hovermode": "closest",
          "mapbox": {
           "style": "light"
          },
          "paper_bgcolor": "white",
          "plot_bgcolor": "#E5ECF6",
          "polar": {
           "angularaxis": {
            "gridcolor": "white",
            "linecolor": "white",
            "ticks": ""
           },
           "bgcolor": "#E5ECF6",
           "radialaxis": {
            "gridcolor": "white",
            "linecolor": "white",
            "ticks": ""
           }
          },
          "scene": {
           "xaxis": {
            "backgroundcolor": "#E5ECF6",
            "gridcolor": "white",
            "gridwidth": 2,
            "linecolor": "white",
            "showbackground": true,
            "ticks": "",
            "zerolinecolor": "white"
           },
           "yaxis": {
            "backgroundcolor": "#E5ECF6",
            "gridcolor": "white",
            "gridwidth": 2,
            "linecolor": "white",
            "showbackground": true,
            "ticks": "",
            "zerolinecolor": "white"
           },
           "zaxis": {
            "backgroundcolor": "#E5ECF6",
            "gridcolor": "white",
            "gridwidth": 2,
            "linecolor": "white",
            "showbackground": true,
            "ticks": "",
            "zerolinecolor": "white"
           }
          },
          "shapedefaults": {
           "line": {
            "color": "#2a3f5f"
           }
          },
          "ternary": {
           "aaxis": {
            "gridcolor": "white",
            "linecolor": "white",
            "ticks": ""
           },
           "baxis": {
            "gridcolor": "white",
            "linecolor": "white",
            "ticks": ""
           },
           "bgcolor": "#E5ECF6",
           "caxis": {
            "gridcolor": "white",
            "linecolor": "white",
            "ticks": ""
           }
          },
          "title": {
           "x": 0.05
          },
          "xaxis": {
           "automargin": true,
           "gridcolor": "white",
           "linecolor": "white",
           "ticks": "",
           "title": {
            "standoff": 15
           },
           "zerolinecolor": "white",
           "zerolinewidth": 2
          },
          "yaxis": {
           "automargin": true,
           "gridcolor": "white",
           "linecolor": "white",
           "ticks": "",
           "title": {
            "standoff": 15
           },
           "zerolinecolor": "white",
           "zerolinewidth": 2
          }
         }
        },
        "title": {
         "text": "Visualizaciones de las nuevas columnas",
         "x": 0.5
        },
        "xaxis": {
         "anchor": "y",
         "domain": [
          0,
          1
         ],
         "tickangle": 45,
         "title": {
          "text": "Name"
         }
        },
        "xaxis2": {
         "anchor": "y2",
         "domain": [
          0,
          1
         ],
         "tickangle": 45,
         "title": {
          "text": "Location"
         }
        },
        "xaxis3": {
         "anchor": "y3",
         "domain": [
          0,
          1
         ],
         "tickangle": 45,
         "tickmode": "array",
         "ticktext": [],
         "tickvals": [],
         "title": {
          "text": "MainCharacteristic"
         }
        },
        "xaxis4": {
         "anchor": "y4",
         "domain": [
          0,
          1
         ],
         "tickangle": 45,
         "title": {
          "text": "Type"
         }
        },
        "yaxis": {
         "anchor": "x",
         "domain": [
          0.9375,
          1
         ],
         "title": {
          "text": "Count"
         }
        },
        "yaxis2": {
         "anchor": "x2",
         "domain": [
          0.625,
          0.6875
         ],
         "title": {
          "text": "Count"
         }
        },
        "yaxis3": {
         "anchor": "x3",
         "domain": [
          0.3125,
          0.375
         ],
         "title": {
          "text": "Count"
         }
        },
        "yaxis4": {
         "anchor": "x4",
         "domain": [
          0,
          0.0625
         ],
         "title": {
          "text": "Count"
         }
        }
       }
      }
     },
     "metadata": {},
     "output_type": "display_data"
    }
   ],
   "source": [
    "import pandas as pd\n",
    "import plotly.graph_objs as go\n",
    "from plotly.subplots import make_subplots\n",
    "import plotly.express as px\n",
    "import ast\n",
    "import json\n",
    "\n",
    "\n",
    "def string_to_list(x):\n",
    "    if isinstance(x, str):\n",
    "        try:\n",
    "            return ast.literal_eval(x)\n",
    "        except:\n",
    "            return x\n",
    "    return x\n",
    "\n",
    "\n",
    "def count_list_elements(series):\n",
    "    counter = {}\n",
    "    for item in series:\n",
    "        if isinstance(item, list):\n",
    "            for element in item:\n",
    "                if isinstance(element, dict):\n",
    "                    element = json.dumps(element, sort_keys=True)\n",
    "                counter[element] = counter.get(element, 0) + 1\n",
    "        else:\n",
    "            if isinstance(item, dict):\n",
    "                item = json.dumps(item, sort_keys=True)\n",
    "            counter[item] = counter.get(item, 0) + 1\n",
    "    return pd.Series(counter)\n",
    "\n",
    "\n",
    "def create_plot(df, column):\n",
    "    series = df[column].apply(string_to_list)\n",
    "    if series.dtype == \"O\":\n",
    "        if series.apply(lambda x: isinstance(x, list)).any():\n",
    "            series = series.apply(lambda x: x if isinstance(x, list) else [x])\n",
    "            flat_list = [item for sublist in series for item in sublist]\n",
    "            counts = pd.Series(flat_list).value_counts()\n",
    "        else:\n",
    "            counts = series.value_counts()\n",
    "        fig = px.bar(\n",
    "            counts,\n",
    "            x=counts.index,\n",
    "            y=counts.values,\n",
    "            labels={\"y\": \"count\", \"index\": column},\n",
    "        )\n",
    "    elif series.dtype in [\"int64\", \"float64\"]:\n",
    "        fig = px.histogram(series, x=column)\n",
    "    else:\n",
    "        print(f\"Tipo de datos no soportado para la columna {column}\")\n",
    "        return None\n",
    "    return fig\n",
    "\n",
    "\n",
    "new_columns = [\n",
    "    col\n",
    "    for col in data.columns\n",
    "    if col\n",
    "    not in [\n",
    "        \"listing_id\",\n",
    "        \"name\",\n",
    "        \"description\",\n",
    "        \"text\",\n",
    "        \"gpt_response\",\n",
    "        \"llama_response\",\n",
    "    ]\n",
    "]\n",
    "\n",
    "# Ajustes para mejorar la disposición\n",
    "altura_base_por_subplot = 500  # Aumentado aún más para dar espacio adicional\n",
    "altura_total = altura_base_por_subplot * len(new_columns)\n",
    "espaciado_vertical = 0.25  # Aumentado para mayor separación entre subplots\n",
    "\n",
    "fig = make_subplots(\n",
    "    rows=len(new_columns),\n",
    "    cols=1,\n",
    "    subplot_titles=new_columns,\n",
    "    vertical_spacing=espaciado_vertical,\n",
    ")\n",
    "\n",
    "for i, column in enumerate(new_columns, start=1):\n",
    "    subplot = create_plot(data, column)\n",
    "    if subplot:\n",
    "        for trace in subplot.data:\n",
    "            fig.add_trace(trace, row=i, col=1)\n",
    "\n",
    "        # Actualizar el diseño de cada subplot individualmente\n",
    "        fig.update_xaxes(\n",
    "            title_text=column, row=i, col=1, tickangle=45\n",
    "        )  # Rotar etiquetas 45 grados\n",
    "        fig.update_yaxes(title_text=\"Count\", row=i, col=1)\n",
    "\n",
    "        # Ajuste especial para columnas con etiquetas largas (como \"3goodthings\")\n",
    "        if (\n",
    "            \"3goodthings\" in column or len(column) > 15\n",
    "        ):  # Ajusta este valor según sea necesario\n",
    "            fig.update_xaxes(\n",
    "                tickmode=\"array\", tickvals=[], ticktext=[], row=i, col=1\n",
    "            )  # Ocultar etiquetas del eje X\n",
    "            fig.update_annotations(\n",
    "                text=column, row=i, col=1, x=0.5, y=-0.15, xref=\"paper\", yref=\"paper\"\n",
    "            )  # Mover título del eje X hacia abajo\n",
    "\n",
    "# Actualizar el diseño global\n",
    "fig.update_layout(\n",
    "    height=altura_total,\n",
    "    title_text=\"Visualizaciones de las nuevas columnas\",\n",
    "    showlegend=False,\n",
    "    title_x=0.5,  # Centrar el título principal\n",
    "    margin=dict(t=50, b=100, l=50, r=50),  # Aumentar el margen inferior\n",
    ")\n",
    "\n",
    "# Ajustar la posición de los títulos de los subplots\n",
    "for i in fig[\"layout\"][\"annotations\"]:\n",
    "    i[\"y\"] = i[\"y\"] + 0.05  # Mover los títulos de los subplots más hacia arriba\n",
    "\n",
    "# Mostrar la figura\n",
    "fig.show()"
   ]
  },
  {
   "cell_type": "markdown",
   "metadata": {},
   "source": [
    "## Parte 2\n",
    "\n",
    "Realiza un análisis de los comentarios de los apartamentos con un modelo de lenguaje natural (GPT o LLAMA) y extrae información relevante de los mismos.\n",
    "\n",
    "Por ejemplo, puedes analizar los comentarios y extraer información sobre la limpieza, la ubicación, la relación calidad-precio, el sentimiento del comentario, etc."
   ]
  },
  {
   "cell_type": "code",
   "execution_count": 9,
   "metadata": {},
   "outputs": [
    {
     "data": {
      "text/html": [
       "<div>\n",
       "<style scoped>\n",
       "    .dataframe tbody tr th:only-of-type {\n",
       "        vertical-align: middle;\n",
       "    }\n",
       "\n",
       "    .dataframe tbody tr th {\n",
       "        vertical-align: top;\n",
       "    }\n",
       "\n",
       "    .dataframe thead th {\n",
       "        text-align: right;\n",
       "    }\n",
       "</style>\n",
       "<table border=\"1\" class=\"dataframe\">\n",
       "  <thead>\n",
       "    <tr style=\"text-align: right;\">\n",
       "      <th></th>\n",
       "      <th>name</th>\n",
       "      <th>host_id</th>\n",
       "      <th>host_name</th>\n",
       "      <th>date</th>\n",
       "      <th>reviewer_id</th>\n",
       "      <th>reviewer_name</th>\n",
       "      <th>comments</th>\n",
       "      <th>language</th>\n",
       "    </tr>\n",
       "  </thead>\n",
       "  <tbody>\n",
       "    <tr>\n",
       "      <th>0</th>\n",
       "      <td>LUXURY apartment t3 oporto antas</td>\n",
       "      <td>37249350.0</td>\n",
       "      <td>Joaquim</td>\n",
       "      <td>2018-01-30</td>\n",
       "      <td>156292241.0</td>\n",
       "      <td>Silvia</td>\n",
       "      <td>Acomodação espaçosa e bonita. O Joaquim e sua ...</td>\n",
       "      <td>pt</td>\n",
       "    </tr>\n",
       "    <tr>\n",
       "      <th>1</th>\n",
       "      <td>Aida's Haven | Room&amp;PrivateBath | St. Catarina</td>\n",
       "      <td>38365612.0</td>\n",
       "      <td>Alexandra</td>\n",
       "      <td>2019-12-15</td>\n",
       "      <td>283158910.0</td>\n",
       "      <td>Tierry Dayan</td>\n",
       "      <td>A anfitriã Alexandra foi muito simpática,  pre...</td>\n",
       "      <td>pt</td>\n",
       "    </tr>\n",
       "    <tr>\n",
       "      <th>2</th>\n",
       "      <td>Maritime Inspiration - One Bedroom Beach Apart...</td>\n",
       "      <td>147469727.0</td>\n",
       "      <td>Susana</td>\n",
       "      <td>2018-08-12</td>\n",
       "      <td>173756309.0</td>\n",
       "      <td>Julio</td>\n",
       "      <td>Apartamento muy bien comunicado, aunque nos es...</td>\n",
       "      <td>es</td>\n",
       "    </tr>\n",
       "    <tr>\n",
       "      <th>3</th>\n",
       "      <td>Central  charming Top floor - nice views</td>\n",
       "      <td>26222276.0</td>\n",
       "      <td>A.Maria</td>\n",
       "      <td>2016-05-28</td>\n",
       "      <td>11705876.0</td>\n",
       "      <td>Rafael</td>\n",
       "      <td>Adosinda was kind, showed the apartment, set u...</td>\n",
       "      <td>en</td>\n",
       "    </tr>\n",
       "    <tr>\n",
       "      <th>4</th>\n",
       "      <td>Ribeira Oporto Apartment II (Renewed 2021)</td>\n",
       "      <td>35057317.0</td>\n",
       "      <td>João</td>\n",
       "      <td>2016-06-02</td>\n",
       "      <td>38269559.0</td>\n",
       "      <td>Anais</td>\n",
       "      <td>Un appartement au coeur de porto, très grand a...</td>\n",
       "      <td>fr</td>\n",
       "    </tr>\n",
       "    <tr>\n",
       "      <th>...</th>\n",
       "      <td>...</td>\n",
       "      <td>...</td>\n",
       "      <td>...</td>\n",
       "      <td>...</td>\n",
       "      <td>...</td>\n",
       "      <td>...</td>\n",
       "      <td>...</td>\n",
       "      <td>...</td>\n",
       "    </tr>\n",
       "    <tr>\n",
       "      <th>4995</th>\n",
       "      <td>Marquês's House - Estúdio ao Marquês</td>\n",
       "      <td>93991335.0</td>\n",
       "      <td>Conceição</td>\n",
       "      <td>2017-09-10</td>\n",
       "      <td>13710198.0</td>\n",
       "      <td>Sandra</td>\n",
       "      <td>Merci pour le chaleureux accueil et tous les b...</td>\n",
       "      <td>fr</td>\n",
       "    </tr>\n",
       "    <tr>\n",
       "      <th>4996</th>\n",
       "      <td>M1.4 | Surf Beach Matosinhos | Porto</td>\n",
       "      <td>39551356.0</td>\n",
       "      <td>Porto Je T'Aime</td>\n",
       "      <td>2018-08-04</td>\n",
       "      <td>204048434.0</td>\n",
       "      <td>Louis</td>\n",
       "      <td>Toutes les qualités recherchées dans ce type d...</td>\n",
       "      <td>fr</td>\n",
       "    </tr>\n",
       "    <tr>\n",
       "      <th>4997</th>\n",
       "      <td>Kitchnette Studio in Porto's Downtown II</td>\n",
       "      <td>1651078.0</td>\n",
       "      <td>Lurdes</td>\n",
       "      <td>2022-06-19</td>\n",
       "      <td>68564036.0</td>\n",
       "      <td>Angie</td>\n",
       "      <td>Its a lovely little studio, a green oasis, rig...</td>\n",
       "      <td>en</td>\n",
       "    </tr>\n",
       "    <tr>\n",
       "      <th>4998</th>\n",
       "      <td>MyLoft-Charming Apartment!!! - Metro Bolhão</td>\n",
       "      <td>34348897.0</td>\n",
       "      <td>Carla</td>\n",
       "      <td>2022-06-23</td>\n",
       "      <td>283375850.0</td>\n",
       "      <td>Angelika</td>\n",
       "      <td>Carla ist wirklich eine sehr tolle Gastgeberin...</td>\n",
       "      <td>de</td>\n",
       "    </tr>\n",
       "    <tr>\n",
       "      <th>4999</th>\n",
       "      <td>ABEL'S @ CAMPO 24 DE AGOSTO - 4 OF 6</td>\n",
       "      <td>6989703.0</td>\n",
       "      <td>Abel</td>\n",
       "      <td>2019-04-26</td>\n",
       "      <td>12108853.0</td>\n",
       "      <td>Grigorii</td>\n",
       "      <td>We have stayed at Abels Apartment for few nigh...</td>\n",
       "      <td>en</td>\n",
       "    </tr>\n",
       "  </tbody>\n",
       "</table>\n",
       "<p>5000 rows × 8 columns</p>\n",
       "</div>"
      ],
      "text/plain": [
       "                                                   name      host_id  \\\n",
       "0                      LUXURY apartment t3 oporto antas   37249350.0   \n",
       "1        Aida's Haven | Room&PrivateBath | St. Catarina   38365612.0   \n",
       "2     Maritime Inspiration - One Bedroom Beach Apart...  147469727.0   \n",
       "3              Central  charming Top floor - nice views   26222276.0   \n",
       "4            Ribeira Oporto Apartment II (Renewed 2021)   35057317.0   \n",
       "...                                                 ...          ...   \n",
       "4995               Marquês's House - Estúdio ao Marquês   93991335.0   \n",
       "4996               M1.4 | Surf Beach Matosinhos | Porto   39551356.0   \n",
       "4997           Kitchnette Studio in Porto's Downtown II    1651078.0   \n",
       "4998        MyLoft-Charming Apartment!!! - Metro Bolhão   34348897.0   \n",
       "4999               ABEL'S @ CAMPO 24 DE AGOSTO - 4 OF 6    6989703.0   \n",
       "\n",
       "            host_name        date  reviewer_id reviewer_name  \\\n",
       "0             Joaquim  2018-01-30  156292241.0        Silvia   \n",
       "1           Alexandra  2019-12-15  283158910.0  Tierry Dayan   \n",
       "2              Susana  2018-08-12  173756309.0         Julio   \n",
       "3             A.Maria  2016-05-28   11705876.0        Rafael   \n",
       "4                João  2016-06-02   38269559.0         Anais   \n",
       "...               ...         ...          ...           ...   \n",
       "4995        Conceição  2017-09-10   13710198.0        Sandra   \n",
       "4996  Porto Je T'Aime  2018-08-04  204048434.0         Louis   \n",
       "4997           Lurdes  2022-06-19   68564036.0         Angie   \n",
       "4998            Carla  2022-06-23  283375850.0      Angelika   \n",
       "4999             Abel  2019-04-26   12108853.0      Grigorii   \n",
       "\n",
       "                                               comments language  \n",
       "0     Acomodação espaçosa e bonita. O Joaquim e sua ...       pt  \n",
       "1     A anfitriã Alexandra foi muito simpática,  pre...       pt  \n",
       "2     Apartamento muy bien comunicado, aunque nos es...       es  \n",
       "3     Adosinda was kind, showed the apartment, set u...       en  \n",
       "4     Un appartement au coeur de porto, très grand a...       fr  \n",
       "...                                                 ...      ...  \n",
       "4995  Merci pour le chaleureux accueil et tous les b...       fr  \n",
       "4996  Toutes les qualités recherchées dans ce type d...       fr  \n",
       "4997  Its a lovely little studio, a green oasis, rig...       en  \n",
       "4998  Carla ist wirklich eine sehr tolle Gastgeberin...       de  \n",
       "4999  We have stayed at Abels Apartment for few nigh...       en  \n",
       "\n",
       "[5000 rows x 8 columns]"
      ]
     },
     "execution_count": 9,
     "metadata": {},
     "output_type": "execute_result"
    }
   ],
   "source": [
    "comentarios = pd.read_csv(\"Airbnb_reviews_5000.csv\")\n",
    "comentarios"
   ]
  },
  {
   "cell_type": "code",
   "execution_count": null,
   "metadata": {},
   "outputs": [],
   "source": []
  }
 ],
 "metadata": {
  "kernelspec": {
   "display_name": "venv",
   "language": "python",
   "name": "python3"
  },
  "language_info": {
   "codemirror_mode": {
    "name": "ipython",
    "version": 3
   },
   "file_extension": ".py",
   "mimetype": "text/x-python",
   "name": "python",
   "nbconvert_exporter": "python",
   "pygments_lexer": "ipython3",
   "version": "3.11.2"
  }
 },
 "nbformat": 4,
 "nbformat_minor": 2
}
