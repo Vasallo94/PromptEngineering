{
 "cells": [
  {
   "cell_type": "markdown",
   "metadata": {},
   "source": [
    "# Ejercicio AirBnB"
   ]
  },
  {
   "cell_type": "markdown",
   "metadata": {},
   "source": [
    "En este cuaderno vamos a trabajar con un dataset de AirBnB de la ciudad de Oporto. Se puede encontrar más información sobre el dataset y otras implementaciones en [Porto](https://github.com/Vasallo94/Porto). \n",
    "\n",
    "El dataset contiene información sobre las características de las viviendas, su localización, el precio, el número de comentarios, etc.\n",
    "\n",
    "El objetivo de este ejercicio es poder analizar los comentarios de los usuarios mediante diferentes LLMs (GPT y LLAMA) y poder extraer información relevante de los mismos para su análisis posterior."
   ]
  },
  {
   "cell_type": "markdown",
   "metadata": {},
   "source": [
    "## Primera parte\n",
    "\n",
    "Vamos a utilizar el archivo listings1_cleaned.csv que contiene información sobre las viviendas de AirBnB en Oporto."
   ]
  },
  {
   "cell_type": "code",
   "execution_count": 1,
   "metadata": {},
   "outputs": [],
   "source": [
    "\n",
    "import pandas as pd\n",
    "import sys\n",
    "sys.path.append('../utils/')\n",
    "from funciones import preguntar_gpt\n",
    "import json"
   ]
  },
  {
   "cell_type": "code",
   "execution_count": 2,
   "metadata": {},
   "outputs": [
    {
     "data": {
      "application/vnd.microsoft.datawrangler.viewer.v0+json": {
       "columns": [
        {
         "name": "index",
         "rawType": "int64",
         "type": "integer"
        },
        {
         "name": "listing_id",
         "rawType": "float64",
         "type": "float"
        },
        {
         "name": "listing_url",
         "rawType": "object",
         "type": "string"
        },
        {
         "name": "picture_url",
         "rawType": "object",
         "type": "string"
        },
        {
         "name": "name",
         "rawType": "object",
         "type": "string"
        },
        {
         "name": "description",
         "rawType": "object",
         "type": "unknown"
        },
        {
         "name": "host_id",
         "rawType": "float64",
         "type": "float"
        },
        {
         "name": "host_name",
         "rawType": "object",
         "type": "string"
        },
        {
         "name": "host_since",
         "rawType": "object",
         "type": "string"
        },
        {
         "name": "host_response_rate",
         "rawType": "float64",
         "type": "float"
        },
        {
         "name": "host_acceptance_rate",
         "rawType": "float64",
         "type": "float"
        },
        {
         "name": "host_is_superhost",
         "rawType": "bool",
         "type": "boolean"
        },
        {
         "name": "host_listings_count",
         "rawType": "float64",
         "type": "float"
        },
        {
         "name": "host_has_profile_pic",
         "rawType": "bool",
         "type": "boolean"
        },
        {
         "name": "neighbourhood",
         "rawType": "object",
         "type": "string"
        },
        {
         "name": "latitude",
         "rawType": "float64",
         "type": "float"
        },
        {
         "name": "longitude",
         "rawType": "float64",
         "type": "float"
        },
        {
         "name": "property_type",
         "rawType": "object",
         "type": "string"
        },
        {
         "name": "room_type",
         "rawType": "object",
         "type": "string"
        },
        {
         "name": "accommodates",
         "rawType": "int64",
         "type": "integer"
        },
        {
         "name": "bathrooms",
         "rawType": "float64",
         "type": "float"
        },
        {
         "name": "bedrooms",
         "rawType": "int64",
         "type": "integer"
        },
        {
         "name": "beds",
         "rawType": "float64",
         "type": "float"
        },
        {
         "name": "amenities",
         "rawType": "object",
         "type": "unknown"
        },
        {
         "name": "price",
         "rawType": "float64",
         "type": "float"
        },
        {
         "name": "minimum_nights",
         "rawType": "float64",
         "type": "float"
        },
        {
         "name": "maximum_nights",
         "rawType": "float64",
         "type": "float"
        },
        {
         "name": "number_of_reviews",
         "rawType": "float64",
         "type": "float"
        },
        {
         "name": "review_scores_rating",
         "rawType": "float64",
         "type": "float"
        },
        {
         "name": "review_scores_cleanliness",
         "rawType": "float64",
         "type": "float"
        },
        {
         "name": "review_scores_checkin",
         "rawType": "float64",
         "type": "float"
        },
        {
         "name": "review_scores_communication",
         "rawType": "float64",
         "type": "float"
        },
        {
         "name": "review_scores_location",
         "rawType": "float64",
         "type": "float"
        },
        {
         "name": "reviews_per_month",
         "rawType": "float64",
         "type": "float"
        },
        {
         "name": "availability_365",
         "rawType": "float64",
         "type": "float"
        },
        {
         "name": "has_availability",
         "rawType": "object",
         "type": "string"
        },
        {
         "name": "last_review",
         "rawType": "object",
         "type": "unknown"
        },
        {
         "name": "geographical_group",
         "rawType": "object",
         "type": "unknown"
        }
       ],
       "conversionMethod": "pd.DataFrame",
       "ref": "5215f32f-edca-44fd-9403-ed89e17725b4",
       "rows": [
        [
         "0",
         "29059.0",
         "https://www.airbnb.com/rooms/29059",
         "https://a0.muscache.com/pictures/736399/fa6c3103_original.jpg",
         "Lovely studio Quartier Latin",
         "CITQ 267153<br />Lovely studio with 1 closed room, near everything in the Quartier Latin. Enjoy the festivals, downtown with activities or the famous Mont-Royal.<br />Everything included: bedding, bath towels, basic food items (condiments, flour, rice, pasta, spices, etc.), housekeeping, cable, WIFI",
         "125031.0",
         "Maryline",
         "2010-05-14",
         "100.0",
         "98.0",
         "False",
         "2.0",
         "True",
         "Ville-Marie",
         "45.51939",
         "-73.56482",
         "Entire rental unit",
         "Entire home/apt",
         "4",
         "1.0",
         "1",
         "3.0",
         "[\"Books and reading material\", \"Paid parking lot off premises\", \"Carbon monoxide alarm\", \"Microwave\", \"Free street parking\", \"Hot water kettle\", \"Shampoo\", \"Radiant heating\", \"Booster seat high chair - available upon request\", \"Hair dryer\", \"Fast wifi \\u2013 116 Mbps\", \"Essentials\", \"Self check-in\", \"Keypad\", \"Induction stove\", \"Shared backyard \\u2013 Fully fenced\", \"Room-darkening shades\", \"Iron\", \"Outdoor furniture\", \"Portable fans\", \"First aid kit\", \"Cooking basics\", \"Mini fridge\", \"Coffee\", \"Private entrance\", \"Dishes and silverware\", \"Bed linens\", \"Wine glasses\", \"TV with standard cable\", \"Body soap\", \"Pack \\u2019n play/Travel crib - available upon request\", \"Hangers\", \"Courtyard view\", \"Hot water\", \"Sound system with aux\", \"Fire extinguisher\", \"Sun loungers\", \"Outdoor dining area\", \"Children\\u2019s books and toys for ages 0-2 years old\", \"City skyline view\", \"Cleaning products\", \"Laundromat nearby\", \"Long term stays allowed\", \"Private patio or balcony\", \"Toaster\", \"Pets allowed\", \"Mosquito net\", \"Crib - available upon request\", \"Smoke alarm\", \"Single level home\", \"Extra pillows and blankets\", \"Shower gel\", \"Clothing storage: closet\", \"Kitchen\", \"Conditioner\", \"Oven\", \"Coffee maker\"]",
         "164.0",
         "2.0",
         "60.0",
         "450.0",
         "4.67",
         "4.62",
         "4.81",
         "4.77",
         "4.82",
         "2.69",
         "302.0",
         "t",
         "2024-03-16",
         "Central"
        ],
        [
         "1",
         "29061.0",
         "https://www.airbnb.com/rooms/29061",
         "https://a0.muscache.com/pictures/9e59d417-4b6a-4db1-94a6-ccac69e236bf.jpg",
         "Maison historique - Quartier Latin",
         "Lovely historic house with plenty of period charm, close to everything, in Montreal’s delightful Latin Quarter. Walk to all the festivals.",
         "125031.0",
         "Maryline",
         "2010-05-14",
         "100.0",
         "98.0",
         "False",
         "2.0",
         "True",
         "Ville-Marie",
         "45.51929",
         "-73.56493",
         "Entire home",
         "Entire home/apt",
         "4",
         "1.0",
         "2",
         "2.0",
         "[\"Books and reading material\", \"Coffee maker: Nespresso\", \"Carbon monoxide alarm\", \"Microwave\", \"Rice maker\", \"Free street parking\", \"Hot water kettle\", \"Shampoo\", \"Radiant heating\", \"Hair dryer\", \"Free washer \\u2013 In unit\", \"Essentials\", \"Children\\u2019s books and toys for ages 0-2 years old and 2-5 years old\", \"Self check-in\", \"Room-darkening shades\", \"Iron\", \"Outdoor furniture\", \"Central air conditioning\", \"Portable fans\", \"First aid kit\", \"Sound system\", \"Freezer\", \"Cooking basics\", \"Fast wifi \\u2013 105 Mbps\", \"Blender\", \"Dining table\", \"Coffee\", \"Private entrance\", \"Free parking on premises\", \"Dishes and silverware\", \"Bed linens\", \"Clothing storage: closet\", \"Wine glasses\", \"Body soap\", \"Lockbox\", \"Pack \\u2019n play/Travel crib - available upon request\", \"Hangers\", \"Hot water\", \"Baking sheet\", \"Board games\", \"Fire extinguisher\", \"Dedicated workspace\", \"Outdoor dining area\", \"Dishwasher\", \"Barbecue utensils\", \"Cleaning products\", \"Free dryer \\u2013 In unit\", \"Long term stays allowed\", \"Private patio or balcony\", \"Toaster\", \"Garden view\", \"Mosquito net\", \"Portable air conditioning\", \"Refrigerator\", \"Crib - available upon request\", \"Luggage dropoff allowed\", \"Smoke alarm\", \"Extra pillows and blankets\", \"AEG induction stove\", \"Shower gel\", \"TV with Apple TV, Netflix, premium cable, standard cable\", \"Kitchen\", \"Conditioner\", \"Private BBQ grill: gas\", \"Oven\", \"Pets allowed\"]",
         "290.0",
         "2.0",
         "21.0",
         "130.0",
         "4.73",
         "4.66",
         "4.88",
         "4.81",
         "4.87",
         "0.88",
         "348.0",
         "t",
         "2024-02-19",
         "Central"
        ],
        [
         "2",
         "36301.0",
         "https://www.airbnb.com/rooms/36301",
         "https://a0.muscache.com/pictures/26c20544-475f-4d69-9e99-53eeb6398ff0.jpg",
         "Romantic & peaceful Plateau  loft",
         "Enjoy the best of Montreal  in this romantic, bright & peaceful nest in Trendy Plateau !",
         "381468.0",
         "Sylvie",
         "2011-02-07",
         "94.0",
         "80.0",
         "True",
         "8.0",
         "True",
         "Le Plateau-Mont-Royal",
         "45.53026",
         "-73.58413",
         "Entire rental unit",
         "Entire home/apt",
         "2",
         "1.0",
         "1",
         "2.0",
         "[\"Microwave\", \"Free street parking\", \"Shampoo\", \"Hair dryer\", \"Essentials\", \"Heating\", \"Air conditioning\", \"Iron\", \"First aid kit\", \"Cooking basics\", \"Dryer\", \"Oven\", \"Dishes and silverware\", \"Bed linens\", \"TV with standard cable\", \"Patio or balcony\", \"Hangers\", \"Washer\", \"Hot water\", \"Fire extinguisher\", \"Wifi\", \"Pets allowed\", \"Stove\", \"Refrigerator\", \"Smoke alarm\", \"Extra pillows and blankets\", \"Kitchen\", \"Indoor fireplace\", \"Coffee maker\"]",
         "175.0",
         "32.0",
         "730.0",
         "51.0",
         "4.86",
         "4.86",
         "4.92",
         "4.9",
         "4.88",
         "0.47",
         "81.0",
         "t",
         "2024-01-07",
         "Central"
        ],
        [
         "3",
         "38118.0",
         "https://www.airbnb.com/rooms/38118",
         "https://a0.muscache.com/pictures/213997/763ec177_original.jpg",
         "Beautiful room  with a balcony in front of a parc",
         "Nearest metro Papineau.",
         "163569.0",
         "M.",
         "2010-07-11",
         "78.0",
         "0.0",
         "False",
         "1.0",
         "True",
         "Ville-Marie",
         "45.52699",
         "-73.5584",
         "Private room in rental unit",
         "Private room",
         "1",
         "1.0",
         "3",
         "4.0",
         "[\"Carbon monoxide alarm\", \"Free street parking\", \"Hair dryer\", \"Essentials\", \"Heating\", \"Cooking basics\", \"Dryer\", \"Private entrance\", \"Dishes and silverware\", \"TV with standard cable\", \"Patio or balcony\", \"Washer\", \"Hot water\", \"Dishwasher\", \"Wifi\", \"Stove\", \"Refrigerator\", \"Smoke alarm\", \"Host greets you\", \"Kitchen\", \"Oven\"]",
         "50.0",
         "31.0",
         "60.0",
         "16.0",
         "4.5",
         "4.25",
         "4.81",
         "4.81",
         "4.63",
         "0.1",
         "299.0",
         "t",
         "2022-08-29",
         "Central"
        ],
        [
         "4",
         "50479.0",
         "https://www.airbnb.com/rooms/50479",
         "https://a0.muscache.com/pictures/miso/Hosting-50479/original/1ced706b-ed9e-436d-8415-fde9df441b79.jpeg",
         "L'Arcade Douce",
         "The appartement is sunny and ideally situated in the handsome area of Petite-Patrie, 10 minutes walk from the market Jean-Talon and all services (grocery store, underground orange and blue line). The area has also a lot of restaurants, little cafes and bars and a cycle path and BIXI station round the corner. <br />Note that it  is on the 3rd floor so you have one flight of stairs outside and one inside.  Also, there is no private parking available but you generally can park easily  on our street.",
         "231694.0",
         "Noemie",
         "2010-09-11",
         "100.0",
         "100.0",
         "True",
         "2.0",
         "True",
         "Rosemont-La Petite-Patrie",
         "45.54157",
         "-73.60737",
         "Entire rental unit",
         "Entire home/apt",
         "3",
         "1.0",
         "2",
         "2.0",
         "[\"Books and reading material\", \"Electric stove\", \"Microwave\", \"Free street parking\", \"Shampoo\", \"Hair dryer\", \"Free washer \\u2013 In unit\", \"50\\\" HDTV with Netflix\", \"Essentials\", \"Heating\", \"Self check-in\", \"Keypad\", \"Outdoor furniture\", \"Iron\", \"Central air conditioning\", \"Portable fans\", \"First aid kit\", \"Cooking basics\", \"Fast wifi \\u2013 57 Mbps\", \"Drying rack for clothing\", \"Blender\", \"Bathtub\", \"Dining table\", \"Dishes and silverware\", \"Bed linens\", \"Clothing storage: closet and dresser\", \"Wine glasses\", \"Body soap\", \"Hangers\", \"Hot water\", \"Baking sheet\", \"Fire extinguisher\", \"Dedicated workspace\", \"Outdoor dining area\", \"Cleaning products\", \"Free dryer \\u2013 In unit\", \"Laundromat nearby\", \"Private patio or balcony\", \"Long term stays allowed\", \"Toaster\", \"Garden view\", \"Refrigerator\", \"Smoke alarm\", \"Host greets you\", \"Shower gel\", \"Kitchen\", \"Oven\", \"Coffee maker\"]",
         "90.0",
         "3.0",
         "28.0",
         "263.0",
         "4.95",
         "4.94",
         "4.97",
         "4.98",
         "4.84",
         "1.6",
         "0.0",
         "t",
         "2024-03-18",
         "South"
        ],
        [
         "5",
         "66247.0",
         "https://www.airbnb.com/rooms/66247",
         "https://a0.muscache.com/pictures/miso/Hosting-66247/original/e903abb6-2e6f-41b8-9a15-4abeecbaba06.jpeg",
         "Large Loft in Historic Old Montreal",
         "Located in the heart of Old Montreal, next to the Basilic Notre Dame, this luxurious suite has been entirely furnished with materials and furnitures of superior quality. You will be enchanted by the abundant luminosity offered by this warm and welcoming location. This unique building built in 1832 distinguishes itself with its superb brick walls. Bring your wine and cheese and come live unforgettable moments! <br />Parking is available 25$ per day at an outdoor  parking spot next to building.",
         "318040.0",
         "Seb",
         "2010-12-13",
         "98.0",
         "99.0",
         "True",
         "4.0",
         "True",
         "Ville-Marie",
         "45.50584",
         "-73.55602",
         "Entire loft",
         "Entire home/apt",
         "4",
         "1.0",
         "1",
         "1.0",
         "[\"Ethernet connection\", \"Carbon monoxide alarm\", \"Microwave\", \"Hair dryer\", \"Essentials\", \"Window guards\", \"Heating\", \"Self check-in\", \"Air conditioning\", \"Iron\", \"Paid parking off premises\", \"42\\\" HDTV with Roku\", \"Cooking basics\", \"Dryer\", \"Bathtub\", \"Dishes and silverware\", \"Bed linens\", \"Elevator\", \"Lockbox\", \"Hangers\", \"Washer\", \"Hot water\", \"Pocket wifi\", \"Dedicated workspace\", \"Dishwasher\", \"Cleaning products\", \"Long term stays allowed\", \"Stove\", \"Wifi \\u2013 30 Mbps\", \"Refrigerator\", \"Smoke alarm\", \"Extra pillows and blankets\", \"Kitchen\", \"Oven\", \"Coffee maker\"]",
         "110.0",
         "3.0",
         "90.0",
         "453.0",
         "4.77",
         "4.78",
         "4.85",
         "4.71",
         "4.92",
         "2.81",
         "59.0",
         "t",
         "2024-03-03",
         "Central"
        ],
        [
         "6",
         "66276.0",
         "https://www.airbnb.com/rooms/66276",
         "https://a0.muscache.com/pictures/miso/Hosting-66276/original/f161ff17-8ca2-4528-a8a9-86ad9d34c055.png",
         "Your Tranquil Oasis Near Downtown Montreal",
         "Escape the hustle and bustle of city life and retreat to our serene one-bedroom apartment in a peaceful neighborhood. Whether you're here for business, to explore the vibrant city of Montreal, or to visit nearby universities (Concordia, McGill) and the MUHC hospital (Glen site), our cozy space offers the perfect home away from home.<br /><br />The Space:<br />Our one-bedroom apartment provides a comfortable and inviting atmosphere for your stay.",
         "324569.0",
         "Anna",
         "2010-12-21",
         "100.0",
         "100.0",
         "True",
         "2.0",
         "True",
         "Côte-des-Neiges-Notre-Dame-de-Grâce",
         "45.46133041381836",
         "-73.62896728515625",
         "Entire rental unit",
         "Entire home/apt",
         "2",
         "1.0",
         "1",
         "1.0",
         "[\"No name conditioner\", \"Smart lock\", \"Carbon monoxide alarm\", \"Microwave\", \"Free street parking\", \"Hot water kettle\", \"Shampoo\", \"Radiant heating\", \"Shared backyard \\u2013 Not fully fenced\", \"Hair dryer\", \"Free washer \\u2013 In building\", \"Essentials\", \"Self check-in\", \"Room-darkening shades\", \"Iron\", \"Indoor fireplace: electric\", \"First aid kit\", \"Paid parking garage on premises \\u2013 2 spaces\", \"Cooking basics\", \"Private outdoor kitchen\", \"Bathtub\", \"Dining table\", \"Coffee\", \"Private entrance\", \"Free parking on premises\", \"Dishes and silverware\", \"Bed linens\", \"Wine glasses\", \"Patio or balcony\", \"Hangers\", \"Hot water\", \"Electrolux electric stove\", \"Fire extinguisher\", \"Sun loungers\", \"Dedicated workspace\", \"Outdoor dining area\", \"Coffee maker: french press\", \"Cleaning products\", \"Wifi\", \"EV charger\", \"Long term stays allowed\", \"Toaster\", \"32\\\" HDTV with Netflix\", \"Pets allowed\", \"Garden view\", \"Luggage dropoff allowed\", \"No name body soap\", \"Free dryer \\u2013 In building\", \"Smoke alarm\", \"Extra pillows and blankets\", \"Shower gel\", \"Clothing storage: closet\", \"Kitchen\", \"No name refrigerator\", \"No name oven\"]",
         "48.0",
         "32.0",
         "180.0",
         "41.0",
         "4.72",
         "4.79",
         "4.95",
         "4.95",
         "4.56",
         "0.26",
         "252.0",
         "t",
         "2024-02-27",
         "Central"
        ],
        [
         "7",
         "70489.0",
         "https://www.airbnb.com/rooms/70489",
         "https://a0.muscache.com/pictures/88968828/842596e4_original.jpg",
         "Ultra Luxurious - City Center",
         "Ultra Luxurious, 2 storey condo, in Prime, Prime, Prime, Location! 30 days min.",
         "145990.0",
         "Marc Andre",
         "2010-06-16",
         "0.0",
         "0.0",
         "False",
         "1.0",
         "True",
         "Ville-Marie",
         "45.5019",
         "-73.56354",
         "Entire condo",
         "Entire home/apt",
         "4",
         "1.5",
         "1",
         "2.0",
         "[\"Free dryer\", \"Microwave\", \"Hair dryer\", \"Essentials\", \"Heating\", \"Iron\", \"Central air conditioning\", \"Indoor fireplace: electric\", \"Freezer\", \"Free washer\", \"Cooking basics\", \"Stainless steel oven\", \"Shared gym\", \"Bathtub\", \"Coffee\", \"Bosch stove\", \"Dishes and silverware\", \"Bed linens\", \"Clothing storage: closet and dresser\", \"Wine glasses\", \"Elevator\", \"Hangers\", \"Hot water\", \"Paid parking on premises\", \"42\\\" HDTV with standard cable\", \"Fire extinguisher\", \"Dedicated workspace\", \"Dishwasher\", \"City skyline view\", \"Cleaning products\", \"Wifi\", \"Long term stays allowed\", \"Private patio or balcony\", \"Toaster\", \"Luggage dropoff allowed\", \"Refrigerator\", \"Smoke alarm\", \"Extra pillows and blankets\", \"Paid parking garage off premises\", \"Kitchen\", \"Coffee maker\"]",
         "90.0",
         "31.0",
         "365.0",
         "1.0",
         "4.0",
         "4.0",
         "4.0",
         "4.0",
         "4.0",
         "0.01",
         "249.0",
         "t",
         "2013-10-15",
         "Central"
        ],
        [
         "8",
         "70801.0",
         "https://www.airbnb.com/rooms/70801",
         "https://a0.muscache.com/pictures/miso/Hosting-70801/original/049d48b6-1e55-4894-97b2-7e65343bd8d3.jpeg",
         "Large, sunny house with garden near Old MTL",
         "CITQ: 310728<br /><br />Designer home easily sleeps 6 (or 8 if with small children). Walk to Atwater Market, bike/run/blade on the Lachine Canal. 5-min taxi/bus to Old Montreal and downtown. Sunny, private garden for enjoying a peaceful breakfast or a fun BBQ dinner. Gourmet kitchen, fireplace.<br />Please note that all adults must be over 30 YEARS OLD to reserve.<br />Non-smokers only. Thank you!",
         "294382.0",
         "Jennifer&Steeve",
         "2010-11-21",
         "100.0",
         "75.0",
         "False",
         "1.0",
         "True",
         "Le Sud-Ouest",
         "45.47812",
         "-73.55698",
         "Entire home",
         "Entire home/apt",
         "6",
         "2.5",
         "3",
         "3.0",
         "[\"Books and reading material\", \"Children\\u2019s books and toys\", \"Cleaning available during stay\", \"Microwave\", \"Free street parking\", \"Hot water kettle\", \"Shampoo\", \"Amazon Echo Dot Bluetooth sound system\", \"Hair dryer\", \"Free washer \\u2013 In unit\", \"Essentials\", \"Heating\", \"Self check-in\", \"Room-darkening shades\", \"Iron\", \"Outdoor furniture\", \"Children's playroom\", \"Portable fans\", \"First aid kit\", \"Coffee maker: drip coffee maker, espresso machine, french press\", \"Freezer\", \"Cooking basics\", \"Blender\", \"Drying rack for clothing\", \"Bathtub\", \"Dining table\", \"Coffee\", \"Private entrance\", \"Free parking on premises\", \"Pack \\u2019n play/Travel crib\", \"Dishes and silverware\", \"Bed linens\", \"Clothing storage: closet and dresser\", \"Wine glasses\", \"Private backyard \\u2013 Fully fenced\", \"Body soap\", \"Lockbox\", \"Children\\u2019s dinnerware\", \"Hangers\", \"Hot water\", \"Baking sheet\", \"Board games\", \"Fire extinguisher\", \"Dedicated workspace\", \"Outdoor dining area\", \"Dishwasher\", \"Barbecue utensils\", \"Cleaning products\", \"Free dryer \\u2013 In unit\", \"Wifi\", \"Private patio or balcony\", \"EV charger\", \"Toaster\", \"Long term stays allowed\", \"Garden view\", \"Stove\", \"Exercise equipment: free weights, stationary bike, yoga mat\", \"Ceiling fan\", \"Luggage dropoff allowed\", \"Refrigerator\", \"43\\\" HDTV with Amazon Prime Video, Apple TV\", \"Smoke alarm\", \"Indoor fireplace: wood-burning\", \"Extra pillows and blankets\", \"Host greets you\", \"Shower gel\", \"AC - split type ductless system\", \"Kitchen\", \"Conditioner\", \"Private BBQ grill: gas\", \"Oven\"]",
         "290.0",
         "3.0",
         "32.0",
         "35.0",
         "4.88",
         "4.71",
         "4.91",
         "4.97",
         "4.44",
         "0.22",
         "252.0",
         "t",
         "2023-10-09",
         "Central"
        ],
        [
         "9",
         "85267.0",
         "https://www.airbnb.com/rooms/85267",
         "https://a0.muscache.com/pictures/f16f992b-4cd4-43ce-9b44-b3f2a9cffda0.jpg",
         "Country feeling loft in Plateau",
         null,
         "381468.0",
         "Sylvie",
         "2011-02-07",
         "94.0",
         "80.0",
         "True",
         "8.0",
         "True",
         "Le Plateau-Mont-Royal",
         "45.52946",
         "-73.58206",
         "Entire rental unit",
         "Entire home/apt",
         "3",
         "1.0",
         "1",
         "2.0",
         "[\"Microwave\", \"Free street parking\", \"Shampoo\", \"Hair dryer\", \"Essentials\", \"Heating\", \"Air conditioning\", \"Iron\", \"Cooking basics\", \"Dryer\", \"Private entrance\", \"Free parking on premises\", \"Dishes and silverware\", \"Bed linens\", \"Patio or balcony\", \"Hangers\", \"Washer\", \"Hot water\", \"Wifi\", \"Pets allowed\", \"Stove\", \"Refrigerator\", \"Smoke alarm\", \"Extra pillows and blankets\", \"Kitchen\", \"Oven\", \"Coffee maker\"]",
         "170.0",
         "32.0",
         "730.0",
         "39.0",
         "4.9",
         "4.87",
         "4.9",
         "4.79",
         "4.9",
         "0.25",
         "90.0",
         "t",
         "2023-12-23",
         "Central"
        ],
        [
         "10",
         "99859.0",
         "https://www.airbnb.com/rooms/99859",
         "https://a0.muscache.com/pictures/6163981/22fc24f8_original.jpg",
         "Plateau Charm",
         null,
         "525486.0",
         "Sesaye",
         "2011-04-21",
         "100.0",
         "89.2037483266399",
         "False",
         "1.0",
         "True",
         "Le Plateau-Mont-Royal",
         "45.51856",
         "-73.57756",
         "Entire rental unit",
         "Entire home/apt",
         "4",
         "1.0",
         "2",
         "2.0",
         "[\"Wifi\", \"Dishes and silverware\", \"Private entrance\", \"TV with standard cable\", \"Kitchen\", \"Patio or balcony\", \"Hair dryer\", \"Hangers\", \"Washer\", \"Smoke alarm\", \"Essentials\", \"Heating\", \"Refrigerator\", \"Dedicated workspace\", \"Dryer\", \"Air conditioning\"]",
         "232.0",
         "31.0",
         "364.0",
         "44.0",
         "4.81",
         "4.67",
         "4.81",
         "4.76",
         "4.95",
         "0.28",
         "365.0",
         "t",
         "2023-08-07",
         "Central"
        ],
        [
         "11",
         "135275.0",
         "https://www.airbnb.com/rooms/135275",
         "https://a0.muscache.com/pictures/miso/Hosting-135275/original/cfc6ae0c-d2de-40bb-8b5a-f37dc7b69b9f.jpeg",
         "Charming aparthotel, little Italie",
         "This charming and impeccable one bedroom apartment  is ideally located in Little Italy, walking steps to wonderful Jean-Talon market, restaurants, coffee shops and 2 metros stations.",
         "520966.0",
         "Myriam",
         "2011-04-19",
         "100.0",
         "43.0",
         "False",
         "3.0",
         "True",
         "Villeray-Saint-Michel-Parc-Extension",
         "45.53971",
         "-73.61943",
         "Entire rental unit",
         "Entire home/apt",
         "2",
         "2.0",
         "1",
         "1.0",
         "[\"Microwave\", \"Free street parking\", \"Shampoo\", \"Hair dryer\", \"Essentials\", \"Heating\", \"Self check-in\", \"Air conditioning\", \"Iron\", \"Cooking basics\", \"Dryer\", \"Dishes and silverware\", \"TV with standard cable\", \"Patio or balcony\", \"Lockbox\", \"Hangers\", \"Washer\", \"Hot water\", \"Dishwasher\", \"Wifi\", \"Long term stays allowed\", \"Stove\", \"Luggage dropoff allowed\", \"Refrigerator\", \"Smoke alarm\", \"Kitchen\", \"Oven\", \"Coffee maker\"]",
         "170.0",
         "31.0",
         "730.0",
         "75.0",
         "4.8",
         "4.89",
         "4.95",
         "4.95",
         "4.91",
         "0.48",
         "223.0",
         "t",
         "2024-01-09",
         "North"
        ],
        [
         "12",
         "137443.0",
         "https://www.airbnb.com/rooms/137443",
         "https://a0.muscache.com/pictures/miso/Hosting-137443/original/16af473b-adb5-4a87-b899-0d2830cf82f5.jpeg",
         "Apt + garden (Mile End, Plateau) / # CiTQ 310398",
         "Sunny, spacious and cozy apartment with a garden in the heart of Montreal. It’s located in the Mile End area, part of the Plateau Mont-Royal. Mile End is one of the nicest, welcoming and lively neighborhood in Montreal, close to downtown.",
         "656725.0",
         "Christophe",
         "2011-06-02",
         "100.0",
         "80.0",
         "True",
         "1.0",
         "True",
         "Le Plateau-Mont-Royal",
         "45.52663",
         "-73.60145",
         "Entire rental unit",
         "Entire home/apt",
         "5",
         "1.0",
         "2",
         "2.0",
         "[\"Microwave\", \"Hot water kettle\", \"Essentials\", \"Heating\", \"Self check-in\", \"Outdoor furniture\", \"Air conditioning\", \"Iron\", \"Cooking basics\", \"Dishes and silverware\", \"Bed linens\", \"Private backyard \\u2013 Fully fenced\", \"BBQ grill\", \"Lockbox\", \"Hangers\", \"Washer\", \"Courtyard view\", \"Hot water\", \"Dedicated workspace\", \"Outdoor dining area\", \"Free dryer \\u2013 In unit\", \"Wifi\", \"Private patio or balcony\", \"Garden view\", \"Stove\", \"Refrigerator\", \"Smoke alarm\", \"Kitchen\", \"Oven\", \"Coffee maker\"]",
         "280.0",
         "2.0",
         "67.0",
         "67.0",
         "4.8",
         "4.54",
         "4.98",
         "5.0",
         "4.83",
         "0.46",
         "90.0",
         "t",
         "2023-10-15",
         "Central"
        ],
        [
         "13",
         "160600.0",
         "https://www.airbnb.com/rooms/160600",
         "https://a0.muscache.com/pictures/miso/Hosting-160600/original/32be815f-5520-42fa-8f8c-044c5cb308bc.jpeg",
         "Sunlit Spacious 2BR+Office near to Universities",
         "Escape to this sun-drenched, two-bedroom apartment, complete with a dedicated office, dining room, and living room, all nestled in a peaceful neighborhood. Whether you're here for business, to explore the vibrant city of Montreal, or to visit nearby universities, our generously sized apartment offers the perfect blend of comfort and convenience.<br />This 1000 sq. ft. second-floor duplex apartment is a true gem, <br />exuding an inviting and open atmosphere that's flooded with natural light.",
         "324569.0",
         "Anna",
         "2010-12-21",
         "100.0",
         "100.0",
         "True",
         "2.0",
         "True",
         "Côte-des-Neiges-Notre-Dame-de-Grâce",
         "45.461334228515625",
         "-73.62901306152344",
         "Entire rental unit",
         "Entire home/apt",
         "4",
         "1.0",
         "2",
         "3.0",
         "[\"40\\\" HDTV with Netflix\", \"Microwave\", \"Free street parking\", \"Hot water kettle\", \"Shampoo\", \"Hair dryer\", \"Free washer \\u2013 In unit\", \"Essentials\", \"Self check-in\", \"Keypad\", \"Room-darkening shades\", \"Iron\", \"Outdoor furniture\", \"Portable fans\", \"First aid kit\", \"Cooking basics\", \"Bathtub\", \"Dining table\", \"Coffee\", \"Private entrance\", \"Free parking on premises\", \"Pack \\u2019n play/Travel crib\", \"Dishes and silverware\", \"Bed linens\", \"Wine glasses\", \"AC - split type ductless system\", \"Bluetooth sound system\", \"Hangers\", \"Hot water\", \"Heating - split type ductless system\", \"Paid parking on premises\", \"Board games\", \"Fire extinguisher\", \"Dedicated workspace\", \"Outdoor dining area\", \"Dishwasher\", \"Coffee maker: french press\", \"Cleaning products\", \"Free dryer \\u2013 In unit\", \"Wifi\", \"Private patio or balcony\", \"EV charger\", \"LG electric stove\", \"Toaster\", \"Long term stays allowed\", \"Garden view\", \"Luggage dropoff allowed\", \"Smoke alarm\", \"Costco body soap\", \"Extra pillows and blankets\", \"Shower gel\", \"Clothing storage: closet\", \"Kitchen\", \"Conditioner\", \"Oven\"]",
         "98.0",
         "32.0",
         "180.0",
         "27.0",
         "4.85",
         "4.63",
         "4.96",
         "4.96",
         "4.84",
         "0.18",
         "284.0",
         "t",
         "2023-12-03",
         "Central"
        ],
        [
         "14",
         "160639.0",
         "https://www.airbnb.com/rooms/160639",
         "https://a0.muscache.com/pictures/1016738/053102ac_original.jpg",
         "Cosy Studio apartment",
         "The studio is only used for airbnb. So it is always clean. Kitchen is brand new with coffee maker, fridge, toaster. Washing machine in the studio for your convenience.Fully equipped with bed sheets, towels. High speed internet.HD TV.Terrace accessible in spring/summer. Table and chairs to enjoy the terrace.<br />One double bed + 1 sofa bed.<br />Close to the metro station and buses come every 2-5 mins.",
         "38398.0",
         "Omar",
         "2009-09-14",
         "96.92234744365037",
         "89.2037483266399",
         "False",
         "1.0",
         "True",
         "Rosemont-La Petite-Patrie",
         "45.54512",
         "-73.59808",
         "Entire rental unit",
         "Entire home/apt",
         "2",
         "1.0",
         "1",
         "1.0",
         "[\"Fast wifi \\u2013 469 Mbps\", \"Carbon monoxide alarm\", \"Microwave\", \"Free street parking\", \"Cleaning available during stay\", \"Hot water kettle\", \"Shampoo\", \"Hair dryer\", \"Essentials\", \"Heating\", \"Room-darkening shades\", \"Air conditioning\", \"Iron\", \"Freezer\", \"Cooking basics\", \"Drying rack for clothing\", \"Dryer\", \"Dining table\", \"Coffee\", \"Private entrance\", \"Dishes and silverware\", \"Bed linens\", \"Wine glasses\", \"TV with standard cable\", \"Hangers\", \"Washer\", \"Hot water\", \"Clothing storage: closet, wardrobe, and dresser\", \"Fire extinguisher\", \"Outdoor dining area\", \"Long term stays allowed\", \"Toaster\", \"Stove\", \"Mosquito net\", \"Refrigerator\", \"Shared patio or balcony\", \"Smoke alarm\", \"Single level home\", \"Extra pillows and blankets\", \"Barbecue utensils\", \"Kitchen\", \"Oven\", \"Coffee maker\"]",
         "90.0",
         "186.0",
         "365.0",
         "15.0",
         "4.73",
         "4.67",
         "4.87",
         "4.87",
         "4.33",
         "0.1",
         "358.0",
         "t",
         "2019-11-30",
         "South"
        ],
        [
         "15",
         "164087.0",
         "https://www.airbnb.com/rooms/164087",
         "https://a0.muscache.com/pictures/be23a7b2-c51f-4066-92fe-f4f9766c31ee.jpg",
         "Functional studio (Secret Studio) -plateau",
         "Numéro CITQ: 291093<br /><br />For a stay in the heart of an exceptional location, my studio is the ideal place to visit Montreal. Located in the Plateau-Mont Royal district, you will find all the necessary comfort for 2 people, (1 Queen Size bed). Hair dryer and air conditioning are also included. Sheets and towels will be provided.  For more information, please read the description below :).",
         "604849.0",
         "Martin",
         "2011-05-19",
         "100.0",
         "100.0",
         "True",
         "16.0",
         "True",
         "Le Plateau-Mont-Royal",
         "45.528545",
         "-73.579308",
         "Entire rental unit",
         "Entire home/apt",
         "2",
         "1.0",
         "0",
         "1.0",
         "[\"Microwave\", \"Shampoo\", \"Hair dryer\", \"Essentials\", \"Heating\", \"Self check-in\", \"Keypad\", \"Air conditioning\", \"Iron\", \"Delon conditioner\", \"Paid parking off premises\", \"Cooking basics\", \"TV\", \"Dishes and silverware\", \"Bed linens\", \"BBQ grill\", \"Hangers\", \"Hot water\", \"Fire extinguisher\", \"Wifi\", \"Long term stays allowed\", \"Delon body soap\", \"Refrigerator\", \"Smoke alarm\", \"Single level home\", \"Shower gel\", \"Kitchen\", \"Oven\", \"Coffee maker\"]",
         "104.0",
         "2.0",
         "730.0",
         "723.0",
         "4.84",
         "4.86",
         "4.9",
         "4.92",
         "4.92",
         "4.71",
         "27.0",
         "t",
         "2024-03-07",
         "Central"
        ],
        [
         "16",
         "165108.0",
         "https://www.airbnb.com/rooms/165108",
         "https://a0.muscache.com/pictures/miso/Hosting-165108/original/cb9da740-702d-48dd-b66d-d9c5cf142e8c.png",
         "The Cocooning in the heart of Rosemont",
         "Charming, chic, and cozy apartment, fully equipped and located in a safe residential area with all services within walking distance and very nice small shops. Ideal for enjoying Montreal life and having a pleasant stay surrounded by a multitude of activities for everyone.",
         "787391.0",
         "Karine",
         "2011-07-06",
         "100.0",
         "100.0",
         "False",
         "3.0",
         "True",
         "Rosemont-La Petite-Patrie",
         "45.54673",
         "-73.57181",
         "Entire rental unit",
         "Entire home/apt",
         "3",
         "1.0",
         "2",
         "2.0",
         "[\"Coffee maker: pour-over coffee\", \"Carbon monoxide alarm\", \"Microwave\", \"Crib\", \"Free street parking\", \"Hot water kettle\", \"Shampoo\", \"Radiant heating\", \"Hair dryer\", \"Free washer \\u2013 In unit\", \"Window AC unit\", \"Essentials\", \"Self check-in\", \"Keypad\", \"Room-darkening shades\", \"Iron\", \"High chair\", \"Outdoor furniture\", \"Portable fans\", \"Freezer\", \"40\\\" HDTV with standard cable\", \"Cooking basics\", \"Bathtub\", \"Dining table\", \"Coffee\", \"Private entrance\", \"Free parking on premises\", \"Dishes and silverware\", \"Bed linens\", \"Clothing storage: closet and dresser\", \"Wine glasses\", \"Samsung stainless steel electric stove\", \"Body soap\", \"Hangers\", \"Hot water\", \"Fire extinguisher\", \"Dedicated workspace\", \"Cleaning products\", \"Free dryer \\u2013 In unit\", \"Wifi\", \"Private patio or balcony\", \"Long term stays allowed\", \"Toaster\", \"Mosquito net\", \"Ceiling fan\", \"Refrigerator\", \"Luggage dropoff allowed\", \"Smoke alarm\", \"Extra pillows and blankets\", \"Shower gel\", \"Barbecue utensils\", \"Kitchen\", \"Oven\"]",
         "95.0",
         "31.0",
         "1125.0",
         "32.0",
         "4.69",
         "4.72",
         "4.81",
         "4.81",
         "4.69",
         "0.21",
         "2.0",
         "t",
         "2022-01-02",
         "South"
        ],
        [
         "17",
         "168331.0",
         "https://www.airbnb.com/rooms/168331",
         "https://a0.muscache.com/pictures/miso/Hosting-168331/original/cc326364-2f4a-4de8-a660-3c9ebb5a7988.jpeg",
         "Modern vintage 2 BDR in heart plateau",
         "For a stay in the heart of an exceptional location, my apartment is the ideal place to visit Montreal. Located in the Plateau-Mont Royal district, you will find all the necessary comfort for 4 people, (1 king-size bed, 1 queen size bed). Washing machine and air conditioning are also included. Sheets and towels will be provided. For more information, please read the description below :).",
         "604849.0",
         "Martin",
         "2011-05-19",
         "100.0",
         "100.0",
         "True",
         "16.0",
         "True",
         "Le Plateau-Mont-Royal",
         "45.528431",
         "-73.578979",
         "Entire rental unit",
         "Entire home/apt",
         "4",
         "1.0",
         "2",
         "2.0",
         "[\"Ethernet connection\", \"Microwave\", \"Shampoo\", \"Hair dryer\", \"Essentials\", \"Heating\", \"Self check-in\", \"Keypad\", \"Air conditioning\", \"Iron\", \"Piano\", \"First aid kit\", \"Cooking basics\", \"Dryer\", \"Bathtub\", \"Safe\", \"TV\", \"Dishes and silverware\", \"Bed linens\", \"Bluetooth sound system\", \"Body soap\", \"BBQ grill\", \"Hangers\", \"Washer\", \"Hot water\", \"Fire extinguisher\", \"Dedicated workspace\", \"Dishwasher\", \"Wifi\", \"Long term stays allowed\", \"Ceiling fan\", \"Refrigerator\", \"Smoke alarm\", \"Single level home\", \"Shower gel\", \"Kitchen\", \"Conditioner\", \"Oven\", \"Coffee maker\"]",
         "204.0",
         "2.0",
         "35.0",
         "631.0",
         "4.91",
         "4.83",
         "4.94",
         "4.95",
         "4.94",
         "4.14",
         "24.0",
         "t",
         "2024-03-01",
         "Central"
        ],
        [
         "18",
         "171627.0",
         "https://www.airbnb.com/rooms/171627",
         "https://a0.muscache.com/pictures/a1082c60-0d65-40a6-adba-653ea3747843.jpg",
         "MINI LOUNGE LOFT",
         null,
         "818883.0",
         "Lapelemo",
         "2011-07-14",
         "100.0",
         "33.0",
         "False",
         "4.0",
         "True",
         "Côte-des-Neiges-Notre-Dame-de-Grâce",
         "45.49406",
         "-73.62555",
         "Entire rental unit",
         "Entire home/apt",
         "2",
         "1.0",
         "0",
         "1.0",
         "[\"Carbon monoxide alarm\", \"Shampoo\", \"Shared hot tub\", \"Hair dryer\", \"Free washer \\u2013 In building\", \"Essentials\", \"Heating\", \"Self check-in\", \"Keypad\", \"Shared backyard \\u2013 Fully fenced\", \"Outdoor furniture\", \"Iron\", \"Central air conditioning\", \"First aid kit\", \"Shared gym in building\", \"Cooking basics\", \"80\\\" HDTV with standard cable, Apple TV, Netflix, premium cable\", \"Outdoor kitchen\", \"Fast wifi \\u2013 406 Mbps\", \"Private entrance\", \"Resort access\", \"Dishes and silverware\", \"Bed linens\", \"Exercise equipment\", \"BBQ grill\", \"Hangers\", \"Hot water\", \"Fire extinguisher\", \"Dedicated workspace\", \"Outdoor dining area\", \"City skyline view\", \"Cleaning products\", \"EV charger\", \"Long term stays allowed\", \"Garden view\", \"Free dryer \\u2013 In building\", \"Refrigerator\", \"Shared patio or balcony\", \"Smoke alarm\", \"Security cameras on property\", \"Kitchen\", \"Coffee maker\"]",
         "92.0",
         "31.0",
         "730.0",
         "2.0",
         "5.0",
         "5.0",
         "5.0",
         "5.0",
         "5.0",
         "0.01",
         "265.0",
         "t",
         "2022-08-07",
         "Central"
        ],
        [
         "19",
         "180947.0",
         "https://www.airbnb.com/rooms/180947",
         "https://a0.muscache.com/pictures/32509618/7d25fe03_original.jpg",
         "Loft at Unity 1, Downtown - 423",
         "Located on de la Gauchetière Street with 900 sq. ft. This 1-bed 1-bath loft features exposed concrete, factory-style fenestration and 11 ft. ceilings. Building amenities includes ground-floor bistro, courtyard garden and an indoor parking.",
         "387422.0",
         "Service",
         "2011-02-11",
         "92.0",
         "76.0",
         "False",
         "14.0",
         "True",
         "Ville-Marie",
         "45.50312",
         "-73.56346",
         "Entire rental unit",
         "Entire home/apt",
         "2",
         "1.0",
         "1",
         "1.0",
         "[\"Microwave\", \"Free street parking\", \"Hot water kettle\", \"Hair dryer\", \"Free washer \\u2013 In unit\", \"Essentials\", \"Heating\", \"Room-darkening shades\", \"Iron\", \"Central air conditioning\", \"Clothing storage\", \"Freezer\", \"Cooking basics\", \"Stainless steel oven\", \"Bathtub\", \"Dining table\", \"Free parking on premises\", \"Stainless steel stove\", \"Dishes and silverware\", \"Bed linens\", \"Wine glasses\", \"TV with standard cable\", \"Elevator\", \"Hangers\", \"Hot water\", \"Baking sheet\", \"Dedicated workspace\", \"Paid street parking off premises\", \"Dishwasher\", \"City skyline view\", \"Free dryer \\u2013 In unit\", \"Wifi\", \"Long term stays allowed\", \"Toaster\", \"Refrigerator\", \"Smoke alarm\", \"Host greets you\", \"Kitchen\", \"Coffee maker\"]",
         "115.0",
         "31.0",
         "1125.0",
         "5.0",
         "4.25",
         "4.0",
         "4.4",
         "5.0",
         "5.0",
         "0.04",
         "273.0",
         "t",
         "2022-03-22",
         "Central"
        ],
        [
         "20",
         "190003.0",
         "https://www.airbnb.com/rooms/190003",
         "https://a0.muscache.com/pictures/1232942/3f87ec96_original.jpg",
         "Large sunny room HEARTH of plateau",
         null,
         "640693.0",
         "Marco",
         "2011-05-29",
         "96.92234744365037",
         "89.2037483266399",
         "False",
         "2.0",
         "True",
         "Le Plateau-Mont-Royal",
         "45.51937",
         "-73.56999",
         "Private room in rental unit",
         "Private room",
         "2",
         "1.0",
         "1",
         "1.0",
         "[\"Wifi\", \"Washer\", \"Heating\", \"Kitchen\", \"Dryer\", \"Free parking on premises\", \"Pets allowed\"]",
         "290.0",
         "99.0",
         "9999.0",
         "1.0",
         "5.0",
         "5.0",
         "5.0",
         "5.0",
         "5.0",
         "0.01",
         "365.0",
         "t",
         "2011-08-13",
         "Central"
        ],
        [
         "21",
         "208337.0",
         "https://www.airbnb.com/rooms/208337",
         "https://a0.muscache.com/pictures/1890629/b2fa1773_original.jpg",
         "Large apartment, terrace and garden",
         "in a traditional building of Montreal's architecture, the apartment has retained its original character but with a kitchen and a bathroom all new. Enjoy the large terrace and landscaped garden.",
         "1025518.0",
         "Christian Et Judith",
         "2011-08-26",
         "100.0",
         "95.0",
         "True",
         "5.0",
         "True",
         "Le Plateau-Mont-Royal",
         "45.53217",
         "-73.58388",
         "Entire rental unit",
         "Entire home/apt",
         "6",
         "2.5",
         "4",
         "4.0",
         "[\"Children\\u2019s books and toys\", \"Ethernet connection\", \"Microwave\", \"Free street parking\", \"Shampoo\", \"Hair dryer\", \"Essentials\", \"Heating\", \"Self check-in\", \"Keypad\", \"Outdoor furniture\", \"Air conditioning\", \"Iron\", \"First aid kit\", \"Cooking basics\", \"TV\", \"Dishes and silverware\", \"Bed linens\", \"BBQ grill\", \"Children\\u2019s dinnerware\", \"Hangers\", \"Washer\", \"Hot water\", \"Fire extinguisher\", \"Dedicated workspace\", \"Outdoor dining area\", \"Dishwasher\", \"Free dryer \\u2013 In unit\", \"Wifi\", \"Private patio or balcony\", \"Stove\", \"Luggage dropoff allowed\", \"Refrigerator\", \"Smoke alarm\", \"Single level home\", \"Extra pillows and blankets\", \"Kitchen\", \"Backyard\", \"Oven\", \"Coffee maker\"]",
         "220.0",
         "20.0",
         "365.0",
         "22.0",
         "4.82",
         "4.57",
         "4.76",
         "4.62",
         "4.95",
         "0.15",
         "197.0",
         "t",
         "2022-08-28",
         "Central"
        ],
        [
         "22",
         "211602.0",
         "https://www.airbnb.com/rooms/211602",
         "https://a0.muscache.com/pictures/2359130/4e96dc39_original.jpg",
         "Beautiful sun-filled Studio",
         "Attached to the main house, this small and beautiful studio is filled with south-facing windows and hardwood floors and slate walls, comfortably fits two. <br /><br />The one bedroom suite offers the perfect escapade for a couple, who wants to be driving distance to Montreal.",
         "407029.0",
         "Hans",
         "2011-02-23",
         "96.92234744365037",
         "96.0",
         "True",
         "1.0",
         "True",
         "Baie-d'Urfé",
         "45.41282",
         "-73.90712",
         "Entire guest suite",
         "Entire home/apt",
         "2",
         "1.0",
         "1",
         "1.0",
         "[\"Carbon monoxide alarm\", \"Shampoo\", \"Hair dryer\", \"Essentials\", \"Heating\", \"Air conditioning\", \"Iron\", \"Cooking basics\", \"Dryer\", \"Free parking on premises\", \"TV\", \"Dishes and silverware\", \"Hangers\", \"Washer\", \"Hot water\", \"Fire extinguisher\", \"Long term stays allowed\", \"Fast wifi \\u2013 210 Mbps\", \"Refrigerator\", \"Smoke alarm\", \"Kitchen\", \"Coffee maker\"]",
         "146.0",
         "31.0",
         "90.0",
         "219.0",
         "4.84",
         "4.91",
         "4.93",
         "4.9",
         "4.84",
         "1.73",
         "151.0",
         "t",
         "2023-10-26",
         null
        ],
        [
         "23",
         "231472.0",
         "https://www.airbnb.com/rooms/231472",
         "https://a0.muscache.com/pictures/722a7c78-33e4-46de-bd0e-4c71cd654029.jpg",
         "Charmant appartement équipé",
         null,
         "520966.0",
         "Myriam",
         "2011-04-19",
         "100.0",
         "43.0",
         "False",
         "3.0",
         "True",
         "Villeray-Saint-Michel-Parc-Extension",
         "45.53839",
         "-73.61759",
         "Entire rental unit",
         "Entire home/apt",
         "3",
         "1.0",
         "1",
         "2.0",
         "[\"Free street parking\", \"Shampoo\", \"Hair dryer\", \"Essentials\", \"Heating\", \"Self check-in\", \"Air conditioning\", \"Iron\", \"Dryer\", \"TV with standard cable\", \"Lockbox\", \"Hangers\", \"Washer\", \"Hot water\", \"Wifi\", \"Long term stays allowed\", \"Luggage dropoff allowed\", \"Refrigerator\", \"Shared patio or balcony\", \"Smoke alarm\", \"Kitchen\"]",
         "125.0",
         "31.0",
         "365.0",
         "21.0",
         "4.89",
         "4.9",
         "4.95",
         "4.81",
         "4.86",
         "0.15",
         "65.0",
         "t",
         "2020-03-31",
         "North"
        ],
        [
         "24",
         "233584.0",
         "https://www.airbnb.com/rooms/233584",
         "https://a0.muscache.com/pictures/3800926/933633b3_original.jpg",
         "Spacious room- doubl bed- townhouse",
         "Spacious house fully furnished conveniently located downtown Montreal in Griffintown area with lots of shops, grocery stores, restaurants and a wonderful bike path along the lachine canal.",
         "1020994.0",
         "Melanie",
         "2011-08-25",
         "91.0",
         "55.0",
         "False",
         "7.0",
         "True",
         "Le Sud-Ouest",
         "45.49031",
         "-73.56686",
         "Private room in townhouse",
         "Private room",
         "5",
         "3.0",
         "1",
         "1.0",
         "[\"Carbon monoxide alarm\", \"Hair dryer\", \"Essentials\", \"Heating\", \"Room-darkening shades\", \"Air conditioning\", \"Iron\", \"Cooking basics\", \"Drying rack for clothing\", \"Dryer\", \"Dishes and silverware\", \"Bed linens\", \"TV with standard cable\", \"Shared pool - available all year\", \"Hangers\", \"Washer\", \"Dedicated workspace\", \"Gym\", \"Cleaning products\", \"Wifi\", \"Smoke alarm\", \"Extra pillows and blankets\", \"Clothing storage: closet\", \"Kitchen\"]",
         "30.0",
         "32.0",
         "760.0",
         "5.0",
         "5.0",
         "4.4",
         "4.8",
         "5.0",
         "5.0",
         "0.03",
         "281.0",
         "t",
         "2023-12-24",
         "Central"
        ],
        [
         "25",
         "237216.0",
         "https://www.airbnb.com/rooms/237216",
         "https://a0.muscache.com/pictures/2511192/ab078468_original.jpg",
         "Modern, quiet Studio",
         null,
         "1245164.0",
         "Christophe &  Marie-Andrée",
         "2011-10-04",
         "96.92234744365037",
         "100.0",
         "False",
         "1.0",
         "True",
         "Villeray-Saint-Michel-Parc-Extension",
         "45.55275",
         "-73.60055",
         "Entire rental unit",
         "Entire home/apt",
         "2",
         "1.0",
         "1",
         "1.0",
         "[\"Children\\u2019s books and toys\", \"Coffee maker: pour-over coffee\", \"Electric stove\", \"Microwave\", \"Free street parking\", \"Hot water kettle\", \"Hair dryer\", \"Essentials\", \"Heating\", \"Self check-in\", \"27\\\" HDTV\", \"Iron\", \"Portable fans\", \"Clothing storage\", \"Cooking basics\", \"Mini fridge\", \"Dining table\", \"Private entrance\", \"Free parking on premises\", \"Resort access\", \"Dishes and silverware\", \"Bed linens\", \"Wine glasses\", \"Lockbox\", \"Children\\u2019s dinnerware\", \"Hangers\", \"Hot water\", \"Pocket wifi\", \"Cleaning products\", \"Wifi\", \"Laundromat nearby\", \"Long term stays allowed\", \"Toaster\", \"Mosquito net\", \"Luggage dropoff allowed\", \"Smoke alarm\", \"Single level home\", \"Extra pillows and blankets\", \"Host greets you\", \"Kitchen\", \"Oven\"]",
         "90.0",
         "32.0",
         "1125.0",
         "44.0",
         "4.66",
         "4.65",
         "4.79",
         "4.84",
         "4.6",
         "0.29",
         "151.0",
         "t",
         "2023-09-30",
         "North"
        ],
        [
         "26",
         "238705.0",
         "https://www.airbnb.com/rooms/238705",
         "https://a0.muscache.com/pictures/2228095/db5544dc_original.jpg",
         "Magnificent Family Home in Mile End",
         "Located in the heart of Mile-End, Plateau Mont-Royal, modern, spacious, sunny, 4 bedroom cottage on 2 floors.<br /><br />Fully renovated 2200 square feet (200 square meters) family home, complete with 4 closed bedrooms, 2 full bathrooms, large kitchen, dinning room, 2 living room areas, fully equipped with washer/dryer/ dishwasher etc as well as high speed wi-fi internet.",
         "1251392.0",
         "Victor",
         "2011-10-05",
         "96.92234744365037",
         "89.2037483266399",
         "False",
         "1.0",
         "True",
         "Le Plateau-Mont-Royal",
         "45.5211",
         "-73.59219",
         "Entire cottage",
         "Entire home/apt",
         "6",
         "2.0",
         "4",
         "5.0",
         "[\"Books and reading material\", \"Children\\u2019s books and toys\", \"Carbon monoxide alarm\", \"Free street parking\", \"Hot water kettle\", \"Hair dryer\", \"Essentials\", \"Heating\", \"Room-darkening shades\", \"Iron\", \"Outdoor furniture\", \"Piano\", \"Portable fans\", \"Freezer\", \"Coffee maker: espresso machine\", \"Cooking basics\", \"Blender\", \"Drying rack for clothing\", \"65\\\" HDTV\", \"Stainless steel oven\", \"Dryer\", \"Bathtub\", \"Dining table\", \"Coffee\", \"Private entrance\", \"Stainless steel stove\", \"Dishes and silverware\", \"Bed linens\", \"BBQ grill: charcoal\", \"Private backyard \\u2013 Fully fenced\", \"Hangers\", \"Washer\", \"Hot water\", \"Baking sheet\", \"Fire extinguisher\", \"Paid street parking off premises\", \"Outdoor dining area\", \"Dishwasher\", \"Barbecue utensils\", \"Wifi\", \"Laundromat nearby\", \"Long term stays allowed\", \"Private patio or balcony\", \"Toaster\", \"Refrigerator\", \"Smoke alarm\", \"Host greets you\", \"Extra pillows and blankets\", \"Clothing storage: closet\", \"Kitchen\"]",
         "290.0",
         "31.0",
         "365.0",
         "10.0",
         "4.78",
         "5.0",
         "5.0",
         "5.0",
         "5.0",
         "0.08",
         "62.0",
         "t",
         "2020-01-02",
         "Central"
        ],
        [
         "27",
         "241212.0",
         "https://www.airbnb.com/rooms/241212",
         "https://a0.muscache.com/pictures/645568b9-a5d5-45ef-9dbe-a4a7860803d3.jpg",
         "Le Laurier, exquisite loft",
         "Your health and safety are important to us. Therefore, we ensure thorough cleaning of the premises and surfaces between each reservation.<br />Fully equipped and tastefully furnished apartment, offering great comfort.<br />Personalized decoration with quality exotic furniture for a cozy nest ideal for a family. This two-story accommodation with two living rooms and three bedrooms will charm you for your stay in Montreal in a typical and lively neighborhood of the metropolis",
         "787391.0",
         "Karine",
         "2011-07-06",
         "100.0",
         "100.0",
         "False",
         "3.0",
         "True",
         "Rosemont-La Petite-Patrie",
         "45.5467",
         "-73.57182",
         "Entire rental unit",
         "Entire home/apt",
         "5",
         "1.5",
         "3",
         "3.0",
         "[\"Coffee maker: pour-over coffee\", \"Electric stove\", \"Carbon monoxide alarm\", \"Microwave\", \"Crib\", \"Free street parking\", \"Hot water kettle\", \"Shampoo\", \"Radiant heating\", \"Hair dryer\", \"Free washer \\u2013 In unit\", \"Window AC unit\", \"Essentials\", \"Self check-in\", \"Keypad\", \"Room-darkening shades\", \"Iron\", \"High chair\", \"Outdoor furniture\", \"Portable fans\", \"First aid kit\", \"Freezer\", \"Cooking basics\", \"Blender\", \"Bathtub\", \"Dining table\", \"Coffee\", \"Private entrance\", \"Dishes and silverware\", \"Bed linens\", \"Wine glasses\", \"BBQ grill\", \"Body soap\", \"Hangers\", \"Courtyard view\", \"Hot water\", \"Clothing storage: closet, wardrobe, and dresser\", \"Sound system with aux\", \"Fire extinguisher\", \"Dedicated workspace\", \"Cleaning products\", \"Free dryer \\u2013 In unit\", \"Wifi\", \"Private patio or balcony\", \"Long term stays allowed\", \"Toaster\", \"Mosquito net\", \"Ceiling fan\", \"Refrigerator\", \"Luggage dropoff allowed\", \"52\\\" HDTV with standard cable\", \"Smoke alarm\", \"Free driveway parking on premises \\u2013 1 space\", \"Extra pillows and blankets\", \"Shower gel\", \"Barbecue utensils\", \"Kitchen\", \"Oven\"]",
         "180.0",
         "31.0",
         "352.0",
         "15.0",
         "4.93",
         "4.73",
         "5.0",
         "5.0",
         "4.87",
         "0.1",
         "0.0",
         "t",
         "2023-07-13",
         "South"
        ],
        [
         "28",
         "256043.0",
         "https://www.airbnb.com/rooms/256043",
         "https://a0.muscache.com/pictures/miso/Hosting-256043/original/0ec34966-37c5-451d-b5e5-e298ad97ef15.jpeg",
         "Plateau Mont-Royal Apt. - Long Term Opportunity",
         "The apartment is available for long term rental (6 months or more). Price based on that. Don't hesitate to write us to discuss!<br /><br />Right in the heart of one of city's most active neighborhood! A few steps away from the park Lafontaine - real haven of peace, calm and well-being.",
         "1346302.0",
         "Stéphanie",
         "2011-10-28",
         "96.92234744365037",
         "0.0",
         "False",
         "1.0",
         "True",
         "Le Plateau-Mont-Royal",
         "45.52912",
         "-73.57694",
         "Entire condo",
         "Entire home/apt",
         "3",
         "1.0",
         "2",
         "2.0",
         "[\"Books and reading material\", \"Children\\u2019s books and toys\", \"Coffee maker: pour-over coffee\", \"Ethernet connection\", \"Microwave\", \"Free street parking\", \"Hair dryer\", \"Essentials\", \"Heating\", \"Room-darkening shades\", \"Iron\", \"Air conditioning\", \"Outdoor furniture\", \"Portable fans\", \"First aid kit\", \"Sound system\", \"Freezer\", \"Cooking basics\", \"Blender\", \"Dryer\", \"Bathtub\", \"Dining table\", \"TV\", \"Changing table\", \"Dishes and silverware\", \"Bed linens\", \"Clothing storage: closet and dresser\", \"Wine glasses\", \"Children\\u2019s dinnerware\", \"Hangers\", \"Washer\", \"Hot water\", \"Board games\", \"Fire extinguisher\", \"Dedicated workspace\", \"Outdoor dining area\", \"Dishwasher\", \"City skyline view\", \"Cleaning products\", \"Babysitter recommendations\", \"Wifi\", \"Private patio or balcony\", \"Long term stays allowed\", \"Toaster\", \"Mountain view\", \"Stove\", \"Mosquito net\", \"Luggage dropoff allowed\", \"Refrigerator\", \"Smoke alarm\", \"Single level home\", \"Extra pillows and blankets\", \"Kitchen\", \"Oven\"]",
         "100.0",
         "90.0",
         "450.0",
         "34.0",
         "4.97",
         "5.0",
         "4.79",
         "4.91",
         "4.97",
         "0.32",
         "248.0",
         "t",
         "2020-10-29",
         "Central"
        ],
        [
         "29",
         "262688.0",
         "https://www.airbnb.com/rooms/262688",
         "https://a0.muscache.com/pictures/prohost-api/Hosting-262688/original/57f2e5b0-71ef-4fd1-9471-7bd9793a5b2b.jpeg",
         "Le Tierra - Private Parking Huge Backyard",
         "Very big one bedroom apartment near the Lachine Canal + Atwater Market, calm residential area, up to 4 guests",
         "1016614.0",
         "Home In Montreal",
         "2011-08-24",
         "97.0",
         "98.0",
         "True",
         "16.0",
         "True",
         "Le Sud-Ouest",
         "45.48177",
         "-73.55727",
         "Entire home",
         "Entire home/apt",
         "4",
         "1.0",
         "1",
         "2.0",
         "[\"Children\\u2019s books and toys\", \"Carbon monoxide alarm\", \"Microwave\", \"Crib\", \"Hot water kettle\", \"Shampoo\", \"Hair dryer\", \"Free washer \\u2013 In unit\", \"Window AC unit\", \"Essentials\", \"40\\\" HDTV with Disney+, Netflix, standard cable\", \"Heating\", \"Self check-in\", \"Iron\", \"High chair\", \"First aid kit\", \"Freezer\", \"Cooking basics\", \"Bathtub\", \"Private entrance\", \"Free parking on premises\", \"Dishes and silverware\", \"Bed linens\", \"Wine glasses\", \"Private backyard \\u2013 Fully fenced\", \"BBQ grill\", \"Lockbox\", \"Children\\u2019s dinnerware\", \"Hangers\", \"Hot water\", \"Fire extinguisher\", \"Dedicated workspace\", \"Dishwasher\", \"Free dryer \\u2013 In unit\", \"Wifi\", \"Long term stays allowed\", \"Toaster\", \"Stove\", \"Refrigerator\", \"Smoke alarm\", \"Extra pillows and blankets\", \"Kitchen\", \"Oven\", \"Coffee maker\"]",
         "100.0",
         "2.0",
         "1125.0",
         "230.0",
         "4.75",
         "4.78",
         "4.94",
         "4.9",
         "4.58",
         "1.62",
         "222.0",
         "t",
         "2024-03-03",
         "Central"
        ],
        [
         "30",
         "285349.0",
         "https://www.airbnb.com/rooms/285349",
         "https://a0.muscache.com/pictures/miso/Hosting-285349/original/976fd79b-46c0-44c8-98b4-4593c4cb8c27.jpeg",
         "The authentic and charming Montrealer",
         "Experience the authentic Montreal lifestyle as you delve into the vibrant and creative atmosphere of this neighborhood. Relax in this cozy apartment, adorned with tasteful decor, unique wooden furnishings, and a peaceful garden perfect for unwinding in the evenings",
         "787391.0",
         "Karine",
         "2011-07-06",
         "100.0",
         "100.0",
         "False",
         "3.0",
         "True",
         "Rosemont-La Petite-Patrie",
         "45.55232",
         "-73.58254",
         "Entire rental unit",
         "Entire home/apt",
         "5",
         "1.0",
         "3",
         "3.0",
         "[\"Books and reading material\", \"Coffee maker: pour-over coffee\", \"Carbon monoxide alarm\", \"Microwave\", \"Free street parking\", \"Hot water kettle\", \"Shampoo\", \"Hair dryer\", \"Free washer \\u2013 In unit\", \"Essentials\", \"Self check-in\", \"Room-darkening shades\", \"Iron\", \"High chair\", \"Outdoor furniture\", \"Sound system\", \"Freezer\", \"Cooking basics\", \"Blender\", \"Bathtub\", \"Dining table\", \"Coffee\", \"Private entrance\", \"Beach essentials\", \"Dishes and silverware\", \"Bed linens\", \"Clothing storage: closet and dresser\", \"Wine glasses\", \"Private backyard \\u2013 Fully fenced\", \"BBQ grill\", \"Body soap\", \"Lockbox\", \"Hangers\", \"Hot water\", \"Heating - split type ductless system\", \"Baking sheet\", \"42\\\" HDTV with standard cable\", \"Fire extinguisher\", \"Dedicated workspace\", \"Outdoor dining area\", \"Dishwasher\", \"Cleaning products\", \"Free dryer \\u2013 In unit\", \"Wifi\", \"Private patio or balcony\", \"Long term stays allowed\", \"Toaster\", \"Garden view\", \"Stove\", \"Mosquito net\", \"Ceiling fan\", \"Refrigerator\", \"Luggage dropoff allowed\", \"Smoke alarm\", \"Host greets you\", \"Extra pillows and blankets\", \"Shower gel\", \"Barbecue utensils\", \"Kitchen\", \"Conditioner\", \"Oven\"]",
         "180.0",
         "31.0",
         "1125.0",
         "9.0",
         "4.78",
         "4.89",
         "5.0",
         "4.89",
         "4.89",
         "0.13",
         "240.0",
         "t",
         "2021-10-10",
         "South"
        ],
        [
         "31",
         "285497.0",
         "https://www.airbnb.com/rooms/285497",
         "https://a0.muscache.com/pictures/78b18b29-3d2a-4fd7-8212-2a0bc36e0e68.jpg",
         "Beautiful penthouse central location",
         "BEAUTIFUL condo near MCGill University, downtown, Plateau-Mont-Royal and Quartier des spectacles. Apartment on the 3rd and last floor of the building. The bedroom is located on the 4th floor, adjacent to both private terraces. The bedroom is really private. Amazing private terraces also!",
         "1486044.0",
         "Karine",
         "2011-12-08",
         "100.0",
         "100.0",
         "False",
         "1.0",
         "True",
         "Le Plateau-Mont-Royal",
         "45.50987034747321",
         "-73.57478747685784",
         "Entire condo",
         "Entire home/apt",
         "2",
         "1.0",
         "1",
         "2.0",
         "[\"Carbon monoxide alarm\", \"Free street parking\", \"Shampoo\", \"Hair dryer\", \"Essentials\", \"Heating\", \"Self check-in\", \"Outdoor furniture\", \"Air conditioning\", \"Iron\", \"Cooking basics\", \"Dryer\", \"TV\", \"Dishes and silverware\", \"BBQ grill\", \"Lockbox\", \"Hangers\", \"Washer\", \"Hot water\", \"Paid parking on premises\", \"Fire extinguisher\", \"Dedicated workspace\", \"Outdoor dining area\", \"Dishwasher\", \"City skyline view\", \"Wifi\", \"Long term stays allowed\", \"Private patio or balcony\", \"Stove\", \"Luggage dropoff allowed\", \"Refrigerator\", \"Smoke alarm\", \"Kitchen\", \"Oven\", \"Coffee maker\"]",
         "100.0",
         "31.0",
         "1125.0",
         "14.0",
         "4.71",
         "4.64",
         "4.93",
         "4.86",
         "4.93",
         "0.13",
         "335.0",
         "t",
         "2023-08-15",
         "Central"
        ],
        [
         "32",
         "286671.0",
         "https://www.airbnb.com/rooms/286671",
         "https://a0.muscache.com/pictures/a0c4f5a8-fdbc-48a5-98eb-c3deceb1ffc5.jpg",
         "Bel appartement Plateau Mt-Royal Métro Sherbrooke",
         "Ideally located, the apartment includes a closed and well-lit bedroom, a large living area, dining area open to a kitchen with counters. A closed office with garden views. A private and covered terrace in the rear. <br /><br />Perfect location, few steps from Sherbrooke metro station. the apartment feature a private bedroom in the front part, a large central area for living room, dining room and kitchen. A quiet office with a garden view in the back +  Private covered terrace.",
         "1145010.0",
         "Ian",
         "2011-09-12",
         "96.92234744365037",
         "89.2037483266399",
         "False",
         "1.0",
         "True",
         "Le Plateau-Mont-Royal",
         "45.51898",
         "-73.56871",
         "Entire rental unit",
         "Entire home/apt",
         "2",
         "1.0",
         "1",
         "1.0",
         "[\"First aid kit\", \"Wifi\", \"Private entrance\", \"TV with standard cable\", \"Kitchen\", \"Refrigerator\", \"Washer\", \"Smoke alarm\", \"Essentials\", \"Heating\", \"Fire extinguisher\", \"Dedicated workspace\", \"Dryer\", \"Iron\"]",
         "130.0",
         "31.0",
         "1125.0",
         "10.0",
         "4.7",
         "4.9",
         "4.8",
         "4.9",
         "4.9",
         "0.07",
         "80.0",
         "t",
         "2014-10-14",
         "Central"
        ],
        [
         "33",
         "291629.0",
         "https://www.airbnb.com/rooms/291629",
         "https://a0.muscache.com/pictures/3808836/fecce964_original.jpg",
         "Studio in Rosemont - Rouge",
         "Studio with everything you need, in Rosemont.",
         "1510828.0",
         "Marie-France Et Alain",
         "2011-12-16",
         "100.0",
         "100.0",
         "False",
         "1.0",
         "True",
         "Rosemont-La Petite-Patrie",
         "45.54967",
         "-73.58588",
         "Entire rental unit",
         "Entire home/apt",
         "1",
         "1.0",
         "0",
         "0.0",
         "[\"Microwave\", \"Free street parking\", \"Shampoo\", \"Hair dryer\", \"Essentials\", \"Heating\", \"Self check-in\", \"Iron\", \"Cooking basics\", \"Fast wifi \\u2013 379 Mbps\", \"TV\", \"Pack \\u2019n play/Travel crib\", \"Dishes and silverware\", \"Patio or balcony\", \"Lockbox\", \"Hangers\", \"Washer\", \"Hot water\", \"Fire extinguisher\", \"Dedicated workspace\", \"Long term stays allowed\", \"Stove\", \"Refrigerator\", \"Smoke alarm\", \"Kitchen\", \"Oven\", \"Coffee maker\"]",
         "40.0",
         "45.0",
         "365.0",
         "83.0",
         "4.89",
         "4.95",
         "4.96",
         "4.95",
         "4.57",
         "0.57",
         "146.0",
         "t",
         "2024-01-13",
         "South"
        ],
        [
         "34",
         "293760.0",
         "https://www.airbnb.com/rooms/293760",
         "https://a0.muscache.com/pictures/11723351/4aa8f3a0_original.jpg",
         "br. fully equip short/ long term",
         null,
         "1327466.0",
         "Marie Gyby",
         "2011-10-23",
         "100.0",
         "100.0",
         "True",
         "3.0",
         "True",
         "Saint-Laurent",
         "45.52353",
         "-73.68069",
         "Private room in rental unit",
         "Private room",
         "1",
         "1.0",
         "1",
         "1.0",
         "[\"Lock on bedroom door\", \"Wifi\", \"Dishes and silverware\", \"TV with standard cable\", \"Cooking basics\", \"Washer\", \"Hot water\", \"Essentials\", \"Heating\", \"Host greets you\", \"Kitchen\", \"Dryer\"]",
         "35.0",
         "31.0",
         "1125.0",
         "38.0",
         "4.63",
         "4.7",
         "4.8",
         "4.83",
         "4.4",
         "0.26",
         "266.0",
         "t",
         "2024-02-05",
         "North"
        ],
        [
         "35",
         "319695.0",
         "https://www.airbnb.com/rooms/319695",
         "https://a0.muscache.com/pictures/miso/Hosting-319695/original/39cfca0c-0b2d-43a5-9d81-67442191920d.jpeg",
         "Sleek Mile End Loft near Ubisoft & Publicis",
         "BRAND NEW INTERIOR DECOR AS OF SEPT 2023! <br /><br />Stay 5 minutes away from some of the best places in the Mile End -- the Williamsburg of Montreal known for its quirky and delightful restaurants, bars, cafés and nightlife.",
         "370793.0",
         "Aleece",
         "2011-01-31",
         "100.0",
         "100.0",
         "True",
         "2.0",
         "True",
         "Le Plateau-Mont-Royal",
         "45.52459",
         "-73.59616",
         "Entire condo",
         "Entire home/apt",
         "3",
         "1.0",
         "1",
         "2.0",
         "[\"Books and reading material\", \"Cleaning available during stay\", \"Microwave\", \"Fast wifi \\u2013 432 Mbps\", \"Exercise equipment: yoga mat\", \"Shampoo\", \"Radiant heating\", \"Hot water kettle\", \"Hair dryer\", \"Free washer \\u2013 In unit\", \"Essentials\", \"Room-darkening shades\", \"Iron\", \"Outdoor furniture\", \"Portable fans\", \"First aid kit\", \"Freezer\", \"Frigidaire stainless steel single oven\", \"Frigidaire  refrigerator\", \"55\\\" HDTV with Amazon Prime Video, Apple TV, Chromecast, Disney+, HBO Max, Hulu, Netflix\", \"Cooking basics\", \"Blender\", \"Bathtub\", \"Dining table\", \"Coffee\", \"Free parking on premises\", \"Dishes and silverware\", \"Bed linens\", \"Clothing storage: closet and dresser\", \"Wine glasses\", \"BBQ grill: gas\", \"Bluetooth sound system\", \"Body soap\", \"Elevator\", \"Hangers\", \"Hot water\", \"Baking sheet\", \"Board games\", \"Fire extinguisher\", \"Sun loungers\", \"Dedicated workspace\", \"Outdoor dining area\", \"Dishwasher\", \"Paid street parking off premises\", \"Cleaning products\", \"Free dryer \\u2013 In unit\", \"EV charger\", \"Long term stays allowed\", \"Toaster\", \"Ceiling fan\", \"Portable air conditioning\", \"Luggage dropoff allowed\", \"Shared patio or balcony\", \"Smoke alarm\", \"Frigidaire stainless steel electric stove\", \"Single level home\", \"Extra pillows and blankets\", \"Shower gel\", \"Kitchen\", \"Conditioner\", \"Coffee maker\"]",
         "128.0",
         "180.0",
         "730.0",
         "33.0",
         "4.77",
         "4.9",
         "4.97",
         "5.0",
         "4.97",
         "0.23",
         "202.0",
         "t",
         "2021-06-21",
         "Central"
        ],
        [
         "36",
         "331764.0",
         "https://www.airbnb.com/rooms/331764",
         "https://a0.muscache.com/pictures/13033298/5a8a8b01_original.jpg",
         "Loft sur le Plateau avec terrasse",
         null,
         "1676310.0",
         "Julien",
         "2012-01-30",
         "100.0",
         "86.0",
         "True",
         "1.0",
         "True",
         "Le Plateau-Mont-Royal",
         "45.52916",
         "-73.57174",
         "Entire loft",
         "Entire home/apt",
         "2",
         "1.0",
         "1",
         "1.0",
         "[\"Electric stove\", \"Microwave\", \"Free street parking\", \"Hot water kettle\", \"Shampoo\", \"Hair dryer\", \"Essentials\", \"Heating\", \"Room-darkening shades\", \"Outdoor furniture\", \"Central air conditioning\", \"Paid parking off premises\", \"Freezer\", \"Cooking basics\", \"Dining table\", \"Coffee\", \"Private entrance\", \"Dishes and silverware\", \"Bed linens\", \"Wine glasses\", \"Hangers\", \"Hot water\", \"Baking sheet\", \"Fire extinguisher\", \"Coffee maker: drip coffee maker\", \"Outdoor dining area\", \"Wifi\", \"Laundromat nearby\", \"Long term stays allowed\", \"Private patio or balcony\", \"Toaster\", \"Ceiling fan\", \"Refrigerator\", \"Smoke alarm\", \"Host greets you\", \"Extra pillows and blankets\", \"Clothing storage: closet\", \"Kitchen\", \"Oven\"]",
         "48.0",
         "31.0",
         "1125.0",
         "69.0",
         "4.81",
         "4.93",
         "4.9",
         "4.94",
         "4.84",
         "0.49",
         "111.0",
         "t",
         "2024-02-25",
         "Central"
        ],
        [
         "37",
         "353210.0",
         "https://www.airbnb.com/rooms/353210",
         "https://a0.muscache.com/pictures/miso/Hosting-353210/original/24866a99-21ca-4979-a50e-fc2e2e0915d4.jpeg",
         "Small room in a wonderful house",
         "Small minimalist bedroom with everything a modern traveller need. The room has a table a double bed(small double bed, it's 48 inch wide). plenty of storages wardrobe, space under the bed to put luggages or other stuff you don't need every day. Private balcony with nice morning sun.",
         "1789044.0",
         "Colin&Özge",
         "2012-02-21",
         "100.0",
         "79.0",
         "False",
         "3.0",
         "True",
         "Mercier-Hochelaga-Maisonneuve",
         "45.55646",
         "-73.53311",
         "Private room in rental unit",
         "Private room",
         "2",
         "2.0",
         "1",
         "1.0",
         "[\"Carbon monoxide alarm\", \"Microwave\", \"Free street parking\", \"Shampoo\", \"Hair dryer\", \"Essentials\", \"Heating\", \"Outdoor playground\", \"Shared backyard \\u2013 Fully fenced\", \"Outdoor furniture\", \"High chair\", \"Children's playroom\", \"Cooking basics\", \"Dryer\", \"Free parking on premises\", \"Dishes and silverware\", \"BBQ grill\", \"Washer\", \"Hot water\", \"Fire extinguisher\", \"Dedicated workspace\", \"Outdoor dining area\", \"Dishwasher\", \"Gym\", \"Wifi\", \"Long term stays allowed\", \"Private patio or balcony\", \"Stove\", \"Luggage dropoff allowed\", \"Refrigerator\", \"Smoke alarm\", \"Host greets you\", \"Kitchen\", \"Oven\", \"Coffee maker\"]",
         "40.0",
         "31.0",
         "1125.0",
         "29.0",
         "4.93",
         "4.86",
         "4.96",
         "4.96",
         "4.75",
         "0.21",
         "162.0",
         "t",
         "2024-02-15",
         "East"
        ],
        [
         "38",
         "366300.0",
         "https://www.airbnb.com/rooms/366300",
         "https://a0.muscache.com/pictures/9661303/9ab1e72a_original.jpg",
         "Beautiful LOFT in the Plateau MTL",
         null,
         "1849455.0",
         "Jackie",
         "2012-03-03",
         "96.92234744365037",
         "89.2037483266399",
         "False",
         "1.0",
         "True",
         "Le Plateau-Mont-Royal",
         "45.51783",
         "-73.58198",
         "Entire loft",
         "Entire home/apt",
         "4",
         "1.0",
         "1",
         "1.0",
         "[\"TV\", \"Pack \\u2019n play/Travel crib\", \"Elevator\", \"Hair dryer\", \"Washer\", \"Heating\", \"Dryer\", \"Kitchen\", \"Bathtub\", \"Air conditioning\", \"Pets allowed\"]",
         "220.0",
         "365.0",
         "1125.0",
         "15.0",
         "5.0",
         "4.92",
         "4.85",
         "4.92",
         "5.0",
         "0.1",
         "364.0",
         "t",
         "2017-07-04",
         "Central"
        ],
        [
         "39",
         "397489.0",
         "https://www.airbnb.com/rooms/397489",
         "https://a0.muscache.com/pictures/53790ad8-831a-4dcd-861a-5bddf439c318.jpg",
         "Montreal downtown condo.",
         "Modern and cozy apartment, fully equipped and ideally located. Walking distance to the metro line, rue Notre-Dame, the Atwater market, Griffintown,  'Canal de Lachine', rue Saint-Catherine, Concordia University, and the city center. Lots of restaurants, cafes, bakeries and other great shops.",
         "1980685.0",
         "Chad",
         "2012-03-21",
         "67.0",
         "100.0",
         "False",
         "1.0",
         "True",
         "Le Sud-Ouest",
         "45.4888",
         "-73.57092",
         "Entire condo",
         "Entire home/apt",
         "5",
         "1.5",
         "2",
         "2.0",
         "[\"Microwave\", \"Crib\", \"Free street parking\", \"Shampoo\", \"Hair dryer\", \"Essentials\", \"Heating\", \"Hot tub\", \"Self check-in\", \"Keypad\", \"Air conditioning\", \"Iron\", \"Fireplace guards\", \"Cooking basics\", \"Dryer\", \"Private entrance\", \"Free parking on premises\", \"TV\", \"Dishes and silverware\", \"Hangers\", \"Washer\", \"Hot water\", \"Courtyard view\", \"Wifi\", \"Long term stays allowed\", \"Refrigerator\", \"Smoke alarm\", \"Kitchen\", \"Indoor fireplace\", \"Coffee maker\"]",
         "129.0",
         "200.0",
         "730.0",
         "25.0",
         "4.52",
         "4.22",
         "4.63",
         "4.71",
         "4.67",
         "0.17",
         "365.0",
         "t",
         "2021-02-01",
         "Central"
        ],
        [
         "40",
         "416010.0",
         "https://www.airbnb.com/rooms/416010",
         "https://a0.muscache.com/pictures/5321008/0bb1d5d3_original.jpg",
         "Apt central et lumineux (4) (Long terme)",
         "Cute and sunny apartment in the heart of Old Rosemont, a peaceful but alive neighbourhood.  Live the real Montreal life! Anything you need at a walking distance!",
         "702508.0",
         "Andréane",
         "2011-06-14",
         "100.0",
         "61.0",
         "True",
         "2.0",
         "True",
         "Rosemont-La Petite-Patrie",
         "45.5519",
         "-73.57544",
         "Entire rental unit",
         "Entire home/apt",
         "2",
         "1.0",
         "1",
         "1.0",
         "[\"Microwave\", \"Free street parking\", \"Shampoo\", \"Hair dryer\", \"Essentials\", \"Heating\", \"Self check-in\", \"Cooking basics\", \"TV\", \"Dishes and silverware\", \"Patio or balcony\", \"Lockbox\", \"Hot water\", \"Fire extinguisher\", \"Dedicated workspace\", \"Wifi\", \"Long term stays allowed\", \"Stove\", \"Refrigerator\", \"Smoke alarm\", \"Kitchen\", \"Oven\", \"Coffee maker\"]",
         "50.0",
         "60.0",
         "1125.0",
         "36.0",
         "4.67",
         "4.5",
         "4.91",
         "4.85",
         "4.59",
         "0.25",
         "322.0",
         "t",
         "2022-12-20",
         "South"
        ],
        [
         "41",
         "418104.0",
         "https://www.airbnb.com/rooms/418104",
         "https://a0.muscache.com/pictures/4928475/2be1631e_original.jpg",
         "Charming studio in old-Rosemont",
         null,
         "2077991.0",
         "Janique And Frederic",
         "2012-04-05",
         "96.92234744365037",
         "100.0",
         "True",
         "1.0",
         "True",
         "Rosemont-La Petite-Patrie",
         "45.54702",
         "-73.57514",
         "Entire rental unit",
         "Entire home/apt",
         "2",
         "1.0",
         "1",
         "1.0",
         "[\"Children\\u2019s books and toys\", \"Microwave\", \"Crib\", \"Free street parking\", \"Shampoo\", \"Hair dryer\", \"Essentials\", \"Heating\", \"Self check-in\", \"Room-darkening shades\", \"Iron\", \"Cooking basics\", \"Dryer\", \"Bathtub\", \"Private entrance\", \"Dishes and silverware\", \"Bed linens\", \"TV with standard cable\", \"Lockbox\", \"Hangers\", \"Washer\", \"Hot water\", \"Wifi\", \"Long term stays allowed\", \"Stove\", \"Luggage dropoff allowed\", \"Refrigerator\", \"Smoke alarm\", \"Extra pillows and blankets\", \"Shower gel\", \"Kitchen\", \"Oven\", \"Coffee maker\"]",
         "75.0",
         "32.0",
         "1125.0",
         "400.0",
         "4.89",
         "4.91",
         "4.95",
         "4.94",
         "4.61",
         "2.76",
         "31.0",
         "t",
         "2024-02-23",
         "South"
        ],
        [
         "42",
         "425582.0",
         "https://www.airbnb.com/rooms/425582",
         "https://a0.muscache.com/pictures/miso/Hosting-425582/original/987fcc13-6c07-4ca1-b886-f6effc22d416.jpeg",
         "Montreal for family Monthly only!",
         null,
         "1775783.0",
         "Corinne",
         "2012-02-19",
         "96.92234744365037",
         "89.2037483266399",
         "False",
         "2.0",
         "True",
         "Le Plateau-Mont-Royal",
         "45.53812",
         "-73.56037",
         "Entire rental unit",
         "Entire home/apt",
         "4",
         "1.0",
         "3",
         "3.0",
         "[\"Children\\u2019s books and toys\", \"Free street parking\", \"Crib\", \"Hair dryer\", \"Essentials\", \"Heating\", \"Air conditioning\", \"Iron\", \"Children's playroom\", \"Dryer\", \"TV\", \"Dishes and silverware\", \"Patio or balcony\", \"Children\\u2019s dinnerware\", \"Washer\", \"Hot water\", \"Fire extinguisher\", \"Dedicated workspace\", \"Wifi\", \"Long term stays allowed\", \"Refrigerator\", \"Smoke alarm\", \"Kitchen\", \"Coffee maker\"]",
         "75.0",
         "32.0",
         "180.0",
         "12.0",
         "4.6",
         "4.55",
         "4.64",
         "4.91",
         "4.73",
         "0.08",
         "142.0",
         "t",
         "2022-11-20",
         "Central"
        ],
        [
         "43",
         "426532.0",
         "https://www.airbnb.com/rooms/426532",
         "https://a0.muscache.com/pictures/36957561/6bf3467a_original.jpg",
         "Le Bruxelles - CHIC apt near metro: parking &patio",
         "Stylish and big apartment close to metro and Atwater Market",
         "1016614.0",
         "Home In Montreal",
         "2011-08-24",
         "97.0",
         "98.0",
         "True",
         "16.0",
         "True",
         "Verdun",
         "45.46853",
         "-73.57173",
         "Entire rental unit",
         "Entire home/apt",
         "4",
         "1.0",
         "1",
         "1.0",
         "[\"Carbon monoxide alarm\", \"Microwave\", \"Free street parking\", \"Hair dryer\", \"Essentials\", \"Heating\", \"Self check-in\", \"Outdoor furniture\", \"Air conditioning\", \"Iron\", \"Cooking basics\", \"Dryer\", \"Free parking on premises\", \"Dishes and silverware\", \"Private backyard \\u2013 Fully fenced\", \"BBQ grill\", \"Lockbox\", \"Hangers\", \"Washer\", \"Hot water\", \"Fire extinguisher\", \"HDTV\", \"Outdoor dining area\", \"Dishwasher\", \"Wifi\", \"Long term stays allowed\", \"Private patio or balcony\", \"Stove\", \"Refrigerator\", \"Smoke alarm\", \"Kitchen\", \"Oven\", \"Coffee maker\"]",
         "112.0",
         "90.0",
         "1125.0",
         "12.0",
         "4.64",
         "4.67",
         "4.75",
         "4.75",
         "4.5",
         "0.08",
         "297.0",
         "t",
         "2022-04-18",
         "South"
        ],
        [
         "44",
         "453936.0",
         "https://www.airbnb.com/rooms/453936",
         "https://a0.muscache.com/pictures/5290870/6ea959c1_original.jpg",
         "Luminous LOFT, Calm and Spacious",
         "Exceptionally well situated on Saint-Laurent boulevard, the 311 is in the Vineberg (then Berman) building at 4060 St-Laurent (near Duluth). In the heart of the Montreal cultural life,  at few steps from the Mont-Royal and the Jeanne-Mance park.",
         "1904354.0",
         "Serge",
         "2012-03-11",
         "100.0",
         "90.0",
         "True",
         "1.0",
         "True",
         "Le Plateau-Mont-Royal",
         "45.51614",
         "-73.581",
         "Entire rental unit",
         "Entire home/apt",
         "2",
         "1.0",
         "1",
         "1.0",
         "[\"Carbon monoxide alarm\", \"Shampoo\", \"Hair dryer\", \"Essentials\", \"Heating\", \"Air conditioning\", \"Iron\", \"First aid kit\", \"Dryer\", \"Dishes and silverware\", \"Bed linens\", \"TV with standard cable\", \"Elevator\", \"Hangers\", \"Washer\", \"Hot water\", \"Fire extinguisher\", \"Dedicated workspace\", \"Wifi\", \"Smoke alarm\", \"Host greets you\", \"Clothing storage: closet\", \"Kitchen\", \"Coffee maker\"]",
         "115.0",
         "3.0",
         "40.0",
         "374.0",
         "4.93",
         "4.95",
         "4.94",
         "4.95",
         "4.96",
         "2.6",
         "166.0",
         "t",
         "2024-03-04",
         "Central"
        ],
        [
         "45",
         "481023.0",
         "https://www.airbnb.com/rooms/481023",
         "https://a0.muscache.com/pictures/7492701/7e010b0c_original.jpg",
         "Loft-like Apartment & Rooftop Views",
         "We renovated our place ourselves, so there are lots of special touches, from a circular window in the bathroom overlooking the mountain, to the high ceilings with exposed beams. There is abundant natural light and a beautiful rooftop terrace.<br />This is a no smoking apartment, and no pets.",
         "1149654.0",
         "Jessica",
         "2011-09-12",
         "96.92234744365037",
         "89.2037483266399",
         "False",
         "3.0",
         "True",
         "Le Plateau-Mont-Royal",
         "45.52428",
         "-73.58825",
         "Entire loft",
         "Entire home/apt",
         "4",
         "2.0",
         "2",
         "3.0",
         "[\"Children\\u2019s books and toys\", \"Carbon monoxide alarm\", \"Microwave\", \"Free street parking\", \"Shampoo\", \"Hair dryer\", \"Essentials\", \"Heating\", \"Outdoor furniture\", \"Iron\", \"Cooking basics\", \"Dryer\", \"Dishes and silverware\", \"Bed linens\", \"Hangers\", \"Washer\", \"Hot water\", \"Dedicated workspace\", \"Outdoor dining area\", \"Dishwasher\", \"Wifi\", \"Long term stays allowed\", \"Private patio or balcony\", \"Stove\", \"Luggage dropoff allowed\", \"Refrigerator\", \"Smoke alarm\", \"Host greets you\", \"Extra pillows and blankets\", \"Kitchen\", \"Oven\", \"Coffee maker\"]",
         "252.0",
         "32.0",
         "1125.0",
         "15.0",
         "4.86",
         "4.79",
         "4.86",
         "5.0",
         "5.0",
         "0.1",
         "364.0",
         "t",
         "2019-08-08",
         "Central"
        ],
        [
         "46",
         "487610.0",
         "https://www.airbnb.com/rooms/487610",
         "https://a0.muscache.com/pictures/6845525/15870550_original.jpg",
         "Nice room in the heart of Montreal",
         null,
         "2170500.0",
         "Cecel",
         "2012-04-18",
         "0.0",
         "0.0",
         "False",
         "2.0",
         "True",
         "Le Plateau-Mont-Royal",
         "45.51272",
         "-73.57613",
         "Private room in rental unit",
         "Private room",
         "1",
         "1.0",
         "1",
         "1.0",
         "[\"Microwave\", \"Heating\", \"Iron\", \"Cooking basics\", \"Dryer\", \"Dishes and silverware\", \"Bed linens\", \"Patio or balcony\", \"Hangers\", \"Washer\", \"Hot water\", \"Dishwasher\", \"Wifi\", \"Long term stays allowed\", \"Stove\", \"Luggage dropoff allowed\", \"Refrigerator\", \"Extra pillows and blankets\", \"Kitchen\", \"Oven\", \"Coffee maker\"]",
         "27.0",
         "31.0",
         "1125.0",
         "20.0",
         "4.95",
         "4.76",
         "4.95",
         "4.89",
         "4.95",
         "0.14",
         "0.0",
         "t",
         "2020-03-28",
         "Central"
        ],
        [
         "47",
         "488221.0",
         "https://www.airbnb.com/rooms/488221",
         "https://a0.muscache.com/pictures/5805780/129f2f13_original.jpg",
         "Oasis next to Jean Talon market CITQ 314174",
         "This spacious 1700 square feet ground floor apartment is just few steps from Jean Talon market.A perfect place for a family or a small group. Located in the heart of famous Little Italy, five minutes from two metro lines,",
         "1375370.0",
         "Pierre Et Martyna",
         "2011-11-06",
         "100.0",
         "69.0",
         "False",
         "2.0",
         "True",
         "Rosemont-La Petite-Patrie",
         "45.53556",
         "-73.61186",
         "Entire condo",
         "Entire home/apt",
         "6",
         "1.0",
         "3",
         "3.0",
         "[\"Children\\u2019s books and toys\", \"Carbon monoxide alarm\", \"Free street parking\", \"Shampoo\", \"Hair dryer\", \"Essentials\", \"Heating\", \"Self check-in\", \"Room-darkening shades\", \"Iron\", \"High chair\", \"Outdoor furniture\", \"Drying rack for clothing\", \"Dryer\", \"Bathtub\", \"TV\", \"Bed linens\", \"BBQ grill\", \"Lockbox\", \"Hangers\", \"Washer\", \"Hot water\", \"Dedicated workspace\", \"Outdoor dining area\", \"Wifi\", \"Mosquito net\", \"Luggage dropoff allowed\", \"Smoke alarm\", \"Extra pillows and blankets\", \"Kitchen\", \"Pets allowed\"]",
         "285.0",
         "6.0",
         "365.0",
         "24.0",
         "4.88",
         "4.87",
         "4.91",
         "4.96",
         "4.83",
         "0.17",
         "99.0",
         "t",
         "2023-12-28",
         "South"
        ],
        [
         "48",
         "500701.0",
         "https://www.airbnb.com/rooms/500701",
         "https://a0.muscache.com/pictures/6718175/73d17e67_original.jpg",
         "Amazing loft in Montreal downtown",
         "Amazing huge loft with closed rooms in a ex bowling near Atwater market with an amazing city view",
         "2470535.0",
         "Valerie",
         "2012-05-26",
         "50.0",
         "0.0",
         "True",
         "1.0",
         "True",
         "Le Sud-Ouest",
         "45.48004",
         "-73.58113",
         "Entire loft",
         "Entire home/apt",
         "8",
         "2.5",
         "4",
         "0.0",
         "[\"Children\\u2019s books and toys\", \"Carbon monoxide alarm\", \"Microwave\", \"Crib\", \"Free street parking\", \"Game console\", \"Hair dryer\", \"Essentials\", \"Heating\", \"Iron\", \"High chair\", \"First aid kit\", \"Cooking basics\", \"Dryer\", \"Oven\", \"Dishes and silverware\", \"BBQ grill\", \"Hangers\", \"Washer\", \"Fire extinguisher\", \"Dishwasher\", \"Wifi\", \"Babysitter recommendations\", \"Private patio or balcony\", \"Pets allowed\", \"Stove\", \"Ceiling fan\", \"Luggage dropoff allowed\", \"Refrigerator\", \"Smoke alarm\", \"AC - split type ductless system\", \"Kitchen\", \"Indoor fireplace\", \"Coffee maker\"]",
         "290.0",
         "31.0",
         "300.0",
         "327.0",
         "4.84",
         "4.72",
         "4.92",
         "4.9",
         "4.72",
         "2.31",
         "263.0",
         "t",
         "2023-10-29",
         "Central"
        ],
        [
         "49",
         "511509.0",
         "https://www.airbnb.com/rooms/511509",
         "https://a0.muscache.com/pictures/6134939/53a23837_original.jpg",
         "Prime Location in Old Montreal - 2 floors",
         null,
         "2519666.0",
         "Andrew",
         "2012-06-01",
         "100.0",
         "97.0",
         "True",
         "1.0",
         "True",
         "Ville-Marie",
         "45.50922",
         "-73.5519",
         "Entire rental unit",
         "Entire home/apt",
         "4",
         "1.0",
         "1",
         "2.0",
         "[\"TV\", \"Wifi\", \"Air conditioning\", \"Carbon monoxide alarm\", \"Shampoo\", \"Hair dryer\", \"Hangers\", \"Washer\", \"Hot water\", \"Essentials\", \"Heating\", \"Smoke alarm\", \"Kitchen\", \"Dryer\", \"Iron\"]",
         "109.0",
         "2.0",
         "1125.0",
         "325.0",
         "4.77",
         "4.54",
         "4.82",
         "4.93",
         "4.98",
         "2.27",
         "233.0",
         "t",
         "2024-03-08",
         "Central"
        ]
       ],
       "shape": {
        "columns": 37,
        "rows": 8140
       }
      },
      "text/html": [
       "<div>\n",
       "<style scoped>\n",
       "    .dataframe tbody tr th:only-of-type {\n",
       "        vertical-align: middle;\n",
       "    }\n",
       "\n",
       "    .dataframe tbody tr th {\n",
       "        vertical-align: top;\n",
       "    }\n",
       "\n",
       "    .dataframe thead th {\n",
       "        text-align: right;\n",
       "    }\n",
       "</style>\n",
       "<table border=\"1\" class=\"dataframe\">\n",
       "  <thead>\n",
       "    <tr style=\"text-align: right;\">\n",
       "      <th></th>\n",
       "      <th>listing_id</th>\n",
       "      <th>listing_url</th>\n",
       "      <th>picture_url</th>\n",
       "      <th>name</th>\n",
       "      <th>description</th>\n",
       "      <th>host_id</th>\n",
       "      <th>host_name</th>\n",
       "      <th>host_since</th>\n",
       "      <th>host_response_rate</th>\n",
       "      <th>host_acceptance_rate</th>\n",
       "      <th>...</th>\n",
       "      <th>review_scores_rating</th>\n",
       "      <th>review_scores_cleanliness</th>\n",
       "      <th>review_scores_checkin</th>\n",
       "      <th>review_scores_communication</th>\n",
       "      <th>review_scores_location</th>\n",
       "      <th>reviews_per_month</th>\n",
       "      <th>availability_365</th>\n",
       "      <th>has_availability</th>\n",
       "      <th>last_review</th>\n",
       "      <th>geographical_group</th>\n",
       "    </tr>\n",
       "  </thead>\n",
       "  <tbody>\n",
       "    <tr>\n",
       "      <th>0</th>\n",
       "      <td>2.905900e+04</td>\n",
       "      <td>https://www.airbnb.com/rooms/29059</td>\n",
       "      <td>https://a0.muscache.com/pictures/736399/fa6c31...</td>\n",
       "      <td>Lovely studio Quartier Latin</td>\n",
       "      <td>CITQ 267153&lt;br /&gt;Lovely studio with 1 closed r...</td>\n",
       "      <td>125031.0</td>\n",
       "      <td>Maryline</td>\n",
       "      <td>2010-05-14</td>\n",
       "      <td>100.000000</td>\n",
       "      <td>98.000000</td>\n",
       "      <td>...</td>\n",
       "      <td>4.670000</td>\n",
       "      <td>4.620000</td>\n",
       "      <td>4.810000</td>\n",
       "      <td>4.770000</td>\n",
       "      <td>4.820000</td>\n",
       "      <td>2.69000</td>\n",
       "      <td>302.0</td>\n",
       "      <td>t</td>\n",
       "      <td>2024-03-16</td>\n",
       "      <td>Central</td>\n",
       "    </tr>\n",
       "    <tr>\n",
       "      <th>1</th>\n",
       "      <td>2.906100e+04</td>\n",
       "      <td>https://www.airbnb.com/rooms/29061</td>\n",
       "      <td>https://a0.muscache.com/pictures/9e59d417-4b6a...</td>\n",
       "      <td>Maison historique - Quartier Latin</td>\n",
       "      <td>Lovely historic house with plenty of period ch...</td>\n",
       "      <td>125031.0</td>\n",
       "      <td>Maryline</td>\n",
       "      <td>2010-05-14</td>\n",
       "      <td>100.000000</td>\n",
       "      <td>98.000000</td>\n",
       "      <td>...</td>\n",
       "      <td>4.730000</td>\n",
       "      <td>4.660000</td>\n",
       "      <td>4.880000</td>\n",
       "      <td>4.810000</td>\n",
       "      <td>4.870000</td>\n",
       "      <td>0.88000</td>\n",
       "      <td>348.0</td>\n",
       "      <td>t</td>\n",
       "      <td>2024-02-19</td>\n",
       "      <td>Central</td>\n",
       "    </tr>\n",
       "    <tr>\n",
       "      <th>2</th>\n",
       "      <td>3.630100e+04</td>\n",
       "      <td>https://www.airbnb.com/rooms/36301</td>\n",
       "      <td>https://a0.muscache.com/pictures/26c20544-475f...</td>\n",
       "      <td>Romantic &amp; peaceful Plateau  loft</td>\n",
       "      <td>Enjoy the best of Montreal  in this romantic, ...</td>\n",
       "      <td>381468.0</td>\n",
       "      <td>Sylvie</td>\n",
       "      <td>2011-02-07</td>\n",
       "      <td>94.000000</td>\n",
       "      <td>80.000000</td>\n",
       "      <td>...</td>\n",
       "      <td>4.860000</td>\n",
       "      <td>4.860000</td>\n",
       "      <td>4.920000</td>\n",
       "      <td>4.900000</td>\n",
       "      <td>4.880000</td>\n",
       "      <td>0.47000</td>\n",
       "      <td>81.0</td>\n",
       "      <td>t</td>\n",
       "      <td>2024-01-07</td>\n",
       "      <td>Central</td>\n",
       "    </tr>\n",
       "    <tr>\n",
       "      <th>3</th>\n",
       "      <td>3.811800e+04</td>\n",
       "      <td>https://www.airbnb.com/rooms/38118</td>\n",
       "      <td>https://a0.muscache.com/pictures/213997/763ec1...</td>\n",
       "      <td>Beautiful room  with a balcony in front of a parc</td>\n",
       "      <td>Nearest metro Papineau.</td>\n",
       "      <td>163569.0</td>\n",
       "      <td>M.</td>\n",
       "      <td>2010-07-11</td>\n",
       "      <td>78.000000</td>\n",
       "      <td>0.000000</td>\n",
       "      <td>...</td>\n",
       "      <td>4.500000</td>\n",
       "      <td>4.250000</td>\n",
       "      <td>4.810000</td>\n",
       "      <td>4.810000</td>\n",
       "      <td>4.630000</td>\n",
       "      <td>0.10000</td>\n",
       "      <td>299.0</td>\n",
       "      <td>t</td>\n",
       "      <td>2022-08-29</td>\n",
       "      <td>Central</td>\n",
       "    </tr>\n",
       "    <tr>\n",
       "      <th>4</th>\n",
       "      <td>5.047900e+04</td>\n",
       "      <td>https://www.airbnb.com/rooms/50479</td>\n",
       "      <td>https://a0.muscache.com/pictures/miso/Hosting-...</td>\n",
       "      <td>L'Arcade Douce</td>\n",
       "      <td>The appartement is sunny and ideally situated ...</td>\n",
       "      <td>231694.0</td>\n",
       "      <td>Noemie</td>\n",
       "      <td>2010-09-11</td>\n",
       "      <td>100.000000</td>\n",
       "      <td>100.000000</td>\n",
       "      <td>...</td>\n",
       "      <td>4.950000</td>\n",
       "      <td>4.940000</td>\n",
       "      <td>4.970000</td>\n",
       "      <td>4.980000</td>\n",
       "      <td>4.840000</td>\n",
       "      <td>1.60000</td>\n",
       "      <td>0.0</td>\n",
       "      <td>t</td>\n",
       "      <td>2024-03-18</td>\n",
       "      <td>South</td>\n",
       "    </tr>\n",
       "    <tr>\n",
       "      <th>...</th>\n",
       "      <td>...</td>\n",
       "      <td>...</td>\n",
       "      <td>...</td>\n",
       "      <td>...</td>\n",
       "      <td>...</td>\n",
       "      <td>...</td>\n",
       "      <td>...</td>\n",
       "      <td>...</td>\n",
       "      <td>...</td>\n",
       "      <td>...</td>\n",
       "      <td>...</td>\n",
       "      <td>...</td>\n",
       "      <td>...</td>\n",
       "      <td>...</td>\n",
       "      <td>...</td>\n",
       "      <td>...</td>\n",
       "      <td>...</td>\n",
       "      <td>...</td>\n",
       "      <td>...</td>\n",
       "      <td>...</td>\n",
       "      <td>...</td>\n",
       "    </tr>\n",
       "    <tr>\n",
       "      <th>8135</th>\n",
       "      <td>1.116753e+18</td>\n",
       "      <td>https://www.airbnb.com/rooms/1116753448972266015</td>\n",
       "      <td>https://a0.muscache.com/pictures/miso/Hosting-...</td>\n",
       "      <td>Logement ,1 chambre 04 personnes</td>\n",
       "      <td>If you are looking for a beautiful cozy and we...</td>\n",
       "      <td>429774011.0</td>\n",
       "      <td>Ammar</td>\n",
       "      <td>2021-10-31</td>\n",
       "      <td>96.922347</td>\n",
       "      <td>89.203748</td>\n",
       "      <td>...</td>\n",
       "      <td>4.715698</td>\n",
       "      <td>4.692737</td>\n",
       "      <td>4.814562</td>\n",
       "      <td>4.812302</td>\n",
       "      <td>4.768682</td>\n",
       "      <td>1.70759</td>\n",
       "      <td>257.0</td>\n",
       "      <td>t</td>\n",
       "      <td>NaN</td>\n",
       "      <td>North</td>\n",
       "    </tr>\n",
       "    <tr>\n",
       "      <th>8136</th>\n",
       "      <td>1.116820e+18</td>\n",
       "      <td>https://www.airbnb.com/rooms/1116820020797670135</td>\n",
       "      <td>https://a0.muscache.com/pictures/miso/Hosting-...</td>\n",
       "      <td>Superbe maison à Montréal</td>\n",
       "      <td>Beautiful entire place in the heart of Montreal</td>\n",
       "      <td>126764590.0</td>\n",
       "      <td>Samuel</td>\n",
       "      <td>2017-04-20</td>\n",
       "      <td>96.922347</td>\n",
       "      <td>89.203748</td>\n",
       "      <td>...</td>\n",
       "      <td>4.715698</td>\n",
       "      <td>4.692737</td>\n",
       "      <td>4.814562</td>\n",
       "      <td>4.812302</td>\n",
       "      <td>4.768682</td>\n",
       "      <td>1.70759</td>\n",
       "      <td>269.0</td>\n",
       "      <td>t</td>\n",
       "      <td>NaN</td>\n",
       "      <td>East</td>\n",
       "    </tr>\n",
       "    <tr>\n",
       "      <th>8137</th>\n",
       "      <td>1.117028e+18</td>\n",
       "      <td>https://www.airbnb.com/rooms/1117028063118176710</td>\n",
       "      <td>https://a0.muscache.com/pictures/miso/Hosting-...</td>\n",
       "      <td>Luxurious 2BR - Downtown Montreal</td>\n",
       "      <td>Feel at home at these brand new construction C...</td>\n",
       "      <td>159008278.0</td>\n",
       "      <td>Melissa</td>\n",
       "      <td>2017-11-16</td>\n",
       "      <td>100.000000</td>\n",
       "      <td>100.000000</td>\n",
       "      <td>...</td>\n",
       "      <td>4.715698</td>\n",
       "      <td>4.692737</td>\n",
       "      <td>4.814562</td>\n",
       "      <td>4.812302</td>\n",
       "      <td>4.768682</td>\n",
       "      <td>1.70759</td>\n",
       "      <td>156.0</td>\n",
       "      <td>t</td>\n",
       "      <td>NaN</td>\n",
       "      <td>Central</td>\n",
       "    </tr>\n",
       "    <tr>\n",
       "      <th>8138</th>\n",
       "      <td>1.117273e+18</td>\n",
       "      <td>https://www.airbnb.com/rooms/1117273423317641658</td>\n",
       "      <td>https://a0.muscache.com/pictures/miso/Hosting-...</td>\n",
       "      <td>Magnifique appart Plateau</td>\n",
       "      <td>Fully renovated condo style apartment, beautif...</td>\n",
       "      <td>214303569.0</td>\n",
       "      <td>Jean-Georges</td>\n",
       "      <td>2018-09-08</td>\n",
       "      <td>100.000000</td>\n",
       "      <td>93.000000</td>\n",
       "      <td>...</td>\n",
       "      <td>4.715698</td>\n",
       "      <td>4.692737</td>\n",
       "      <td>4.814562</td>\n",
       "      <td>4.812302</td>\n",
       "      <td>4.768682</td>\n",
       "      <td>1.70759</td>\n",
       "      <td>192.0</td>\n",
       "      <td>t</td>\n",
       "      <td>NaN</td>\n",
       "      <td>Central</td>\n",
       "    </tr>\n",
       "    <tr>\n",
       "      <th>8139</th>\n",
       "      <td>1.118138e+18</td>\n",
       "      <td>https://www.airbnb.com/rooms/1118138226258202248</td>\n",
       "      <td>https://a0.muscache.com/pictures/prohost-api/H...</td>\n",
       "      <td>#327 Cozy &amp; Stylish 1 Bedroom Plateau Mont-Royal</td>\n",
       "      <td>Stylish furnished apartment in Plateau Mont-Ro...</td>\n",
       "      <td>195649860.0</td>\n",
       "      <td>Jean-Christoph</td>\n",
       "      <td>2018-06-14</td>\n",
       "      <td>97.000000</td>\n",
       "      <td>61.000000</td>\n",
       "      <td>...</td>\n",
       "      <td>4.715698</td>\n",
       "      <td>4.692737</td>\n",
       "      <td>4.814562</td>\n",
       "      <td>4.812302</td>\n",
       "      <td>4.768682</td>\n",
       "      <td>1.70759</td>\n",
       "      <td>292.0</td>\n",
       "      <td>t</td>\n",
       "      <td>NaN</td>\n",
       "      <td>Central</td>\n",
       "    </tr>\n",
       "  </tbody>\n",
       "</table>\n",
       "<p>8140 rows × 37 columns</p>\n",
       "</div>"
      ],
      "text/plain": [
       "        listing_id                                       listing_url  \\\n",
       "0     2.905900e+04                https://www.airbnb.com/rooms/29059   \n",
       "1     2.906100e+04                https://www.airbnb.com/rooms/29061   \n",
       "2     3.630100e+04                https://www.airbnb.com/rooms/36301   \n",
       "3     3.811800e+04                https://www.airbnb.com/rooms/38118   \n",
       "4     5.047900e+04                https://www.airbnb.com/rooms/50479   \n",
       "...            ...                                               ...   \n",
       "8135  1.116753e+18  https://www.airbnb.com/rooms/1116753448972266015   \n",
       "8136  1.116820e+18  https://www.airbnb.com/rooms/1116820020797670135   \n",
       "8137  1.117028e+18  https://www.airbnb.com/rooms/1117028063118176710   \n",
       "8138  1.117273e+18  https://www.airbnb.com/rooms/1117273423317641658   \n",
       "8139  1.118138e+18  https://www.airbnb.com/rooms/1118138226258202248   \n",
       "\n",
       "                                            picture_url  \\\n",
       "0     https://a0.muscache.com/pictures/736399/fa6c31...   \n",
       "1     https://a0.muscache.com/pictures/9e59d417-4b6a...   \n",
       "2     https://a0.muscache.com/pictures/26c20544-475f...   \n",
       "3     https://a0.muscache.com/pictures/213997/763ec1...   \n",
       "4     https://a0.muscache.com/pictures/miso/Hosting-...   \n",
       "...                                                 ...   \n",
       "8135  https://a0.muscache.com/pictures/miso/Hosting-...   \n",
       "8136  https://a0.muscache.com/pictures/miso/Hosting-...   \n",
       "8137  https://a0.muscache.com/pictures/miso/Hosting-...   \n",
       "8138  https://a0.muscache.com/pictures/miso/Hosting-...   \n",
       "8139  https://a0.muscache.com/pictures/prohost-api/H...   \n",
       "\n",
       "                                                   name  \\\n",
       "0                          Lovely studio Quartier Latin   \n",
       "1                    Maison historique - Quartier Latin   \n",
       "2                     Romantic & peaceful Plateau  loft   \n",
       "3     Beautiful room  with a balcony in front of a parc   \n",
       "4                                        L'Arcade Douce   \n",
       "...                                                 ...   \n",
       "8135                   Logement ,1 chambre 04 personnes   \n",
       "8136                          Superbe maison à Montréal   \n",
       "8137                  Luxurious 2BR - Downtown Montreal   \n",
       "8138                          Magnifique appart Plateau   \n",
       "8139   #327 Cozy & Stylish 1 Bedroom Plateau Mont-Royal   \n",
       "\n",
       "                                            description      host_id  \\\n",
       "0     CITQ 267153<br />Lovely studio with 1 closed r...     125031.0   \n",
       "1     Lovely historic house with plenty of period ch...     125031.0   \n",
       "2     Enjoy the best of Montreal  in this romantic, ...     381468.0   \n",
       "3                               Nearest metro Papineau.     163569.0   \n",
       "4     The appartement is sunny and ideally situated ...     231694.0   \n",
       "...                                                 ...          ...   \n",
       "8135  If you are looking for a beautiful cozy and we...  429774011.0   \n",
       "8136    Beautiful entire place in the heart of Montreal  126764590.0   \n",
       "8137  Feel at home at these brand new construction C...  159008278.0   \n",
       "8138  Fully renovated condo style apartment, beautif...  214303569.0   \n",
       "8139  Stylish furnished apartment in Plateau Mont-Ro...  195649860.0   \n",
       "\n",
       "           host_name  host_since  host_response_rate  host_acceptance_rate  \\\n",
       "0           Maryline  2010-05-14          100.000000             98.000000   \n",
       "1           Maryline  2010-05-14          100.000000             98.000000   \n",
       "2             Sylvie  2011-02-07           94.000000             80.000000   \n",
       "3                 M.  2010-07-11           78.000000              0.000000   \n",
       "4             Noemie  2010-09-11          100.000000            100.000000   \n",
       "...              ...         ...                 ...                   ...   \n",
       "8135           Ammar  2021-10-31           96.922347             89.203748   \n",
       "8136          Samuel  2017-04-20           96.922347             89.203748   \n",
       "8137         Melissa  2017-11-16          100.000000            100.000000   \n",
       "8138    Jean-Georges  2018-09-08          100.000000             93.000000   \n",
       "8139  Jean-Christoph  2018-06-14           97.000000             61.000000   \n",
       "\n",
       "      ...  review_scores_rating  review_scores_cleanliness  \\\n",
       "0     ...              4.670000                   4.620000   \n",
       "1     ...              4.730000                   4.660000   \n",
       "2     ...              4.860000                   4.860000   \n",
       "3     ...              4.500000                   4.250000   \n",
       "4     ...              4.950000                   4.940000   \n",
       "...   ...                   ...                        ...   \n",
       "8135  ...              4.715698                   4.692737   \n",
       "8136  ...              4.715698                   4.692737   \n",
       "8137  ...              4.715698                   4.692737   \n",
       "8138  ...              4.715698                   4.692737   \n",
       "8139  ...              4.715698                   4.692737   \n",
       "\n",
       "      review_scores_checkin review_scores_communication  \\\n",
       "0                  4.810000                    4.770000   \n",
       "1                  4.880000                    4.810000   \n",
       "2                  4.920000                    4.900000   \n",
       "3                  4.810000                    4.810000   \n",
       "4                  4.970000                    4.980000   \n",
       "...                     ...                         ...   \n",
       "8135               4.814562                    4.812302   \n",
       "8136               4.814562                    4.812302   \n",
       "8137               4.814562                    4.812302   \n",
       "8138               4.814562                    4.812302   \n",
       "8139               4.814562                    4.812302   \n",
       "\n",
       "      review_scores_location  reviews_per_month availability_365  \\\n",
       "0                   4.820000            2.69000            302.0   \n",
       "1                   4.870000            0.88000            348.0   \n",
       "2                   4.880000            0.47000             81.0   \n",
       "3                   4.630000            0.10000            299.0   \n",
       "4                   4.840000            1.60000              0.0   \n",
       "...                      ...                ...              ...   \n",
       "8135                4.768682            1.70759            257.0   \n",
       "8136                4.768682            1.70759            269.0   \n",
       "8137                4.768682            1.70759            156.0   \n",
       "8138                4.768682            1.70759            192.0   \n",
       "8139                4.768682            1.70759            292.0   \n",
       "\n",
       "     has_availability  last_review  geographical_group  \n",
       "0                   t   2024-03-16             Central  \n",
       "1                   t   2024-02-19             Central  \n",
       "2                   t   2024-01-07             Central  \n",
       "3                   t   2022-08-29             Central  \n",
       "4                   t   2024-03-18               South  \n",
       "...               ...          ...                 ...  \n",
       "8135                t          NaN               North  \n",
       "8136                t          NaN                East  \n",
       "8137                t          NaN             Central  \n",
       "8138                t          NaN             Central  \n",
       "8139                t          NaN             Central  \n",
       "\n",
       "[8140 rows x 37 columns]"
      ]
     },
     "execution_count": 2,
     "metadata": {},
     "output_type": "execute_result"
    }
   ],
   "source": [
    "data = pd.read_csv(\"listings1_cleaned.csv\")\n",
    "data"
   ]
  },
  {
   "cell_type": "code",
   "execution_count": 3,
   "metadata": {},
   "outputs": [
    {
     "name": "stderr",
     "output_type": "stream",
     "text": [
      "/var/folders/l7/2cl9nrjs74bc3y72c8n3j2k80000gp/T/ipykernel_35400/2643287345.py:2: SettingWithCopyWarning: \n",
      "A value is trying to be set on a copy of a slice from a DataFrame.\n",
      "Try using .loc[row_indexer,col_indexer] = value instead\n",
      "\n",
      "See the caveats in the documentation: https://pandas.pydata.org/pandas-docs/stable/user_guide/indexing.html#returning-a-view-versus-a-copy\n",
      "  data[\"text\"] = data[\"name\"].fillna(\"\") + \"\\n\" + data[\"description\"].fillna(\"\")\n"
     ]
    },
    {
     "data": {
      "application/vnd.microsoft.datawrangler.viewer.v0+json": {
       "columns": [
        {
         "name": "index",
         "rawType": "int64",
         "type": "integer"
        },
        {
         "name": "listing_id",
         "rawType": "float64",
         "type": "float"
        },
        {
         "name": "name",
         "rawType": "object",
         "type": "string"
        },
        {
         "name": "description",
         "rawType": "object",
         "type": "string"
        },
        {
         "name": "text",
         "rawType": "object",
         "type": "string"
        },
        {
         "name": "gpt_response",
         "rawType": "object",
         "type": "string"
        }
       ],
       "conversionMethod": "pd.DataFrame",
       "ref": "e18fbb3b-2e9a-41cf-9005-e38f712faa83",
       "rows": [
        [
         "1750",
         "35759076.0",
         "Bright flat in Montreal - Appartement lumineux",
         "Bright 2 bedroom flat in a friendly and authentic neighborhood! All you need within a short walk to the animated local commercial street. Quickly get to Montreal's best faculties and activities by bus, metro or bike, many options available. Live Montreal like a local! <br />Bright apartment on the second floor of a duplex in a central area of Montreal. Family atmosphere, commercial street just a stone's throw away. Quick and easy access to universities and activities  by bus, metro, or bike.",
         "Bright flat in Montreal - Appartement lumineux\nBright 2 bedroom flat in a friendly and authentic neighborhood! All you need within a short walk to the animated local commercial street. Quickly get to Montreal's best faculties and activities by bus, metro or bike, many options available. Live Montreal like a local! <br />Bright apartment on the second floor of a duplex in a central area of Montreal. Family atmosphere, commercial street just a stone's throw away. Quick and easy access to universities and activities  by bus, metro, or bike.",
         "```json\n{\n    \"Name\": \"Bright flat in Montreal - Appartement lumineux\",\n    \"Location\": \"Montreal\",\n    \"MainCharacteristic\": \"Bright 2 bedroom flat in a friendly and authentic neighborhood\",\n    \"Type\": \"Apartment\"\n}\n```"
        ],
        [
         "66",
         "637533.0",
         "Charming Downtown Montreal",
         "Charm & standing for your stay in Montreal<br /><br />Our apartments have been completely renovated and are located in a private mansion dating back to 1870<br /><br />Officially registered as tourist residences and a proud member of the CITQ (Corporation de l'industrie touristique du Québec)<br /><br />Private courtyard parking is a rarity in downtown Montreal",
         "Charming Downtown Montreal\nCharm & standing for your stay in Montreal<br /><br />Our apartments have been completely renovated and are located in a private mansion dating back to 1870<br /><br />Officially registered as tourist residences and a proud member of the CITQ (Corporation de l'industrie touristique du Québec)<br /><br />Private courtyard parking is a rarity in downtown Montreal",
         "```json\n{\n    \"Name\": \"Charming Downtown Montreal\",\n    \"Location\": \"Montreal\",\n    \"MainCharacteristic\": \"Completely renovated apartments in a private mansion dating back to 1870\",\n    \"Type\": \"Tourist residence\"\n}\n```"
        ],
        [
         "4598",
         "7.822779765606516e+17",
         "Stunning 2BR - Old Montreal 2A",
         "Welcome to Hotel Le Moyne; Experience the allure of Old Montreal as you wake up to breathtaking views of its historical charm. This Cozy 2-bedroom apartment seamlessly blends contemporary style with the preservation of the building's rich heritage. Perfectly suited for couples or business travelers, our 2-bedroom apartment offers two comfortable queen size beds and a full washroom, ensuring a delightful stay.",
         "Stunning 2BR - Old Montreal 2A\nWelcome to Hotel Le Moyne; Experience the allure of Old Montreal as you wake up to breathtaking views of its historical charm. This Cozy 2-bedroom apartment seamlessly blends contemporary style with the preservation of the building's rich heritage. Perfectly suited for couples or business travelers, our 2-bedroom apartment offers two comfortable queen size beds and a full washroom, ensuring a delightful stay.",
         "```json\n{\n    \"Name\": \"Hotel Le Moyne\",\n    \"Location\": \"Old Montreal\",\n    \"MainCharacteristic\": \"Breathtaking views of historical charm\",\n    \"Type\": \"Apartment\"\n}\n```"
        ]
       ],
       "shape": {
        "columns": 5,
        "rows": 3
       }
      },
      "text/html": [
       "<div>\n",
       "<style scoped>\n",
       "    .dataframe tbody tr th:only-of-type {\n",
       "        vertical-align: middle;\n",
       "    }\n",
       "\n",
       "    .dataframe tbody tr th {\n",
       "        vertical-align: top;\n",
       "    }\n",
       "\n",
       "    .dataframe thead th {\n",
       "        text-align: right;\n",
       "    }\n",
       "</style>\n",
       "<table border=\"1\" class=\"dataframe\">\n",
       "  <thead>\n",
       "    <tr style=\"text-align: right;\">\n",
       "      <th></th>\n",
       "      <th>listing_id</th>\n",
       "      <th>name</th>\n",
       "      <th>description</th>\n",
       "      <th>text</th>\n",
       "      <th>gpt_response</th>\n",
       "    </tr>\n",
       "  </thead>\n",
       "  <tbody>\n",
       "    <tr>\n",
       "      <th>1750</th>\n",
       "      <td>3.575908e+07</td>\n",
       "      <td>Bright flat in Montreal - Appartement lumineux</td>\n",
       "      <td>Bright 2 bedroom flat in a friendly and authen...</td>\n",
       "      <td>Bright flat in Montreal - Appartement lumineux...</td>\n",
       "      <td>```json\\n{\\n    \"Name\": \"Bright flat in Montre...</td>\n",
       "    </tr>\n",
       "    <tr>\n",
       "      <th>66</th>\n",
       "      <td>6.375330e+05</td>\n",
       "      <td>Charming Downtown Montreal</td>\n",
       "      <td>Charm &amp; standing for your stay in Montreal&lt;br ...</td>\n",
       "      <td>Charming Downtown Montreal\\nCharm &amp; standing f...</td>\n",
       "      <td>```json\\n{\\n    \"Name\": \"Charming Downtown Mon...</td>\n",
       "    </tr>\n",
       "    <tr>\n",
       "      <th>4598</th>\n",
       "      <td>7.822780e+17</td>\n",
       "      <td>Stunning 2BR - Old Montreal 2A</td>\n",
       "      <td>Welcome to Hotel Le Moyne; Experience the allu...</td>\n",
       "      <td>Stunning 2BR - Old Montreal 2A\\nWelcome to Hot...</td>\n",
       "      <td>```json\\n{\\n    \"Name\": \"Hotel Le Moyne\",\\n   ...</td>\n",
       "    </tr>\n",
       "  </tbody>\n",
       "</table>\n",
       "</div>"
      ],
      "text/plain": [
       "        listing_id                                            name  \\\n",
       "1750  3.575908e+07  Bright flat in Montreal - Appartement lumineux   \n",
       "66    6.375330e+05                      Charming Downtown Montreal   \n",
       "4598  7.822780e+17                  Stunning 2BR - Old Montreal 2A   \n",
       "\n",
       "                                            description  \\\n",
       "1750  Bright 2 bedroom flat in a friendly and authen...   \n",
       "66    Charm & standing for your stay in Montreal<br ...   \n",
       "4598  Welcome to Hotel Le Moyne; Experience the allu...   \n",
       "\n",
       "                                                   text  \\\n",
       "1750  Bright flat in Montreal - Appartement lumineux...   \n",
       "66    Charming Downtown Montreal\\nCharm & standing f...   \n",
       "4598  Stunning 2BR - Old Montreal 2A\\nWelcome to Hot...   \n",
       "\n",
       "                                           gpt_response  \n",
       "1750  ```json\\n{\\n    \"Name\": \"Bright flat in Montre...  \n",
       "66    ```json\\n{\\n    \"Name\": \"Charming Downtown Mon...  \n",
       "4598  ```json\\n{\\n    \"Name\": \"Hotel Le Moyne\",\\n   ...  "
      ]
     },
     "execution_count": 3,
     "metadata": {},
     "output_type": "execute_result"
    }
   ],
   "source": [
    "data = data[[\"listing_id\", \"name\", \"description\"]]\n",
    "data[\"text\"] = data[\"name\"].fillna(\"\") + \"\\n\" + data[\"description\"].fillna(\"\")\n",
    "data = data.sample(3, random_state=10)\n",
    "\n",
    "llama_responses = {}\n",
    "\n",
    "prompt_template = \"\"\"\n",
    "Vas a analizar los comentarios de unos alojamientos turísticos. \n",
    "Se te va a proporcionar una serie de textos que has de analizar y clasificar en un json con la siguiente estructura:\n",
    "```json\n",
    "{\n",
    "    \"Name\": str,\n",
    "    \"Location\": str,\n",
    "    \"MainCharacteristic\": str,\n",
    "    \"Type\": str,\n",
    "    \n",
    "}\n",
    "```\n",
    "Donde:\n",
    "- Name: Nombre del alojamiento.\n",
    "- Location: Ubicación del alojamiento.\n",
    "- MainCharacteristic: Característica principal del alojamiento.\n",
    "- Type: Tipo de alojamiento.\n",
    "Analiza el siguiente texto y clasifícalo en el json correspondiente: \n",
    "```\n",
    "{{text}}\n",
    "```\n",
    "\"\"\"\n",
    "for index, row in data.iterrows():\n",
    "    text = str(row[\"text\"])\n",
    "    listing_id = row[\"listing_id\"]\n",
    "\n",
    "    prompt = prompt_template.replace(\"{{text}}\", text)\n",
    "    # Cambiar a preguntar_gpt para utilizar OpenAI\n",
    "    llama_response = preguntar_gpt(\n",
    "        \"Eres un asistente de IA cuyo trabajo es responder a lo que te está pidiendo el usuario de la forma más fiel al prompt sin preámbulos explicativos ni resúmenes finales.\",\n",
    "        prompt,\n",
    "    )\n",
    "    if llama_response is not None:\n",
    "        llama_responses[listing_id] = llama_response\n",
    "    else:\n",
    "        print(f\"No se pudo obtener una respuesta para el listing_id: {listing_id}\")\n",
    "\n",
    "data[\"gpt_response\"] = data[\"listing_id\"].map(llama_responses)\n",
    "data"
   ]
  },
  {
   "cell_type": "code",
   "execution_count": 4,
   "metadata": {},
   "outputs": [],
   "source": [
    "data.to_csv('Airbnb_gpt_15responses.csv', index=False)"
   ]
  },
  {
   "cell_type": "code",
   "execution_count": 5,
   "metadata": {},
   "outputs": [],
   "source": [
    "data = pd.read_csv('Airbnb_gpt_15responses.csv')"
   ]
  },
  {
   "cell_type": "code",
   "execution_count": 6,
   "metadata": {},
   "outputs": [
    {
     "data": {
      "application/vnd.microsoft.datawrangler.viewer.v0+json": {
       "columns": [
        {
         "name": "index",
         "rawType": "int64",
         "type": "integer"
        },
        {
         "name": "listing_id",
         "rawType": "float64",
         "type": "float"
        },
        {
         "name": "name",
         "rawType": "object",
         "type": "string"
        },
        {
         "name": "description",
         "rawType": "object",
         "type": "string"
        },
        {
         "name": "text",
         "rawType": "object",
         "type": "string"
        },
        {
         "name": "gpt_response",
         "rawType": "object",
         "type": "string"
        }
       ],
       "conversionMethod": "pd.DataFrame",
       "ref": "289e5300-b26a-4d6a-a6fd-08426f5d4fc4",
       "rows": [
        [
         "0",
         "35759076.0",
         "Bright flat in Montreal - Appartement lumineux",
         "Bright 2 bedroom flat in a friendly and authentic neighborhood! All you need within a short walk to the animated local commercial street. Quickly get to Montreal's best faculties and activities by bus, metro or bike, many options available. Live Montreal like a local! <br />Bright apartment on the second floor of a duplex in a central area of Montreal. Family atmosphere, commercial street just a stone's throw away. Quick and easy access to universities and activities  by bus, metro, or bike.",
         "Bright flat in Montreal - Appartement lumineux\nBright 2 bedroom flat in a friendly and authentic neighborhood! All you need within a short walk to the animated local commercial street. Quickly get to Montreal's best faculties and activities by bus, metro or bike, many options available. Live Montreal like a local! <br />Bright apartment on the second floor of a duplex in a central area of Montreal. Family atmosphere, commercial street just a stone's throw away. Quick and easy access to universities and activities  by bus, metro, or bike.",
         "```json\n{\n    \"Name\": \"Bright flat in Montreal - Appartement lumineux\",\n    \"Location\": \"Montreal\",\n    \"MainCharacteristic\": \"Bright 2 bedroom flat in a friendly and authentic neighborhood\",\n    \"Type\": \"Apartment\"\n}\n```"
        ],
        [
         "1",
         "637533.0",
         "Charming Downtown Montreal",
         "Charm & standing for your stay in Montreal<br /><br />Our apartments have been completely renovated and are located in a private mansion dating back to 1870<br /><br />Officially registered as tourist residences and a proud member of the CITQ (Corporation de l'industrie touristique du Québec)<br /><br />Private courtyard parking is a rarity in downtown Montreal",
         "Charming Downtown Montreal\nCharm & standing for your stay in Montreal<br /><br />Our apartments have been completely renovated and are located in a private mansion dating back to 1870<br /><br />Officially registered as tourist residences and a proud member of the CITQ (Corporation de l'industrie touristique du Québec)<br /><br />Private courtyard parking is a rarity in downtown Montreal",
         "```json\n{\n    \"Name\": \"Charming Downtown Montreal\",\n    \"Location\": \"Montreal\",\n    \"MainCharacteristic\": \"Completely renovated apartments in a private mansion dating back to 1870\",\n    \"Type\": \"Tourist residence\"\n}\n```"
        ],
        [
         "2",
         "7.822779765606516e+17",
         "Stunning 2BR - Old Montreal 2A",
         "Welcome to Hotel Le Moyne; Experience the allure of Old Montreal as you wake up to breathtaking views of its historical charm. This Cozy 2-bedroom apartment seamlessly blends contemporary style with the preservation of the building's rich heritage. Perfectly suited for couples or business travelers, our 2-bedroom apartment offers two comfortable queen size beds and a full washroom, ensuring a delightful stay.",
         "Stunning 2BR - Old Montreal 2A\nWelcome to Hotel Le Moyne; Experience the allure of Old Montreal as you wake up to breathtaking views of its historical charm. This Cozy 2-bedroom apartment seamlessly blends contemporary style with the preservation of the building's rich heritage. Perfectly suited for couples or business travelers, our 2-bedroom apartment offers two comfortable queen size beds and a full washroom, ensuring a delightful stay.",
         "```json\n{\n    \"Name\": \"Hotel Le Moyne\",\n    \"Location\": \"Old Montreal\",\n    \"MainCharacteristic\": \"Breathtaking views of historical charm\",\n    \"Type\": \"Apartment\"\n}\n```"
        ]
       ],
       "shape": {
        "columns": 5,
        "rows": 3
       }
      },
      "text/html": [
       "<div>\n",
       "<style scoped>\n",
       "    .dataframe tbody tr th:only-of-type {\n",
       "        vertical-align: middle;\n",
       "    }\n",
       "\n",
       "    .dataframe tbody tr th {\n",
       "        vertical-align: top;\n",
       "    }\n",
       "\n",
       "    .dataframe thead th {\n",
       "        text-align: right;\n",
       "    }\n",
       "</style>\n",
       "<table border=\"1\" class=\"dataframe\">\n",
       "  <thead>\n",
       "    <tr style=\"text-align: right;\">\n",
       "      <th></th>\n",
       "      <th>listing_id</th>\n",
       "      <th>name</th>\n",
       "      <th>description</th>\n",
       "      <th>text</th>\n",
       "      <th>gpt_response</th>\n",
       "    </tr>\n",
       "  </thead>\n",
       "  <tbody>\n",
       "    <tr>\n",
       "      <th>0</th>\n",
       "      <td>3.575908e+07</td>\n",
       "      <td>Bright flat in Montreal - Appartement lumineux</td>\n",
       "      <td>Bright 2 bedroom flat in a friendly and authen...</td>\n",
       "      <td>Bright flat in Montreal - Appartement lumineux...</td>\n",
       "      <td>```json\\n{\\n    \"Name\": \"Bright flat in Montre...</td>\n",
       "    </tr>\n",
       "    <tr>\n",
       "      <th>1</th>\n",
       "      <td>6.375330e+05</td>\n",
       "      <td>Charming Downtown Montreal</td>\n",
       "      <td>Charm &amp; standing for your stay in Montreal&lt;br ...</td>\n",
       "      <td>Charming Downtown Montreal\\nCharm &amp; standing f...</td>\n",
       "      <td>```json\\n{\\n    \"Name\": \"Charming Downtown Mon...</td>\n",
       "    </tr>\n",
       "    <tr>\n",
       "      <th>2</th>\n",
       "      <td>7.822780e+17</td>\n",
       "      <td>Stunning 2BR - Old Montreal 2A</td>\n",
       "      <td>Welcome to Hotel Le Moyne; Experience the allu...</td>\n",
       "      <td>Stunning 2BR - Old Montreal 2A\\nWelcome to Hot...</td>\n",
       "      <td>```json\\n{\\n    \"Name\": \"Hotel Le Moyne\",\\n   ...</td>\n",
       "    </tr>\n",
       "  </tbody>\n",
       "</table>\n",
       "</div>"
      ],
      "text/plain": [
       "     listing_id                                            name  \\\n",
       "0  3.575908e+07  Bright flat in Montreal - Appartement lumineux   \n",
       "1  6.375330e+05                      Charming Downtown Montreal   \n",
       "2  7.822780e+17                  Stunning 2BR - Old Montreal 2A   \n",
       "\n",
       "                                         description  \\\n",
       "0  Bright 2 bedroom flat in a friendly and authen...   \n",
       "1  Charm & standing for your stay in Montreal<br ...   \n",
       "2  Welcome to Hotel Le Moyne; Experience the allu...   \n",
       "\n",
       "                                                text  \\\n",
       "0  Bright flat in Montreal - Appartement lumineux...   \n",
       "1  Charming Downtown Montreal\\nCharm & standing f...   \n",
       "2  Stunning 2BR - Old Montreal 2A\\nWelcome to Hot...   \n",
       "\n",
       "                                        gpt_response  \n",
       "0  ```json\\n{\\n    \"Name\": \"Bright flat in Montre...  \n",
       "1  ```json\\n{\\n    \"Name\": \"Charming Downtown Mon...  \n",
       "2  ```json\\n{\\n    \"Name\": \"Hotel Le Moyne\",\\n   ...  "
      ]
     },
     "execution_count": 6,
     "metadata": {},
     "output_type": "execute_result"
    }
   ],
   "source": [
    "data"
   ]
  },
  {
   "cell_type": "code",
   "execution_count": 7,
   "metadata": {},
   "outputs": [
    {
     "data": {
      "application/vnd.microsoft.datawrangler.viewer.v0+json": {
       "columns": [
        {
         "name": "index",
         "rawType": "int64",
         "type": "integer"
        },
        {
         "name": "listing_id",
         "rawType": "float64",
         "type": "float"
        },
        {
         "name": "name",
         "rawType": "object",
         "type": "string"
        },
        {
         "name": "description",
         "rawType": "object",
         "type": "string"
        },
        {
         "name": "text",
         "rawType": "object",
         "type": "string"
        },
        {
         "name": "gpt_response",
         "rawType": "object",
         "type": "string"
        },
        {
         "name": "Name",
         "rawType": "object",
         "type": "string"
        },
        {
         "name": "Location",
         "rawType": "object",
         "type": "string"
        },
        {
         "name": "MainCharacteristic",
         "rawType": "object",
         "type": "string"
        },
        {
         "name": "Type",
         "rawType": "object",
         "type": "string"
        }
       ],
       "conversionMethod": "pd.DataFrame",
       "ref": "08098c39-428b-4867-8c2e-ac8023c4bc9a",
       "rows": [
        [
         "0",
         "35759076.0",
         "Bright flat in Montreal - Appartement lumineux",
         "Bright 2 bedroom flat in a friendly and authentic neighborhood! All you need within a short walk to the animated local commercial street. Quickly get to Montreal's best faculties and activities by bus, metro or bike, many options available. Live Montreal like a local! <br />Bright apartment on the second floor of a duplex in a central area of Montreal. Family atmosphere, commercial street just a stone's throw away. Quick and easy access to universities and activities  by bus, metro, or bike.",
         "Bright flat in Montreal - Appartement lumineux\nBright 2 bedroom flat in a friendly and authentic neighborhood! All you need within a short walk to the animated local commercial street. Quickly get to Montreal's best faculties and activities by bus, metro or bike, many options available. Live Montreal like a local! <br />Bright apartment on the second floor of a duplex in a central area of Montreal. Family atmosphere, commercial street just a stone's throw away. Quick and easy access to universities and activities  by bus, metro, or bike.",
         "```json\n{\n    \"Name\": \"Bright flat in Montreal - Appartement lumineux\",\n    \"Location\": \"Montreal\",\n    \"MainCharacteristic\": \"Bright 2 bedroom flat in a friendly and authentic neighborhood\",\n    \"Type\": \"Apartment\"\n}\n```",
         "Bright flat in Montreal - Appartement lumineux",
         "Montreal",
         "Bright 2 bedroom flat in a friendly and authentic neighborhood",
         "Apartment"
        ],
        [
         "1",
         "637533.0",
         "Charming Downtown Montreal",
         "Charm & standing for your stay in Montreal<br /><br />Our apartments have been completely renovated and are located in a private mansion dating back to 1870<br /><br />Officially registered as tourist residences and a proud member of the CITQ (Corporation de l'industrie touristique du Québec)<br /><br />Private courtyard parking is a rarity in downtown Montreal",
         "Charming Downtown Montreal\nCharm & standing for your stay in Montreal<br /><br />Our apartments have been completely renovated and are located in a private mansion dating back to 1870<br /><br />Officially registered as tourist residences and a proud member of the CITQ (Corporation de l'industrie touristique du Québec)<br /><br />Private courtyard parking is a rarity in downtown Montreal",
         "```json\n{\n    \"Name\": \"Charming Downtown Montreal\",\n    \"Location\": \"Montreal\",\n    \"MainCharacteristic\": \"Completely renovated apartments in a private mansion dating back to 1870\",\n    \"Type\": \"Tourist residence\"\n}\n```",
         "Charming Downtown Montreal",
         "Montreal",
         "Completely renovated apartments in a private mansion dating back to 1870",
         "Tourist residence"
        ],
        [
         "2",
         "7.822779765606516e+17",
         "Stunning 2BR - Old Montreal 2A",
         "Welcome to Hotel Le Moyne; Experience the allure of Old Montreal as you wake up to breathtaking views of its historical charm. This Cozy 2-bedroom apartment seamlessly blends contemporary style with the preservation of the building's rich heritage. Perfectly suited for couples or business travelers, our 2-bedroom apartment offers two comfortable queen size beds and a full washroom, ensuring a delightful stay.",
         "Stunning 2BR - Old Montreal 2A\nWelcome to Hotel Le Moyne; Experience the allure of Old Montreal as you wake up to breathtaking views of its historical charm. This Cozy 2-bedroom apartment seamlessly blends contemporary style with the preservation of the building's rich heritage. Perfectly suited for couples or business travelers, our 2-bedroom apartment offers two comfortable queen size beds and a full washroom, ensuring a delightful stay.",
         "```json\n{\n    \"Name\": \"Hotel Le Moyne\",\n    \"Location\": \"Old Montreal\",\n    \"MainCharacteristic\": \"Breathtaking views of historical charm\",\n    \"Type\": \"Apartment\"\n}\n```",
         "Hotel Le Moyne",
         "Old Montreal",
         "Breathtaking views of historical charm",
         "Apartment"
        ]
       ],
       "shape": {
        "columns": 9,
        "rows": 3
       }
      },
      "text/html": [
       "<div>\n",
       "<style scoped>\n",
       "    .dataframe tbody tr th:only-of-type {\n",
       "        vertical-align: middle;\n",
       "    }\n",
       "\n",
       "    .dataframe tbody tr th {\n",
       "        vertical-align: top;\n",
       "    }\n",
       "\n",
       "    .dataframe thead th {\n",
       "        text-align: right;\n",
       "    }\n",
       "</style>\n",
       "<table border=\"1\" class=\"dataframe\">\n",
       "  <thead>\n",
       "    <tr style=\"text-align: right;\">\n",
       "      <th></th>\n",
       "      <th>listing_id</th>\n",
       "      <th>name</th>\n",
       "      <th>description</th>\n",
       "      <th>text</th>\n",
       "      <th>gpt_response</th>\n",
       "      <th>Name</th>\n",
       "      <th>Location</th>\n",
       "      <th>MainCharacteristic</th>\n",
       "      <th>Type</th>\n",
       "    </tr>\n",
       "  </thead>\n",
       "  <tbody>\n",
       "    <tr>\n",
       "      <th>0</th>\n",
       "      <td>3.575908e+07</td>\n",
       "      <td>Bright flat in Montreal - Appartement lumineux</td>\n",
       "      <td>Bright 2 bedroom flat in a friendly and authen...</td>\n",
       "      <td>Bright flat in Montreal - Appartement lumineux...</td>\n",
       "      <td>```json\\n{\\n    \"Name\": \"Bright flat in Montre...</td>\n",
       "      <td>Bright flat in Montreal - Appartement lumineux</td>\n",
       "      <td>Montreal</td>\n",
       "      <td>Bright 2 bedroom flat in a friendly and authen...</td>\n",
       "      <td>Apartment</td>\n",
       "    </tr>\n",
       "    <tr>\n",
       "      <th>1</th>\n",
       "      <td>6.375330e+05</td>\n",
       "      <td>Charming Downtown Montreal</td>\n",
       "      <td>Charm &amp; standing for your stay in Montreal&lt;br ...</td>\n",
       "      <td>Charming Downtown Montreal\\nCharm &amp; standing f...</td>\n",
       "      <td>```json\\n{\\n    \"Name\": \"Charming Downtown Mon...</td>\n",
       "      <td>Charming Downtown Montreal</td>\n",
       "      <td>Montreal</td>\n",
       "      <td>Completely renovated apartments in a private m...</td>\n",
       "      <td>Tourist residence</td>\n",
       "    </tr>\n",
       "    <tr>\n",
       "      <th>2</th>\n",
       "      <td>7.822780e+17</td>\n",
       "      <td>Stunning 2BR - Old Montreal 2A</td>\n",
       "      <td>Welcome to Hotel Le Moyne; Experience the allu...</td>\n",
       "      <td>Stunning 2BR - Old Montreal 2A\\nWelcome to Hot...</td>\n",
       "      <td>```json\\n{\\n    \"Name\": \"Hotel Le Moyne\",\\n   ...</td>\n",
       "      <td>Hotel Le Moyne</td>\n",
       "      <td>Old Montreal</td>\n",
       "      <td>Breathtaking views of historical charm</td>\n",
       "      <td>Apartment</td>\n",
       "    </tr>\n",
       "  </tbody>\n",
       "</table>\n",
       "</div>"
      ],
      "text/plain": [
       "     listing_id                                            name  \\\n",
       "0  3.575908e+07  Bright flat in Montreal - Appartement lumineux   \n",
       "1  6.375330e+05                      Charming Downtown Montreal   \n",
       "2  7.822780e+17                  Stunning 2BR - Old Montreal 2A   \n",
       "\n",
       "                                         description  \\\n",
       "0  Bright 2 bedroom flat in a friendly and authen...   \n",
       "1  Charm & standing for your stay in Montreal<br ...   \n",
       "2  Welcome to Hotel Le Moyne; Experience the allu...   \n",
       "\n",
       "                                                text  \\\n",
       "0  Bright flat in Montreal - Appartement lumineux...   \n",
       "1  Charming Downtown Montreal\\nCharm & standing f...   \n",
       "2  Stunning 2BR - Old Montreal 2A\\nWelcome to Hot...   \n",
       "\n",
       "                                        gpt_response  \\\n",
       "0  ```json\\n{\\n    \"Name\": \"Bright flat in Montre...   \n",
       "1  ```json\\n{\\n    \"Name\": \"Charming Downtown Mon...   \n",
       "2  ```json\\n{\\n    \"Name\": \"Hotel Le Moyne\",\\n   ...   \n",
       "\n",
       "                                             Name      Location  \\\n",
       "0  Bright flat in Montreal - Appartement lumineux      Montreal   \n",
       "1                      Charming Downtown Montreal      Montreal   \n",
       "2                                  Hotel Le Moyne  Old Montreal   \n",
       "\n",
       "                                  MainCharacteristic               Type  \n",
       "0  Bright 2 bedroom flat in a friendly and authen...          Apartment  \n",
       "1  Completely renovated apartments in a private m...  Tourist residence  \n",
       "2             Breathtaking views of historical charm          Apartment  "
      ]
     },
     "execution_count": 7,
     "metadata": {},
     "output_type": "execute_result"
    }
   ],
   "source": [
    "def process_json_response(json_str):\n",
    "    # Verificar si json_str es NaN\n",
    "    if json_str != json_str:  # Esta es una forma de verificar NaN en Python\n",
    "        return {\"error\": \"Input is NaN, cannot process.\"}\n",
    "\n",
    "    # Limpiar la entrada si está envuelta en bloques de código markdown\n",
    "    if json_str.startswith(\"```json\\n\") and json_str.endswith(\"```\"):\n",
    "        json_str = json_str[7:-3]  # Eliminar los marcadores de bloque de código\n",
    "\n",
    "    try:\n",
    "        # Intentar cargar el JSON\n",
    "        json_data = json.loads(json_str)\n",
    "        return json_data\n",
    "    except json.JSONDecodeError:\n",
    "        return {}\n",
    "\n",
    "\n",
    "# Aplicar la función a la columna 'gpt_response'\n",
    "data[\"processed_response\"] = data[\"gpt_response\"].apply(\n",
    "    process_json_response\n",
    ")  # Cambiar a 'gpt_response' si es necesario\n",
    "\n",
    "# Encontrar el primer elemento no vacío (que no sea {}) para determinar el orden de las claves\n",
    "first_valid_response = next((item for item in data[\"processed_response\"] if item), None)\n",
    "\n",
    "if first_valid_response:\n",
    "    # Obtener todas las claves únicas de los JSONs en el orden del primer elemento válido\n",
    "    ordered_keys = list(first_valid_response.keys())\n",
    "\n",
    "    # Crear nuevas columnas para cada clave, manteniendo el orden\n",
    "    for key in ordered_keys:\n",
    "        data[key] = data[\"processed_response\"].apply(lambda x: x.get(key, None))\n",
    "\n",
    "# Eliminar la columna temporal 'processed_response'\n",
    "data = data.drop(\"processed_response\", axis=1)\n",
    "\n",
    "data"
   ]
  },
  {
   "cell_type": "code",
   "execution_count": 9,
   "metadata": {},
   "outputs": [
    {
     "data": {
      "application/vnd.plotly.v1+json": {
       "config": {
        "plotlyServerURL": "https://plot.ly"
       },
       "data": [
        {
         "hovertemplate": "Name=%{x}<br>count=%{y}<extra></extra>",
         "legendgroup": "",
         "marker": {
          "color": "#636efa",
          "pattern": {
           "shape": ""
          }
         },
         "name": "",
         "orientation": "v",
         "showlegend": false,
         "textposition": "auto",
         "type": "bar",
         "x": [
          "Bright flat in Montreal - Appartement lumineux",
          "Charming Downtown Montreal",
          "Hotel Le Moyne"
         ],
         "xaxis": "x",
         "y": {
          "bdata": "AQEB",
          "dtype": "i1"
         },
         "yaxis": "y"
        },
        {
         "hovertemplate": "Location=%{x}<br>count=%{y}<extra></extra>",
         "legendgroup": "",
         "marker": {
          "color": "#636efa",
          "pattern": {
           "shape": ""
          }
         },
         "name": "",
         "orientation": "v",
         "showlegend": false,
         "textposition": "auto",
         "type": "bar",
         "x": [
          "Montreal",
          "Old Montreal"
         ],
         "xaxis": "x2",
         "y": {
          "bdata": "AgE=",
          "dtype": "i1"
         },
         "yaxis": "y2"
        },
        {
         "hovertemplate": "MainCharacteristic=%{x}<br>count=%{y}<extra></extra>",
         "legendgroup": "",
         "marker": {
          "color": "#636efa",
          "pattern": {
           "shape": ""
          }
         },
         "name": "",
         "orientation": "v",
         "showlegend": false,
         "textposition": "auto",
         "type": "bar",
         "x": [
          "Bright 2 bedroom flat in a friendly and authentic neighborhood",
          "Completely renovated apartments in a private mansion dating back to 1870",
          "Breathtaking views of historical charm"
         ],
         "xaxis": "x3",
         "y": {
          "bdata": "AQEB",
          "dtype": "i1"
         },
         "yaxis": "y3"
        },
        {
         "hovertemplate": "Type=%{x}<br>count=%{y}<extra></extra>",
         "legendgroup": "",
         "marker": {
          "color": "#636efa",
          "pattern": {
           "shape": ""
          }
         },
         "name": "",
         "orientation": "v",
         "showlegend": false,
         "textposition": "auto",
         "type": "bar",
         "x": [
          "Apartment",
          "Tourist residence"
         ],
         "xaxis": "x4",
         "y": {
          "bdata": "AgE=",
          "dtype": "i1"
         },
         "yaxis": "y4"
        }
       ],
       "layout": {
        "annotations": [
         {
          "font": {
           "size": 16
          },
          "showarrow": false,
          "text": "Name",
          "x": 0.5,
          "xanchor": "center",
          "xref": "paper",
          "y": 1.05,
          "yanchor": "bottom",
          "yref": "paper"
         },
         {
          "font": {
           "size": 16
          },
          "showarrow": false,
          "text": "Location",
          "x": 0.5,
          "xanchor": "center",
          "xref": "paper",
          "y": 0.7375,
          "yanchor": "bottom",
          "yref": "paper"
         },
         {
          "font": {
           "size": 16
          },
          "showarrow": false,
          "text": "MainCharacteristic",
          "x": 0.5,
          "xanchor": "center",
          "xref": "paper",
          "y": 0.425,
          "yanchor": "bottom",
          "yref": "paper"
         },
         {
          "font": {
           "size": 16
          },
          "showarrow": false,
          "text": "Type",
          "x": 0.5,
          "xanchor": "center",
          "xref": "paper",
          "y": 0.1125,
          "yanchor": "bottom",
          "yref": "paper"
         }
        ],
        "height": 2000,
        "margin": {
         "b": 100,
         "l": 50,
         "r": 50,
         "t": 50
        },
        "showlegend": false,
        "template": {
         "data": {
          "bar": [
           {
            "error_x": {
             "color": "#2a3f5f"
            },
            "error_y": {
             "color": "#2a3f5f"
            },
            "marker": {
             "line": {
              "color": "#E5ECF6",
              "width": 0.5
             },
             "pattern": {
              "fillmode": "overlay",
              "size": 10,
              "solidity": 0.2
             }
            },
            "type": "bar"
           }
          ],
          "barpolar": [
           {
            "marker": {
             "line": {
              "color": "#E5ECF6",
              "width": 0.5
             },
             "pattern": {
              "fillmode": "overlay",
              "size": 10,
              "solidity": 0.2
             }
            },
            "type": "barpolar"
           }
          ],
          "carpet": [
           {
            "aaxis": {
             "endlinecolor": "#2a3f5f",
             "gridcolor": "white",
             "linecolor": "white",
             "minorgridcolor": "white",
             "startlinecolor": "#2a3f5f"
            },
            "baxis": {
             "endlinecolor": "#2a3f5f",
             "gridcolor": "white",
             "linecolor": "white",
             "minorgridcolor": "white",
             "startlinecolor": "#2a3f5f"
            },
            "type": "carpet"
           }
          ],
          "choropleth": [
           {
            "colorbar": {
             "outlinewidth": 0,
             "ticks": ""
            },
            "type": "choropleth"
           }
          ],
          "contour": [
           {
            "colorbar": {
             "outlinewidth": 0,
             "ticks": ""
            },
            "colorscale": [
             [
              0,
              "#0d0887"
             ],
             [
              0.1111111111111111,
              "#46039f"
             ],
             [
              0.2222222222222222,
              "#7201a8"
             ],
             [
              0.3333333333333333,
              "#9c179e"
             ],
             [
              0.4444444444444444,
              "#bd3786"
             ],
             [
              0.5555555555555556,
              "#d8576b"
             ],
             [
              0.6666666666666666,
              "#ed7953"
             ],
             [
              0.7777777777777778,
              "#fb9f3a"
             ],
             [
              0.8888888888888888,
              "#fdca26"
             ],
             [
              1,
              "#f0f921"
             ]
            ],
            "type": "contour"
           }
          ],
          "contourcarpet": [
           {
            "colorbar": {
             "outlinewidth": 0,
             "ticks": ""
            },
            "type": "contourcarpet"
           }
          ],
          "heatmap": [
           {
            "colorbar": {
             "outlinewidth": 0,
             "ticks": ""
            },
            "colorscale": [
             [
              0,
              "#0d0887"
             ],
             [
              0.1111111111111111,
              "#46039f"
             ],
             [
              0.2222222222222222,
              "#7201a8"
             ],
             [
              0.3333333333333333,
              "#9c179e"
             ],
             [
              0.4444444444444444,
              "#bd3786"
             ],
             [
              0.5555555555555556,
              "#d8576b"
             ],
             [
              0.6666666666666666,
              "#ed7953"
             ],
             [
              0.7777777777777778,
              "#fb9f3a"
             ],
             [
              0.8888888888888888,
              "#fdca26"
             ],
             [
              1,
              "#f0f921"
             ]
            ],
            "type": "heatmap"
           }
          ],
          "histogram": [
           {
            "marker": {
             "pattern": {
              "fillmode": "overlay",
              "size": 10,
              "solidity": 0.2
             }
            },
            "type": "histogram"
           }
          ],
          "histogram2d": [
           {
            "colorbar": {
             "outlinewidth": 0,
             "ticks": ""
            },
            "colorscale": [
             [
              0,
              "#0d0887"
             ],
             [
              0.1111111111111111,
              "#46039f"
             ],
             [
              0.2222222222222222,
              "#7201a8"
             ],
             [
              0.3333333333333333,
              "#9c179e"
             ],
             [
              0.4444444444444444,
              "#bd3786"
             ],
             [
              0.5555555555555556,
              "#d8576b"
             ],
             [
              0.6666666666666666,
              "#ed7953"
             ],
             [
              0.7777777777777778,
              "#fb9f3a"
             ],
             [
              0.8888888888888888,
              "#fdca26"
             ],
             [
              1,
              "#f0f921"
             ]
            ],
            "type": "histogram2d"
           }
          ],
          "histogram2dcontour": [
           {
            "colorbar": {
             "outlinewidth": 0,
             "ticks": ""
            },
            "colorscale": [
             [
              0,
              "#0d0887"
             ],
             [
              0.1111111111111111,
              "#46039f"
             ],
             [
              0.2222222222222222,
              "#7201a8"
             ],
             [
              0.3333333333333333,
              "#9c179e"
             ],
             [
              0.4444444444444444,
              "#bd3786"
             ],
             [
              0.5555555555555556,
              "#d8576b"
             ],
             [
              0.6666666666666666,
              "#ed7953"
             ],
             [
              0.7777777777777778,
              "#fb9f3a"
             ],
             [
              0.8888888888888888,
              "#fdca26"
             ],
             [
              1,
              "#f0f921"
             ]
            ],
            "type": "histogram2dcontour"
           }
          ],
          "mesh3d": [
           {
            "colorbar": {
             "outlinewidth": 0,
             "ticks": ""
            },
            "type": "mesh3d"
           }
          ],
          "parcoords": [
           {
            "line": {
             "colorbar": {
              "outlinewidth": 0,
              "ticks": ""
             }
            },
            "type": "parcoords"
           }
          ],
          "pie": [
           {
            "automargin": true,
            "type": "pie"
           }
          ],
          "scatter": [
           {
            "fillpattern": {
             "fillmode": "overlay",
             "size": 10,
             "solidity": 0.2
            },
            "type": "scatter"
           }
          ],
          "scatter3d": [
           {
            "line": {
             "colorbar": {
              "outlinewidth": 0,
              "ticks": ""
             }
            },
            "marker": {
             "colorbar": {
              "outlinewidth": 0,
              "ticks": ""
             }
            },
            "type": "scatter3d"
           }
          ],
          "scattercarpet": [
           {
            "marker": {
             "colorbar": {
              "outlinewidth": 0,
              "ticks": ""
             }
            },
            "type": "scattercarpet"
           }
          ],
          "scattergeo": [
           {
            "marker": {
             "colorbar": {
              "outlinewidth": 0,
              "ticks": ""
             }
            },
            "type": "scattergeo"
           }
          ],
          "scattergl": [
           {
            "marker": {
             "colorbar": {
              "outlinewidth": 0,
              "ticks": ""
             }
            },
            "type": "scattergl"
           }
          ],
          "scattermap": [
           {
            "marker": {
             "colorbar": {
              "outlinewidth": 0,
              "ticks": ""
             }
            },
            "type": "scattermap"
           }
          ],
          "scattermapbox": [
           {
            "marker": {
             "colorbar": {
              "outlinewidth": 0,
              "ticks": ""
             }
            },
            "type": "scattermapbox"
           }
          ],
          "scatterpolar": [
           {
            "marker": {
             "colorbar": {
              "outlinewidth": 0,
              "ticks": ""
             }
            },
            "type": "scatterpolar"
           }
          ],
          "scatterpolargl": [
           {
            "marker": {
             "colorbar": {
              "outlinewidth": 0,
              "ticks": ""
             }
            },
            "type": "scatterpolargl"
           }
          ],
          "scatterternary": [
           {
            "marker": {
             "colorbar": {
              "outlinewidth": 0,
              "ticks": ""
             }
            },
            "type": "scatterternary"
           }
          ],
          "surface": [
           {
            "colorbar": {
             "outlinewidth": 0,
             "ticks": ""
            },
            "colorscale": [
             [
              0,
              "#0d0887"
             ],
             [
              0.1111111111111111,
              "#46039f"
             ],
             [
              0.2222222222222222,
              "#7201a8"
             ],
             [
              0.3333333333333333,
              "#9c179e"
             ],
             [
              0.4444444444444444,
              "#bd3786"
             ],
             [
              0.5555555555555556,
              "#d8576b"
             ],
             [
              0.6666666666666666,
              "#ed7953"
             ],
             [
              0.7777777777777778,
              "#fb9f3a"
             ],
             [
              0.8888888888888888,
              "#fdca26"
             ],
             [
              1,
              "#f0f921"
             ]
            ],
            "type": "surface"
           }
          ],
          "table": [
           {
            "cells": {
             "fill": {
              "color": "#EBF0F8"
             },
             "line": {
              "color": "white"
             }
            },
            "header": {
             "fill": {
              "color": "#C8D4E3"
             },
             "line": {
              "color": "white"
             }
            },
            "type": "table"
           }
          ]
         },
         "layout": {
          "annotationdefaults": {
           "arrowcolor": "#2a3f5f",
           "arrowhead": 0,
           "arrowwidth": 1
          },
          "autotypenumbers": "strict",
          "coloraxis": {
           "colorbar": {
            "outlinewidth": 0,
            "ticks": ""
           }
          },
          "colorscale": {
           "diverging": [
            [
             0,
             "#8e0152"
            ],
            [
             0.1,
             "#c51b7d"
            ],
            [
             0.2,
             "#de77ae"
            ],
            [
             0.3,
             "#f1b6da"
            ],
            [
             0.4,
             "#fde0ef"
            ],
            [
             0.5,
             "#f7f7f7"
            ],
            [
             0.6,
             "#e6f5d0"
            ],
            [
             0.7,
             "#b8e186"
            ],
            [
             0.8,
             "#7fbc41"
            ],
            [
             0.9,
             "#4d9221"
            ],
            [
             1,
             "#276419"
            ]
           ],
           "sequential": [
            [
             0,
             "#0d0887"
            ],
            [
             0.1111111111111111,
             "#46039f"
            ],
            [
             0.2222222222222222,
             "#7201a8"
            ],
            [
             0.3333333333333333,
             "#9c179e"
            ],
            [
             0.4444444444444444,
             "#bd3786"
            ],
            [
             0.5555555555555556,
             "#d8576b"
            ],
            [
             0.6666666666666666,
             "#ed7953"
            ],
            [
             0.7777777777777778,
             "#fb9f3a"
            ],
            [
             0.8888888888888888,
             "#fdca26"
            ],
            [
             1,
             "#f0f921"
            ]
           ],
           "sequentialminus": [
            [
             0,
             "#0d0887"
            ],
            [
             0.1111111111111111,
             "#46039f"
            ],
            [
             0.2222222222222222,
             "#7201a8"
            ],
            [
             0.3333333333333333,
             "#9c179e"
            ],
            [
             0.4444444444444444,
             "#bd3786"
            ],
            [
             0.5555555555555556,
             "#d8576b"
            ],
            [
             0.6666666666666666,
             "#ed7953"
            ],
            [
             0.7777777777777778,
             "#fb9f3a"
            ],
            [
             0.8888888888888888,
             "#fdca26"
            ],
            [
             1,
             "#f0f921"
            ]
           ]
          },
          "colorway": [
           "#636efa",
           "#EF553B",
           "#00cc96",
           "#ab63fa",
           "#FFA15A",
           "#19d3f3",
           "#FF6692",
           "#B6E880",
           "#FF97FF",
           "#FECB52"
          ],
          "font": {
           "color": "#2a3f5f"
          },
          "geo": {
           "bgcolor": "white",
           "lakecolor": "white",
           "landcolor": "#E5ECF6",
           "showlakes": true,
           "showland": true,
           "subunitcolor": "white"
          },
          "hoverlabel": {
           "align": "left"
          },
          "hovermode": "closest",
          "mapbox": {
           "style": "light"
          },
          "paper_bgcolor": "white",
          "plot_bgcolor": "#E5ECF6",
          "polar": {
           "angularaxis": {
            "gridcolor": "white",
            "linecolor": "white",
            "ticks": ""
           },
           "bgcolor": "#E5ECF6",
           "radialaxis": {
            "gridcolor": "white",
            "linecolor": "white",
            "ticks": ""
           }
          },
          "scene": {
           "xaxis": {
            "backgroundcolor": "#E5ECF6",
            "gridcolor": "white",
            "gridwidth": 2,
            "linecolor": "white",
            "showbackground": true,
            "ticks": "",
            "zerolinecolor": "white"
           },
           "yaxis": {
            "backgroundcolor": "#E5ECF6",
            "gridcolor": "white",
            "gridwidth": 2,
            "linecolor": "white",
            "showbackground": true,
            "ticks": "",
            "zerolinecolor": "white"
           },
           "zaxis": {
            "backgroundcolor": "#E5ECF6",
            "gridcolor": "white",
            "gridwidth": 2,
            "linecolor": "white",
            "showbackground": true,
            "ticks": "",
            "zerolinecolor": "white"
           }
          },
          "shapedefaults": {
           "line": {
            "color": "#2a3f5f"
           }
          },
          "ternary": {
           "aaxis": {
            "gridcolor": "white",
            "linecolor": "white",
            "ticks": ""
           },
           "baxis": {
            "gridcolor": "white",
            "linecolor": "white",
            "ticks": ""
           },
           "bgcolor": "#E5ECF6",
           "caxis": {
            "gridcolor": "white",
            "linecolor": "white",
            "ticks": ""
           }
          },
          "title": {
           "x": 0.05
          },
          "xaxis": {
           "automargin": true,
           "gridcolor": "white",
           "linecolor": "white",
           "ticks": "",
           "title": {
            "standoff": 15
           },
           "zerolinecolor": "white",
           "zerolinewidth": 2
          },
          "yaxis": {
           "automargin": true,
           "gridcolor": "white",
           "linecolor": "white",
           "ticks": "",
           "title": {
            "standoff": 15
           },
           "zerolinecolor": "white",
           "zerolinewidth": 2
          }
         }
        },
        "title": {
         "text": "Visualizaciones de las nuevas columnas",
         "x": 0.5
        },
        "xaxis": {
         "anchor": "y",
         "domain": [
          0,
          1
         ],
         "tickangle": 45,
         "title": {
          "text": "Name"
         }
        },
        "xaxis2": {
         "anchor": "y2",
         "domain": [
          0,
          1
         ],
         "tickangle": 45,
         "title": {
          "text": "Location"
         }
        },
        "xaxis3": {
         "anchor": "y3",
         "domain": [
          0,
          1
         ],
         "tickangle": 45,
         "tickmode": "array",
         "ticktext": [],
         "tickvals": [],
         "title": {
          "text": "MainCharacteristic"
         }
        },
        "xaxis4": {
         "anchor": "y4",
         "domain": [
          0,
          1
         ],
         "tickangle": 45,
         "title": {
          "text": "Type"
         }
        },
        "yaxis": {
         "anchor": "x",
         "domain": [
          0.9375,
          1
         ],
         "title": {
          "text": "Count"
         }
        },
        "yaxis2": {
         "anchor": "x2",
         "domain": [
          0.625,
          0.6875
         ],
         "title": {
          "text": "Count"
         }
        },
        "yaxis3": {
         "anchor": "x3",
         "domain": [
          0.3125,
          0.375
         ],
         "title": {
          "text": "Count"
         }
        },
        "yaxis4": {
         "anchor": "x4",
         "domain": [
          0,
          0.0625
         ],
         "title": {
          "text": "Count"
         }
        }
       }
      }
     },
     "metadata": {},
     "output_type": "display_data"
    }
   ],
   "source": [
    "import pandas as pd\n",
    "import plotly.graph_objs as go\n",
    "from plotly.subplots import make_subplots\n",
    "import plotly.express as px\n",
    "import ast\n",
    "import json\n",
    "\n",
    "\n",
    "def string_to_list(x):\n",
    "    if isinstance(x, str):\n",
    "        try:\n",
    "            return ast.literal_eval(x)\n",
    "        except:\n",
    "            return x\n",
    "    return x\n",
    "\n",
    "\n",
    "def count_list_elements(series):\n",
    "    counter = {}\n",
    "    for item in series:\n",
    "        if isinstance(item, list):\n",
    "            for element in item:\n",
    "                if isinstance(element, dict):\n",
    "                    element = json.dumps(element, sort_keys=True)\n",
    "                counter[element] = counter.get(element, 0) + 1\n",
    "        else:\n",
    "            if isinstance(item, dict):\n",
    "                item = json.dumps(item, sort_keys=True)\n",
    "            counter[item] = counter.get(item, 0) + 1\n",
    "    return pd.Series(counter)\n",
    "\n",
    "\n",
    "def create_plot(df, column):\n",
    "    series = df[column].apply(string_to_list)\n",
    "    if series.dtype == \"O\":\n",
    "        if series.apply(lambda x: isinstance(x, list)).any():\n",
    "            series = series.apply(lambda x: x if isinstance(x, list) else [x])\n",
    "            flat_list = [item for sublist in series for item in sublist]\n",
    "            counts = pd.Series(flat_list).value_counts()\n",
    "        else:\n",
    "            counts = series.value_counts()\n",
    "        fig = px.bar(\n",
    "            counts,\n",
    "            x=counts.index,\n",
    "            y=counts.values,\n",
    "            labels={\"y\": \"count\", \"index\": column},\n",
    "        )\n",
    "    elif series.dtype in [\"int64\", \"float64\"]:\n",
    "        fig = px.histogram(series, x=column)\n",
    "    else:\n",
    "        print(f\"Tipo de datos no soportado para la columna {column}\")\n",
    "        return None\n",
    "    return fig\n",
    "\n",
    "\n",
    "new_columns = [\n",
    "    col\n",
    "    for col in data.columns\n",
    "    if col\n",
    "    not in [\n",
    "        \"listing_id\",\n",
    "        \"name\",\n",
    "        \"description\",\n",
    "        \"text\",\n",
    "        \"gpt_response\",\n",
    "        \"llama_response\",\n",
    "    ]\n",
    "]\n",
    "\n",
    "# Ajustes para mejorar la disposición\n",
    "altura_base_por_subplot = 500  # Aumentado aún más para dar espacio adicional\n",
    "altura_total = altura_base_por_subplot * len(new_columns)\n",
    "espaciado_vertical = 0.25  # Aumentado para mayor separación entre subplots\n",
    "\n",
    "fig = make_subplots(\n",
    "    rows=len(new_columns),\n",
    "    cols=1,\n",
    "    subplot_titles=new_columns,\n",
    "    vertical_spacing=espaciado_vertical,\n",
    ")\n",
    "\n",
    "for i, column in enumerate(new_columns, start=1):\n",
    "    subplot = create_plot(data, column)\n",
    "    if subplot:\n",
    "        for trace in subplot.data:\n",
    "            fig.add_trace(trace, row=i, col=1)\n",
    "\n",
    "        # Actualizar el diseño de cada subplot individualmente\n",
    "        fig.update_xaxes(\n",
    "            title_text=column, row=i, col=1, tickangle=45\n",
    "        )  # Rotar etiquetas 45 grados\n",
    "        fig.update_yaxes(title_text=\"Count\", row=i, col=1)\n",
    "\n",
    "        # Ajuste especial para columnas con etiquetas largas (como \"3goodthings\")\n",
    "        if (\n",
    "            \"3goodthings\" in column or len(column) > 15\n",
    "        ):  # Ajusta este valor según sea necesario\n",
    "            fig.update_xaxes(\n",
    "                tickmode=\"array\", tickvals=[], ticktext=[], row=i, col=1\n",
    "            )  # Ocultar etiquetas del eje X\n",
    "            fig.update_annotations(\n",
    "                text=column, row=i, col=1, x=0.5, y=-0.15, xref=\"paper\", yref=\"paper\"\n",
    "            )  # Mover título del eje X hacia abajo\n",
    "\n",
    "# Actualizar el diseño global\n",
    "fig.update_layout(\n",
    "    height=altura_total,\n",
    "    title_text=\"Visualizaciones de las nuevas columnas\",\n",
    "    showlegend=False,\n",
    "    title_x=0.5,  # Centrar el título principal\n",
    "    margin=dict(t=50, b=100, l=50, r=50),  # Aumentar el margen inferior\n",
    ")\n",
    "\n",
    "# Ajustar la posición de los títulos de los subplots\n",
    "for i in fig[\"layout\"][\"annotations\"]:\n",
    "    i[\"y\"] = i[\"y\"] + 0.05  # Mover los títulos de los subplots más hacia arriba\n",
    "\n",
    "# Mostrar la figura\n",
    "fig.show()"
   ]
  },
  {
   "cell_type": "markdown",
   "metadata": {},
   "source": [
    "## Parte 2\n",
    "\n",
    "Realiza un análisis de los comentarios de los apartamentos con un modelo de lenguaje natural (GPT o LLAMA) y extrae información relevante de los mismos.\n",
    "\n",
    "Por ejemplo, puedes analizar los comentarios y extraer información sobre la limpieza, la ubicación, la relación calidad-precio, el sentimiento del comentario, etc."
   ]
  },
  {
   "cell_type": "code",
   "execution_count": 10,
   "metadata": {},
   "outputs": [
    {
     "data": {
      "application/vnd.microsoft.datawrangler.viewer.v0+json": {
       "columns": [
        {
         "name": "index",
         "rawType": "int64",
         "type": "integer"
        },
        {
         "name": "name",
         "rawType": "object",
         "type": "unknown"
        },
        {
         "name": "host_id",
         "rawType": "float64",
         "type": "float"
        },
        {
         "name": "host_name",
         "rawType": "object",
         "type": "unknown"
        },
        {
         "name": "date",
         "rawType": "object",
         "type": "unknown"
        },
        {
         "name": "reviewer_id",
         "rawType": "float64",
         "type": "float"
        },
        {
         "name": "reviewer_name",
         "rawType": "object",
         "type": "unknown"
        },
        {
         "name": "comments",
         "rawType": "object",
         "type": "unknown"
        },
        {
         "name": "language",
         "rawType": "object",
         "type": "unknown"
        }
       ],
       "conversionMethod": "pd.DataFrame",
       "ref": "51eac5b2-073a-4e2f-889a-88981f920fd7",
       "rows": [
        [
         "0",
         "LUXURY apartment t3 oporto antas",
         "37249350.0",
         "Joaquim",
         "2018-01-30",
         "156292241.0",
         "Silvia",
         "Acomodação espaçosa e bonita. O Joaquim e sua equipe são impecáveis. Recebimento perfeito com direito a mimos como tábua de queijos e vinho. Tudo ótimo! ",
         "pt"
        ],
        [
         "1",
         "Aida's Haven | Room&PrivateBath | St. Catarina",
         "38365612.0",
         "Alexandra",
         "2019-12-15",
         "283158910.0",
         "Tierry Dayan",
         "A anfitriã Alexandra foi muito simpática,  prestativa, paciente (pois tivemos um atraso na chegada devido ao voo) e agradável! Sua casa maravilhosa, completa e exatamente como na foto. Foi a estadia perfeita!",
         "pt"
        ],
        [
         "2",
         "Maritime Inspiration - One Bedroom Beach Apartment",
         "147469727.0",
         "Susana",
         "2018-08-12",
         "173756309.0",
         "Julio",
         "Apartamento muy bien comunicado, aunque nos esperábamos algo más, cuando ves las fotos, que están muy bien hechas, te esperas otra cosa.<br/>El paso del tiempo y algo de dejadez, hace ver que no está como parece en las fotos.<br/>Por lo demás, correcto, perfecto trato por parte de Susana y rápida comunicación y asesoramiento a la llegada, permitiéndonos dejar el equipaje una hora antes de lo previsto <br/>",
         "es"
        ],
        [
         "3",
         "Central  charming Top floor - nice views",
         "26222276.0",
         "A.Maria",
         "2016-05-28",
         "11705876.0",
         "Rafael",
         "Adosinda was kind, showed the apartment, set up the two beds for us and even left us some pasteizinhos de belem.\n<br/>Cozy apartment very well located! I would definitely stay there again.",
         "en"
        ],
        [
         "4",
         "Ribeira Oporto Apartment II (Renewed 2021)",
         "35057317.0",
         "João",
         "2016-06-02",
         "38269559.0",
         "Anais",
         "Un appartement au coeur de porto, très grand avec toutes les commodités. Joao était vraiment adorable, il a prit le temps de nous montrer les différents endroits à porto a ne pas manquer.",
         "fr"
        ],
        [
         "5",
         "Low Cost Parking - Garden - 3min to City Hall",
         "151352873.0",
         "Liu-Qi",
         "2022-08-21",
         "63373207.0",
         "Paula",
         "Fue genial, la ubicación es ideal y el piso es muy acogedor.",
         "es"
        ],
        [
         "6",
         "Garden house in the art district",
         "19446078.0",
         "Pedro",
         "2020-02-17",
         "81308076.0",
         "Adèle",
         "We had a great stay at Pedro's appartment. He was available and helpful, the decoration is really lovely and the location is perfect. I highly recommend this place!",
         "en"
        ],
        [
         "7",
         "Comfortable room 10 minutes walk to down town",
         "76618934.0",
         "Fernanda",
         "2019-04-06",
         "237109877.0",
         "Juyoung",
         "숙소의 모든 부분이 좋았습니다.<br/>위치도 좋았고(상벤투역까지 걸어서 15-20분정도 걸립니다), 집 근처에 마트가 있어 좋았습니다.",
         "ko"
        ],
        [
         "8",
         "Casa De Oliveira Aveiro Porto Espinho Ovar",
         "83601959.0",
         "Victor E Virginie",
         "2018-01-01",
         "40799303.0",
         "Paulo",
         "Excelente sítio para famílias!",
         "pt"
        ],
        [
         "9",
         "GuestReady - Bourse Maison",
         "364783572.0",
         "GuestReady",
         "2022-11-15",
         "328692056.0",
         "Grzegorz",
         "Bardzo miły i przyrulny apartament z ładnym widokiem. Szybkie zameldowanie, apartament położonyw centrum Porto Atrakcje,restauracje i sklepik na wyciągnięcie ręki.Dobry i szybki kontakt z właścicielem Polecam bardzo",
         "pl"
        ],
        [
         "10",
         "GuestReady - Panorama Apartments - Ribeira 1",
         "91711126.0",
         "Raquel",
         "2019-08-26",
         "103758234.0",
         "Jihye",
         "숙소 위치도 너무 좋고 시설도 깨끗하고 호스트분도 너무 친절하고 다 좋았어요! 아침마다 주는 빵이 너무 맛있었어요 ! 특히 에그타르트! 강추해요!",
         "ko"
        ],
        [
         "11",
         "Casa 22 ***** City centre cozy apartment!",
         "6847458.0",
         "Kiki & Teresa",
         "2014-10-24",
         "21848863.0",
         "Wen",
         "Kiki and Teresa are just perfect hosts, and their apartment is even better than those photos. Great location, my parents and I could walk to most of the must-go places. And the bistro which Kiki recommended to us was awesome! I love Porto and I will be there again. Thank you so much Kiki and Teresa.",
         "en"
        ],
        [
         "12",
         "HEART OF THE CITY 2!",
         "37860920.0",
         "Telmo",
         "2022-09-15",
         "6091116.0",
         "Tina",
         "Thank you very much, we enjoyed your place.",
         "en"
        ],
        [
         "13",
         "Big TERRACE APARTMENT / city center",
         "505473.0",
         "Gundega & Antonio",
         "2015-10-03",
         "31704980.0",
         "Régis",
         "Très bien accueillis par Gundega et Antonio, d'excellents renseignements sur le logement (très bien équipé), le quartier (n'oubliez pas le Restaurant Roma), la ville (monuments et ce qu'il faut voir), l'environnement (les caves de Porto, les restaurants du port, le métro et autocars).\n<br/>Bref, une excellente adresse pour pouvoir découvrir Porto !",
         "fr"
        ],
        [
         "14",
         "CC Downtown Palace - J",
         "386854884.0",
         "Anna E Caio",
         "2021-07-08",
         "18438307.0",
         "Emmanuel",
         "A perfect place. No doubt five stars. One of our best Airbnb.",
         "en"
        ],
        [
         "15",
         "Boavista Flat",
         "144104369.0",
         "Ana Paula",
         "2017-09-11",
         "99165012.0",
         "Claudia",
         "Ana Paula was very friendly and always opened to suggestions. She also helped us to organize our trip giving us useful information about the city ! The placer os very clean and comfortable, we recomend it!! <br/>Obrigada :)",
         "en"
        ],
        [
         "16",
         "Apartment century XIX (1)",
         "20397743.0",
         "Patrícia E Bruno",
         "2019-07-01",
         "149312626.0",
         "Erika",
         "This flat was wonderful. It’s one of the bigger one bedrooms we’ve stayed in Europe. Our host was extremely kind and gave wonderful suggestions of places to visit and food to try. We would absolutely come back to Porto!",
         "en"
        ],
        [
         "17",
         "MY DOURO VIEW Stylish Gem River Front",
         "17125483.0",
         "Patrícia",
         "2022-11-24",
         "5735527.0",
         "Gus",
         "WOW!  What a great place, and great host.  Patricia was super responsive and had great recommendations.  The apt is ideally located for us, and we thoroughly enjoyed our stay!  What a magical city!",
         "en"
        ],
        [
         "18",
         "☆ Porto's Centre Downtown ☆ w/ Douro River views ♡",
         "296767954.0",
         "Adérito",
         "2021-09-12",
         "266370797.0",
         "Marina",
         "Perfecto. Más amplio de lo que parece en las fotos, techos altos, todo nuevo e impecable. Vistas inmejorables y muy luminoso.",
         "es"
        ],
        [
         "19",
         "Mouzinho 134 - Historical Center - Grey",
         "3565697.0",
         "Eugenia And Luis",
         "2017-08-06",
         "53500148.0",
         "Dustin & Stephanie",
         "Great location!",
         "en"
        ],
        [
         "20",
         "Porto Centrum Apart 6-10Pax(5rooms)",
         "19656146.0",
         "Nuno",
         "2016-06-13",
         "50640490.0",
         "Giuseppe",
         "Appartamento molto spazioso con luce e aria. Ottimo per un gruppo numeroso come il nostro. Essenzialmente pulito. Nuno si è comportato egregiamente fornendoci tutte le info necessarie per vivere la città di Porto. Unica pecca il ritardo nella consegna dell'appartamento rispetto a quello che era stato stabilito ma sono cose che possono succedere. Giudizio essenzialmente positivo",
         "it"
        ],
        [
         "21",
         "Mouzinho 18 by YoursPorto",
         "1675750.0",
         "YoursPorto",
         "2022-07-24",
         "54420968.0",
         "Marcus",
         "The apartment itself was brilliant. It was bright, clean, comfortable, well-stocked and in a great location. You can easily walk from the front door to the key attractions. <br/><br/>Yours Porto were really helpful in advance and during our stay. They arranged for us to park our car in the garage under the building, for a cleaner to come mid-stay and provided us with plenty of recommendations in the local area. <br/><br/>A huge thank you for making our stay so enjoyable.",
         "en"
        ],
        [
         "22",
         "Feel Porto Downtown Woods Flat",
         "2228036.0",
         "Rui",
         "2021-11-01",
         "18283641.0",
         "Brendan",
         "Un très bel appartement, spacieux, dispose de tout le confort nécessaire et est extrêmement bien placé. <br/>Très réactif, Rui a répondu à toutes mes interrogations et à tout fait pour que notre séjour soit simple et agréable. <br/>Je recommande !",
         "fr"
        ],
        [
         "23",
         null,
         null,
         null,
         null,
         null,
         null,
         null,
         null
        ],
        [
         "24",
         "GuestReady - Casa da Avenida",
         "364783572.0",
         "GuestReady",
         "2018-10-21",
         "141504238.0",
         "Wilbur",
         "Really Really Good",
         "en"
        ],
        [
         "25",
         "Douro Dreams - Amazing River View",
         "130805492.0",
         "Marta",
         "2022-04-22",
         "450045602.0",
         "Lisandro",
         "Genial.",
         "ca"
        ],
        [
         "26",
         "Flats 323 - 1",
         "167876218.0",
         "Helena",
         "2022-07-18",
         "351344880.0",
         "Katrin",
         "Sehr gut ausgestattetes Apartment mit allem Komfort, sauber, und die Terrasse ist sehr gemütlich, um abends zu entspannen. Eine klare Empfehlung!",
         "de"
        ],
        [
         "27",
         "GuestReady - Bolhão Downtown Apartment",
         "449184826.0",
         "Guestready",
         "2022-10-30",
         "116022984.0",
         "Veronique",
         "Notre séjour s'est merveilleuse déroulé malgré la pluie..Porto est une ville superbe,  le centre historique vaut vraiment le voyage ainsi que les caves, le pont Dom Luis, etc...C'est également une ville en travaux mais on s'y repère très bien... Les portugais sont accueillants...",
         "fr"
        ],
        [
         "28",
         "Bombarda Apartments II by Innkeeper",
         "447690190.0",
         "Innkeeper",
         "2022-04-04",
         "293919845.0",
         "Sandra",
         "Thanks for the nice stay! Everything was clean and cosy. Best regards, Sandra",
         "en"
        ],
        [
         "29",
         "Seventyset flats - Mezzanine with River View",
         "325620341.0",
         "Julia",
         "2022-05-26",
         "263680854.0",
         "Yassie",
         "Es war ein super schöner Aufenthalt in toller Lage. Dankeschön!",
         "de"
        ],
        [
         "30",
         "COCOON ALMADA",
         "139110639.0",
         "Ruis",
         "2022-09-26",
         "134091645.0",
         "Caroline",
         "Great Stay!",
         "en"
        ],
        [
         "31",
         "GuestReady - Morning Glimpse",
         "364783572.0",
         "GuestReady",
         "2019-08-18",
         "36527709.0",
         "Davide",
         "Ottima soluzione a Gaia con vista su porto. Possibilità di una grigliata panoramica sul bellissimo terrazzo.<br/>Spazi ampi e comodi",
         "it"
        ],
        [
         "32",
         "GuestReady - Clerigos Apartment Balcony 1",
         "118420008.0",
         "João Maria Teresa",
         "2019-11-24",
         "19926370.0",
         "Pablo",
         "Very central and practical apartment. Good for a short stay. There was a problem with the bathroom but not reason to not recommend this place. Very polite and nice employees.",
         "en"
        ],
        [
         "33",
         "Award Winning Design Apt City Center - River View!",
         "15900664.0",
         "LisBeyond",
         "2022-04-24",
         "14515304.0",
         "Jennifer",
         "Beautiful view and amazing location! The communication and check in was super smooth and we enjoyed our stay there very much!",
         "en"
        ],
        [
         "34",
         "\"Tawny\" Studio in Porto city center",
         "38963404.0",
         "Zelije",
         "2016-07-23",
         "52692405.0",
         "Priscila",
         "Estivemos por 3 dias no Porto e nossa estadia no Zelige estúdio foi essencial para tornar a trip mais prática.<br/>A localização é ótima, bem próximo do metrô Lapa e com fácil acesso para caminhar ao centro histórico da cidade.<br/>Há restaurantes bem próximo e comércio de todos os tipos.<br/>O Flat é bem arejado e equipado, pudemos até lavar nossas roupas. A cama bem confortável e espaçosa.<br/>O grupo Zelige são bem organizados e hospitaleiros, nos passaram segurança e  atenciosidade  do começo ao fim de nossa estadia. <br/>Recomendo e voltarei a contactá-los quando voltar ao Porto.",
         "pt"
        ],
        [
         "35",
         "Canidelo Beach house ,50m beach+Private Terrace",
         "36949858.0",
         "Celso",
         "2018-07-08",
         "70694677.0",
         "Viktoria",
         "Ich kann das Apartment nur empfehlen. Grade für Gruppen ist das Apartment ideal!",
         "de"
        ],
        [
         "36",
         "GET a Cactus and Books studio",
         "25966212.0",
         "Elsa Pereira",
         "2019-01-27",
         "52615857.0",
         "Anna Marie",
         "Elsa is a fantastic Super Host. She has a funky comfortable apartment that has everything you need. She communicates very quickly by phone, email and is available. <br/>Location, location, location. Handy to all historical site, shops, restaurants etc. <br/>Elsa helped us personal to get our large hire car through the gate into huge parking space in front of the apartment. We had  electronic Toll road payment issues which Elsa quickly found out information for us and offered further assistance after we left Portugal. Amazing hospitality. Thank you for a fantastic stay at your apartment and Porto.  Obrigado.",
         "en"
        ],
        [
         "37",
         "Apartment with a shared garden",
         "10364726.0",
         "Manor House Porto",
         "2015-09-30",
         "3857297.0",
         "Stuart",
         "The Manor House is an exceptional base for a visit to Porto. Located in a quiet pocket behind the Cathedral, it commands a breath-taking view over the river and bridge, but is quiet. It is extremely well equipped, spacious and atmospheric.\n<br/>\n<br/>We were welcomed warmly by Claudia and given a detailed, friendly briefing. We were delighted with the Manor House and recommend it.",
         "en"
        ],
        [
         "38",
         "Ambiente Agradável/Nice Place",
         "34862783.0",
         "Elis And Family'S House",
         "2018-08-24",
         "47562486.0",
         "Elena",
         "Elis is just the most lovely host! She and her parents are a really warm-hearted. The apartment is nice and clean. Elis gave us a lot of information about Porto and the breakfast was great! I can highly recommend this airbnb and I would come back any time!",
         "en"
        ],
        [
         "39",
         "Porto Premium River View I",
         "254274730.0",
         "Maria",
         "2021-05-09",
         "239684998.0",
         "Alicja",
         "Very nice apartment, beautiful view, city centre",
         "en"
        ],
        [
         "40",
         "Ribeiraflat mostaza",
         "76897563.0",
         "Miguel",
         "2019-07-26",
         "224413232.0",
         "Seth",
         "Great location. Good host. Very pleased with our stay.",
         "en"
        ],
        [
         "41",
         "Aida's Haven | Room&PrivateBath | St. Catarina",
         "38365612.0",
         "Alexandra",
         "2022-08-28",
         "61301090.0",
         "Jeferson Renato",
         "O apartamento é grande, espaçoso, com áreas comuns aos hóspedes e uma boa varanda. Próximo ao metrô e a supermercados. Alexandra se mostrou extremamente solícita em nosso check-in.  Entretanto, tivemos problemas com o compartilhamento do apartamento com outros hóspedes. Hóspede que praticava Yoga com música alta na janela de nosso quarto as 7h30 da manha; algum hóspede que deixou porta da sala aberta para a varanda, e assim dormiu o apartamento. O banheiro do quarto em que ficamos não possuía chave, e a porta não fechava com tramela, foi realmente um incômodo enorme que foi comunicado e não resolvido. Enfim, o apartamento é bom, mas a experiência que tivemos não o foi!",
         "pt"
        ],
        [
         "42",
         "Bragas House - Porto Center 1D",
         "72363890.0",
         "Bragas",
         "2021-07-23",
         "111881639.0",
         "Dorota",
         "Great place to stay in Porto! Close to the metro station that takes you straight to the airport and a walkable distance from the city center <br/>Great cafes nearby",
         "en"
        ],
        [
         "43",
         "9 Julho - Apartamento junto Metro",
         "52661191.0",
         "O´Porto Seven",
         "2016-07-10",
         "12539239.0",
         "Adrien",
         "Merci à Claudia pour son accueil chaleureux dès notre arrivée. \n<br/>Le quartier est tranquille et bien situé. En 5 min de métro vous êtes en plein coeur de Porto !\n<br/>L'appartement est très propre, bien décoré, spacieux. Réel plaisir de profiter de cette terrasse ensoleillée lors des repas.\n<br/>Séjour inoubliable ;)\n<br/>",
         "fr"
        ],
        [
         "44",
         "Walkable Oporto downtown apartment",
         "2251618.0",
         "Marta",
         "2019-05-11",
         "49778883.0",
         "Zuzana",
         "Marta was a great host, had no problem with me arriving around midnight due to a cancelled flight and offered tons of local tips. The place itself was clean, well-equipped and perfect location for exploring Porto on foot",
         "en"
        ],
        [
         "45",
         "Loftdouro-Porto",
         "94972475.0",
         "Margarida",
         "2021-10-17",
         "77179056.0",
         "Becky",
         "Wonderful stay… the beds were super comfortable, the views amazing as were the lovely treats and ports that Margarida left for us to enjoy",
         "en"
        ],
        [
         "46",
         "Luxury Apartment in Cardosas",
         "4287899.0",
         "Susete",
         "2019-09-13",
         "145195955.0",
         "Carolyn",
         "Osvaldo and Susete were very responsive and provided a lot of tips for things to do/see and where to eat. Great location in the city.",
         "en"
        ],
        [
         "47",
         "GuestReady - Square Painted Ceuta",
         "364783572.0",
         "GuestReady",
         "2021-11-28",
         "53475410.0",
         "Lyly",
         "Super zentrale Lage, besser geht nicht. Man muss sich aber bewusst sein, dass es dafür auch lauter ist. <br/>Check in und out war sehr einfach. Wir haben die 10€ Option mit persönlichem Check in dazugebucht. Pedro war wirklich sehr freundlich und nett beim Check in, jedoch lässt die Sauberkeit des AirBnbs zu wünschen übrig. Auf der neuen Bettwäsche waren überall Haare, in der Bettdecke auch. Der Boden war komplett dreckig, jeden Tag waren die Socken schwarz. Das Waschbecken ist undicht, sodass das Wasser in den Schrank tropft und von dort aus auf den Boden.<br/><br/>Die Wohnung ist nicht für 3 Personen geeignet. Es gab nur eine einlagige Toilettenpapierrolle. 1 kleines Handtuch für Hände. Das Schlafsofa kippelt und quietscht bei jeder Bewegung, ist eher nur zum sitzen als schlafen geeignet. <br/>Es gab für 3 Personen nur 1x Bettwäsche dafür 3 Bettlaken, und  3 Decken, aber nützt einem nichts ohne Bettwäsche. Beim Anruf in der Zentrale wurde einem nicht geholfen, man soll alles extra zahlen und es sei alles ausreichend da und 2 Personen müssten sich die Bettwäsche teilen und die Person auf dem Schlafsofa sollte die Bettlaken in Bettwäsche umfunktionieren. Was wir jedoch nicht wollten, weil dies unhygienisch ist und fremde Haare auf der Decke waren.<br/>Erst nach mehrmaligen Schreiben über Airbnb haben wir 1x Bettwäsche und Klopapier am 2. Abend zusätzlich erhalten. <br/><br/>Als Paar ist das AirBnb mit einigen Abstrichen in der Sauberkeit für einen Städtetrip zu empfehlen, da die Lage wirklich perfekt ist. <br/>Für 2 Freunde auch, wenn man kein Problem mit Bettwäsche teilen hat. <br/>Zu Dritt auf keinen Fall wieder.",
         "de"
        ],
        [
         "48",
         "Central Luxurious Room with private WC",
         "19903319.0",
         "Maria & Paolo",
         "2016-09-23",
         "49691999.0",
         "Marco",
         "Cumpriu com todas as espectativas.",
         null
        ],
        [
         "49",
         "Belas Artes Apartment - Architectur",
         "44500020.0",
         "Simao",
         "2022-08-16",
         "106248322.0",
         "Rudy",
         "Everything was just amazing. Guesthouse was close to everything, clean, perfectly equiped for any event and clean. Paulo the host was wonderful with us and gave us advices on our stay.<br/>LOVED EVERY SINGLE BIT OF OUT STAY.<br/>Obrigado amigo",
         "en"
        ]
       ],
       "shape": {
        "columns": 8,
        "rows": 5000
       }
      },
      "text/html": [
       "<div>\n",
       "<style scoped>\n",
       "    .dataframe tbody tr th:only-of-type {\n",
       "        vertical-align: middle;\n",
       "    }\n",
       "\n",
       "    .dataframe tbody tr th {\n",
       "        vertical-align: top;\n",
       "    }\n",
       "\n",
       "    .dataframe thead th {\n",
       "        text-align: right;\n",
       "    }\n",
       "</style>\n",
       "<table border=\"1\" class=\"dataframe\">\n",
       "  <thead>\n",
       "    <tr style=\"text-align: right;\">\n",
       "      <th></th>\n",
       "      <th>name</th>\n",
       "      <th>host_id</th>\n",
       "      <th>host_name</th>\n",
       "      <th>date</th>\n",
       "      <th>reviewer_id</th>\n",
       "      <th>reviewer_name</th>\n",
       "      <th>comments</th>\n",
       "      <th>language</th>\n",
       "    </tr>\n",
       "  </thead>\n",
       "  <tbody>\n",
       "    <tr>\n",
       "      <th>0</th>\n",
       "      <td>LUXURY apartment t3 oporto antas</td>\n",
       "      <td>37249350.0</td>\n",
       "      <td>Joaquim</td>\n",
       "      <td>2018-01-30</td>\n",
       "      <td>156292241.0</td>\n",
       "      <td>Silvia</td>\n",
       "      <td>Acomodação espaçosa e bonita. O Joaquim e sua ...</td>\n",
       "      <td>pt</td>\n",
       "    </tr>\n",
       "    <tr>\n",
       "      <th>1</th>\n",
       "      <td>Aida's Haven | Room&amp;PrivateBath | St. Catarina</td>\n",
       "      <td>38365612.0</td>\n",
       "      <td>Alexandra</td>\n",
       "      <td>2019-12-15</td>\n",
       "      <td>283158910.0</td>\n",
       "      <td>Tierry Dayan</td>\n",
       "      <td>A anfitriã Alexandra foi muito simpática,  pre...</td>\n",
       "      <td>pt</td>\n",
       "    </tr>\n",
       "    <tr>\n",
       "      <th>2</th>\n",
       "      <td>Maritime Inspiration - One Bedroom Beach Apart...</td>\n",
       "      <td>147469727.0</td>\n",
       "      <td>Susana</td>\n",
       "      <td>2018-08-12</td>\n",
       "      <td>173756309.0</td>\n",
       "      <td>Julio</td>\n",
       "      <td>Apartamento muy bien comunicado, aunque nos es...</td>\n",
       "      <td>es</td>\n",
       "    </tr>\n",
       "    <tr>\n",
       "      <th>3</th>\n",
       "      <td>Central  charming Top floor - nice views</td>\n",
       "      <td>26222276.0</td>\n",
       "      <td>A.Maria</td>\n",
       "      <td>2016-05-28</td>\n",
       "      <td>11705876.0</td>\n",
       "      <td>Rafael</td>\n",
       "      <td>Adosinda was kind, showed the apartment, set u...</td>\n",
       "      <td>en</td>\n",
       "    </tr>\n",
       "    <tr>\n",
       "      <th>4</th>\n",
       "      <td>Ribeira Oporto Apartment II (Renewed 2021)</td>\n",
       "      <td>35057317.0</td>\n",
       "      <td>João</td>\n",
       "      <td>2016-06-02</td>\n",
       "      <td>38269559.0</td>\n",
       "      <td>Anais</td>\n",
       "      <td>Un appartement au coeur de porto, très grand a...</td>\n",
       "      <td>fr</td>\n",
       "    </tr>\n",
       "    <tr>\n",
       "      <th>...</th>\n",
       "      <td>...</td>\n",
       "      <td>...</td>\n",
       "      <td>...</td>\n",
       "      <td>...</td>\n",
       "      <td>...</td>\n",
       "      <td>...</td>\n",
       "      <td>...</td>\n",
       "      <td>...</td>\n",
       "    </tr>\n",
       "    <tr>\n",
       "      <th>4995</th>\n",
       "      <td>Marquês's House - Estúdio ao Marquês</td>\n",
       "      <td>93991335.0</td>\n",
       "      <td>Conceição</td>\n",
       "      <td>2017-09-10</td>\n",
       "      <td>13710198.0</td>\n",
       "      <td>Sandra</td>\n",
       "      <td>Merci pour le chaleureux accueil et tous les b...</td>\n",
       "      <td>fr</td>\n",
       "    </tr>\n",
       "    <tr>\n",
       "      <th>4996</th>\n",
       "      <td>M1.4 | Surf Beach Matosinhos | Porto</td>\n",
       "      <td>39551356.0</td>\n",
       "      <td>Porto Je T'Aime</td>\n",
       "      <td>2018-08-04</td>\n",
       "      <td>204048434.0</td>\n",
       "      <td>Louis</td>\n",
       "      <td>Toutes les qualités recherchées dans ce type d...</td>\n",
       "      <td>fr</td>\n",
       "    </tr>\n",
       "    <tr>\n",
       "      <th>4997</th>\n",
       "      <td>Kitchnette Studio in Porto's Downtown II</td>\n",
       "      <td>1651078.0</td>\n",
       "      <td>Lurdes</td>\n",
       "      <td>2022-06-19</td>\n",
       "      <td>68564036.0</td>\n",
       "      <td>Angie</td>\n",
       "      <td>Its a lovely little studio, a green oasis, rig...</td>\n",
       "      <td>en</td>\n",
       "    </tr>\n",
       "    <tr>\n",
       "      <th>4998</th>\n",
       "      <td>MyLoft-Charming Apartment!!! - Metro Bolhão</td>\n",
       "      <td>34348897.0</td>\n",
       "      <td>Carla</td>\n",
       "      <td>2022-06-23</td>\n",
       "      <td>283375850.0</td>\n",
       "      <td>Angelika</td>\n",
       "      <td>Carla ist wirklich eine sehr tolle Gastgeberin...</td>\n",
       "      <td>de</td>\n",
       "    </tr>\n",
       "    <tr>\n",
       "      <th>4999</th>\n",
       "      <td>ABEL'S @ CAMPO 24 DE AGOSTO - 4 OF 6</td>\n",
       "      <td>6989703.0</td>\n",
       "      <td>Abel</td>\n",
       "      <td>2019-04-26</td>\n",
       "      <td>12108853.0</td>\n",
       "      <td>Grigorii</td>\n",
       "      <td>We have stayed at Abels Apartment for few nigh...</td>\n",
       "      <td>en</td>\n",
       "    </tr>\n",
       "  </tbody>\n",
       "</table>\n",
       "<p>5000 rows × 8 columns</p>\n",
       "</div>"
      ],
      "text/plain": [
       "                                                   name      host_id  \\\n",
       "0                      LUXURY apartment t3 oporto antas   37249350.0   \n",
       "1        Aida's Haven | Room&PrivateBath | St. Catarina   38365612.0   \n",
       "2     Maritime Inspiration - One Bedroom Beach Apart...  147469727.0   \n",
       "3              Central  charming Top floor - nice views   26222276.0   \n",
       "4            Ribeira Oporto Apartment II (Renewed 2021)   35057317.0   \n",
       "...                                                 ...          ...   \n",
       "4995               Marquês's House - Estúdio ao Marquês   93991335.0   \n",
       "4996               M1.4 | Surf Beach Matosinhos | Porto   39551356.0   \n",
       "4997           Kitchnette Studio in Porto's Downtown II    1651078.0   \n",
       "4998        MyLoft-Charming Apartment!!! - Metro Bolhão   34348897.0   \n",
       "4999               ABEL'S @ CAMPO 24 DE AGOSTO - 4 OF 6    6989703.0   \n",
       "\n",
       "            host_name        date  reviewer_id reviewer_name  \\\n",
       "0             Joaquim  2018-01-30  156292241.0        Silvia   \n",
       "1           Alexandra  2019-12-15  283158910.0  Tierry Dayan   \n",
       "2              Susana  2018-08-12  173756309.0         Julio   \n",
       "3             A.Maria  2016-05-28   11705876.0        Rafael   \n",
       "4                João  2016-06-02   38269559.0         Anais   \n",
       "...               ...         ...          ...           ...   \n",
       "4995        Conceição  2017-09-10   13710198.0        Sandra   \n",
       "4996  Porto Je T'Aime  2018-08-04  204048434.0         Louis   \n",
       "4997           Lurdes  2022-06-19   68564036.0         Angie   \n",
       "4998            Carla  2022-06-23  283375850.0      Angelika   \n",
       "4999             Abel  2019-04-26   12108853.0      Grigorii   \n",
       "\n",
       "                                               comments language  \n",
       "0     Acomodação espaçosa e bonita. O Joaquim e sua ...       pt  \n",
       "1     A anfitriã Alexandra foi muito simpática,  pre...       pt  \n",
       "2     Apartamento muy bien comunicado, aunque nos es...       es  \n",
       "3     Adosinda was kind, showed the apartment, set u...       en  \n",
       "4     Un appartement au coeur de porto, très grand a...       fr  \n",
       "...                                                 ...      ...  \n",
       "4995  Merci pour le chaleureux accueil et tous les b...       fr  \n",
       "4996  Toutes les qualités recherchées dans ce type d...       fr  \n",
       "4997  Its a lovely little studio, a green oasis, rig...       en  \n",
       "4998  Carla ist wirklich eine sehr tolle Gastgeberin...       de  \n",
       "4999  We have stayed at Abels Apartment for few nigh...       en  \n",
       "\n",
       "[5000 rows x 8 columns]"
      ]
     },
     "execution_count": 10,
     "metadata": {},
     "output_type": "execute_result"
    }
   ],
   "source": [
    "comentarios = pd.read_csv(\"Airbnb_reviews_5000.csv\")\n",
    "comentarios"
   ]
  },
  {
   "cell_type": "code",
   "execution_count": null,
   "metadata": {},
   "outputs": [],
   "source": []
  }
 ],
 "metadata": {
  "kernelspec": {
   "display_name": ".venv",
   "language": "python",
   "name": "python3"
  },
  "language_info": {
   "codemirror_mode": {
    "name": "ipython",
    "version": 3
   },
   "file_extension": ".py",
   "mimetype": "text/x-python",
   "name": "python",
   "nbconvert_exporter": "python",
   "pygments_lexer": "ipython3",
   "version": "3.11.11"
  }
 },
 "nbformat": 4,
 "nbformat_minor": 2
}
