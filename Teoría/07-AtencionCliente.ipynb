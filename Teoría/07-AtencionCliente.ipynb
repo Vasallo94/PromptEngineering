{
 "cells": [
  {
   "cell_type": "markdown",
   "metadata": {},
   "source": [
    "# Ampliando\n",
    "En esta lección generaremos correos electrónicos de atención al cliente adaptados a la revisión de cada cliente."
   ]
  },
  {
   "cell_type": "code",
   "execution_count": 1,
   "metadata": {},
   "outputs": [],
   "source": [
    "from IPython.display import Markdown\n",
    "\n",
    "import sys\n",
    "sys.path.append('../utils/')\n",
    "from funciones import  preguntar_gpt, preguntar_llama\n"
   ]
  },
  {
   "cell_type": "markdown",
   "metadata": {},
   "source": [
    "## Personalizar la respuesta automática al correo electrónico de un cliente"
   ]
  },
  {
   "cell_type": "code",
   "execution_count": 2,
   "metadata": {},
   "outputs": [],
   "source": [
    "# Teniendo en cuenta lo que aprendimos en la lección sobre \"inferir\" el sentimiento del cliente original, personaliza el correo electrónico\n",
    "\n",
    "sentiment = \"negative\"\n",
    "\n",
    "# reseña de una licuadora\n",
    "review = \"\"\"\n",
    "Buenos días,\n",
    "\n",
    "Me gustaría compartir mi experiencia con la licuadora que compré en su tienda. La licuadora es muy bonita y elegante, pero no es tan potente como esperaba. La primera vez que la usé, se calentó mucho y no pude hacer un batido. Además, la tapa no encaja bien y se sale cuando la licuadora está en funcionamiento.\n",
    "\n",
    "Entonces, en noviembre, todavía tenían el sistema de 17 piezas en oferta por alrededor de $49, aproximadamente la mitad de precio. Sin embargo, por alguna razón, alrededor de la segunda semana de diciembre, los precios subieron a entre $70-$89 por el mismo sistema. El sistema de 11 piezas también aumentó en alrededor de $10 o más desde el precio de venta anterior de $29. La base, donde se encaja la cuchilla, no se ve tan bien como en ediciones anteriores de hace unos años, pero planeo ser muy cuidadoso con ella.\n",
    "\n",
    "Un consejo especial al hacer batidos es cortar finamente y congelar las frutas y verduras que planeas usar, de esa manera puedes evitar agregar tanto hielo al hacer tu batido. Después de aproximadamente un año, el motor comenzó a hacer un ruido extraño. Llamé al servicio al cliente, pero la garantía ya había expirado, así que tuve que comprar otro.\n",
    "\n",
    "PD: La calidad general ha disminuido en este tipo de productos, por lo que están contando en gran medida con el reconocimiento de marca y la lealtad del consumidor para mantener las ventas. El producto llegó en aproximadamente dos días.\n",
    "\n",
    "Atentamente,\n",
    "Alfonso\n",
    "\"\"\""
   ]
  },
  {
   "cell_type": "code",
   "execution_count": 3,
   "metadata": {},
   "outputs": [
    {
     "data": {
      "text/markdown": [
       "### Respuesta de GPT\n",
       "Estimado Alfonso,\n",
       "\n",
       "Gracias por tomarse el tiempo para compartir su experiencia con nuestra licuadora. Lamentamos saber que no ha cumplido con sus expectativas en cuanto a potencia y que ha tenido problemas con la tapa y el calentamiento durante su uso. Su comentario sobre la calidad del producto es muy valioso para nosotros y lo tomaremos en cuenta para futuras mejoras.\n",
       "\n",
       "Entendemos lo frustrante que puede ser enfrentar estos inconvenientes, especialmente después de haber contactado a nuestro servicio al cliente sin una solución satisfactoria. Le sugerimos que se comunique nuevamente con nuestro equipo de servicio al cliente para que puedan ayudarle de la mejor manera posible.\n",
       "\n",
       "Agradecemos su feedback y esperamos poder brindarle una mejor experiencia en el futuro.\n",
       "\n",
       "Atentamente,  \n",
       "Agente de servicio al cliente de IA"
      ],
      "text/plain": [
       "<IPython.core.display.Markdown object>"
      ]
     },
     "metadata": {},
     "output_type": "display_data"
    },
    {
     "name": "stdout",
     "output_type": "stream",
     "text": [
      "\n",
      "---------------------------------------------\n",
      "\n"
     ]
    },
    {
     "data": {
      "text/markdown": [
       "### Respuesta de LLAMA\n",
       "La respuesta al correo electrónico es:\n",
       "\n",
       "```\n",
       "Estimado Alfonso,\n",
       "\n",
       "Quería responder a su reciente comentario sobre nuestra licuadora. Me disculpo por cualquier frustración que haya experimentado con la licuadora y quiero asegurarle que vamos a tomar sus comentarios en serio.\n",
       "\n",
       "Me parece que ha tenido problemas de calentamiento excesivo, dificultad para cerrar el tapón y una falla del motor después de un año de uso. Lo siento mucho por esto y entiendo cómo esto puede afectar la experiencia general de utilizar nuestro producto.\n",
       "\n",
       "Si usted tiene algún problema con nuestra licuadora en este momento, por favor, no dude en ponerse en contacto con nuestro servicio al cliente directamente para que podamos asistirle a través del proceso más eficientemente posible. Los detalles de su caso han sido registrados en nuestra base de datos y revisaremos esto lo antes posible.\n",
       "\n",
       "Quiero aprovechar esta oportunidad para asegurarle que estamos comprometidos con mejorar la calidad de nuestro producto para nuestros clientes. Sus comentarios valiosos son fundamentales para nosotros.\n",
       "Gracias por compartir su experiencia. Lo apreciamos.\n",
       "Atentamente,\n",
       "Agente de Servicio al Cliente\n",
       "```\n",
       "\n",
       "Esta respuesta busca disculparse por las frustraciones del cliente y ofrecer un plan de acción claro y conciso. Al pedir que el cliente se ponga en contacto con el servicio al cliente directamente, se puede asistir al cliente más eficientemente posible. La respuesta también muestra compromiso para mejorar la calidad de los productos de la empresa, basado en las reseñas del cliente."
      ],
      "text/plain": [
       "<IPython.core.display.Markdown object>"
      ]
     },
     "metadata": {},
     "output_type": "display_data"
    }
   ],
   "source": [
    "prompt = f\"\"\"\n",
    "Eres un asistente de IA de servicio al cliente.\n",
    "Tu tarea es enviar una respuesta por correo electrónico a un cliente valioso.\n",
    "Dado el correo electrónico del cliente delimitado por ```, genera una respuesta para agradecer al cliente por su reseña.\n",
    "Si el sentimiento es positivo o neutral, agradéceles por su reseña.\n",
    "Si el sentimiento es negativo, discúlpate y sugiere que pueden comunicarse con el servicio al cliente.\n",
    "Asegúrate de usar detalles específicos de la reseña.\n",
    "Escribe en un tono conciso y profesional.\n",
    "Firma el correo electrónico como `Agente de servicio al cliente de IA`.\n",
    "Reseña del cliente: ```{review}```\n",
    "Sentimiento de la reseña: {sentiment}\n",
    "\"\"\"\n",
    "response = preguntar_gpt(prompt=prompt)\n",
    "display(Markdown(f\"### Respuesta de GPT\\n{response}\"))\n",
    "print(\"\\n---------------------------------------------\\n\")\n",
    "display(Markdown(f\"### Respuesta de LLAMA\\n{preguntar_llama('Eres un asistente de IA útil', prompt)}\"))"
   ]
  },
  {
   "cell_type": "markdown",
   "metadata": {},
   "source": [
    "## Recordándole al modelo que utilice detalles del email del cliente"
   ]
  },
  {
   "cell_type": "code",
   "execution_count": 4,
   "metadata": {},
   "outputs": [
    {
     "data": {
      "text/markdown": [
       "### Respuesta de GPT\n",
       "Estimado Alfonso,\n",
       "\n",
       "Gracias por tomarte el tiempo para compartir tu experiencia con la licuadora que adquiriste. Lamento que no haya cumplido tus expectativas en cuanto a potencia y que hayas enfrentado problemas con la tapa y el calentamiento del motor. Apreciamos tus comentarios sobre la calidad del producto y tu sugerencia referente a la preparación de batidos, que sin duda será útil para otros clientes.\n",
       "\n",
       "Entendemos lo frustrante que puede ser tener inconvenientes con un producto, especialmente después de haber confiado en nuestra marca. Te invito a comunicarte con nuestro servicio al cliente, donde estaremos encantados de ayudarte a resolver cualquier inquietud que tengas.\n",
       "\n",
       "Nuevamente, agradecemos tu feedback y esperamos poder mejorar tu experiencia en el futuro.\n",
       "\n",
       "Atentamente,  \n",
       "Agente de servicio al cliente de IA"
      ],
      "text/plain": [
       "<IPython.core.display.Markdown object>"
      ]
     },
     "metadata": {},
     "output_type": "display_data"
    },
    {
     "name": "stdout",
     "output_type": "stream",
     "text": [
      "\n",
      "---------------------------------------------\n",
      "\n"
     ]
    },
    {
     "data": {
      "text/markdown": [
       "### Respuesta de LLAMA\n",
       "La reseña del cliente tiene un sentimiento negativo debido a las siguientes razones:\n",
       "\n",
       "*   La licuadora no es tan potente como esperaba.\n",
       "*   La primera vez que la usó se calentó demasiado y no pudo hacer un batido.\n",
       "*   La tapa no encaja bien y sale cuando la licuadora está en funcionamiento.\n",
       "\n",
       "**Respuesta:**\n",
       "\n",
       "Buenos días Alfonso,\n",
       "\n",
       "Gracias por tomarte el tiempo para compartir tu experiencia con nuestra tienda. Lo siento mucho que haya tenido una mala experiencia con nuestra licuadora. Es frustrante que no se ajuste a las expectativas de la potencia, y el problema de la tapa que no encaja bien también puede ser complicado.\n",
       "\n",
       "Me gustaría disculparnos por cualquier inconveniente causado. Me parece preocupante que el motor comenzó a hacer un ruido extraño después de un año y la garantía ya había expirado. Si te sientes cómodo, te recomiendo comunicarte con nuestro servicio al cliente para hablar más sobre lo que sucedió. Queremos saber cómo podemos mejorar nuestra experiencia de atención al cliente y productiva.\n",
       "\n",
       "Recibimos tu consejo sobre cortar las frutas y verduras finamente y congelarlas antes de hacer batidos, ¡eso es muy útil! Lo agradecemos por compartir esta información contigo.\n",
       "\n",
       "Gracias por mencionar que la calidad general del producto ha disminuido en este tipo de productos. Queremos estar conscientes de esto al mejorar nuestros productos para cumplir con las expectativas de los clientes.\n",
       "**Agradecimientos:**\n",
       "\n",
       "*   Agradecerte por tu reseña y por compartir tu experiencia con nosotros.\n",
       "\n",
       "Tener el feedback de nuestros clientes como tú es crucial para que podamos seguir mejorando nuestras ofertas. Estoy aquí para escucharte si necesitas ayuda o tienes alguna pregunta.\n",
       "Reciba un cordial saludo,\n",
       "\n",
       "Agente de Servicio Al Cliente de IA"
      ],
      "text/plain": [
       "<IPython.core.display.Markdown object>"
      ]
     },
     "metadata": {},
     "output_type": "display_data"
    }
   ],
   "source": [
    "prompt = f\"\"\"\n",
    "Eres un asistente de IA de servicio al cliente.\n",
    "Tu tarea es enviar una respuesta por correo electrónico a un cliente valioso.\n",
    "Dado el correo electrónico del cliente delimitado por ```, genera una respuesta para agradecer al cliente por su reseña.\n",
    "Si el sentimiento es positivo o neutral, agradéceles por su reseña.\n",
    "Si el sentimiento es negativo, discúlpate y sugiere que pueden comunicarse con el servicio al cliente.\n",
    "Asegúrate de usar detalles específicos de la reseña para que la respuesta no sea tan robótica.\n",
    "Escribe en un tono conciso y profesional.\n",
    "Firma el correo electrónico como `Agente de servicio al cliente de IA`.\n",
    "Reseña del cliente: ```{review}```\n",
    "Sentimiento de la reseña: {sentiment}\n",
    "\"\"\"\n",
    "response = preguntar_gpt(prompt, temperature=1)\n",
    "display(Markdown(f\"### Respuesta de GPT\\n{response}\"))\n",
    "print(\"\\n---------------------------------------------\\n\")\n",
    "display(Markdown(f\"### Respuesta de LLAMA\\n{preguntar_llama('Eres un asistente de IA útil', prompt)}\"))"
   ]
  }
 ],
 "metadata": {
  "kernelspec": {
   "display_name": ".venv",
   "language": "python",
   "name": "python3"
  },
  "language_info": {
   "codemirror_mode": {
    "name": "ipython",
    "version": 3
   },
   "file_extension": ".py",
   "mimetype": "text/x-python",
   "name": "python",
   "nbconvert_exporter": "python",
   "pygments_lexer": "ipython3",
   "version": "3.11.11"
  }
 },
 "nbformat": 4,
 "nbformat_minor": 2
}
