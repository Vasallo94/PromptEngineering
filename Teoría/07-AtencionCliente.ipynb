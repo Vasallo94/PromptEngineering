{
 "cells": [
  {
   "cell_type": "markdown",
   "metadata": {},
   "source": [
    "# Ampliando\n",
    "En esta lección generaremos correos electrónicos de atención al cliente adaptados a la revisión de cada cliente."
   ]
  },
  {
   "cell_type": "code",
   "execution_count": 4,
   "metadata": {},
   "outputs": [],
   "source": [
    "from IPython.display import Markdown\n",
    "\n",
    "import sys\n",
    "sys.path.append('../utils/')\n",
    "from funciones import  preguntar_gpt, preguntar_llama\n"
   ]
  },
  {
   "cell_type": "markdown",
   "metadata": {},
   "source": [
    "## Personalizar la respuesta automática al correo electrónico de un cliente"
   ]
  },
  {
   "cell_type": "code",
   "execution_count": 18,
   "metadata": {},
   "outputs": [],
   "source": [
    "# Teniendo en cuenta lo que aprendimos en la lección sobre \"inferir\" el sentimiento del cliente original, personaliza el correo electrónico\n",
    "\n",
    "sentiment = \"negative\"\n",
    "\n",
    "# reseña de una licuadora\n",
    "review = \"\"\"\n",
    "Buenos días,\n",
    "\n",
    "Me gustaría compartir mi experiencia con la licuadora que compré en su tienda. La licuadora es muy bonita y elegante, pero no es tan potente como esperaba. La primera vez que la usé, se calentó mucho y no pude hacer un batido. Además, la tapa no encaja bien y se sale cuando la licuadora está en funcionamiento.\n",
    "\n",
    "Entonces, en noviembre, todavía tenían el sistema de 17 piezas en oferta por alrededor de $49, aproximadamente la mitad de precio. Sin embargo, por alguna razón, alrededor de la segunda semana de diciembre, los precios subieron a entre $70-$89 por el mismo sistema. El sistema de 11 piezas también aumentó en alrededor de $10 o más desde el precio de venta anterior de $29. La base, donde se encaja la cuchilla, no se ve tan bien como en ediciones anteriores de hace unos años, pero planeo ser muy cuidadoso con ella.\n",
    "\n",
    "Un consejo especial al hacer batidos es cortar finamente y congelar las frutas y verduras que planeas usar, de esa manera puedes evitar agregar tanto hielo al hacer tu batido. Después de aproximadamente un año, el motor comenzó a hacer un ruido extraño. Llamé al servicio al cliente, pero la garantía ya había expirado, así que tuve que comprar otro.\n",
    "\n",
    "PD: La calidad general ha disminuido en este tipo de productos, por lo que están contando en gran medida con el reconocimiento de marca y la lealtad del consumidor para mantener las ventas. El producto llegó en aproximadamente dos días.\n",
    "\n",
    "Atentamente,\n",
    "Alfonso\n",
    "\"\"\""
   ]
  },
  {
   "cell_type": "code",
   "execution_count": 19,
   "metadata": {},
   "outputs": [
    {
     "data": {
      "text/markdown": [
       "### Respuesta de GPT\n",
       "Asunto: Respuesta a su reseña sobre la licuadora\n",
       "\n",
       "Estimado Alfonso,\n",
       "\n",
       "Gracias por compartir su experiencia con la licuadora que adquirió en nuestra tienda. Lamentamos saber que la licuadora no cumplió completamente con sus expectativas y por los inconvenientes que experimentó con el funcionamiento y la calidad del producto.\n",
       "\n",
       "Valoramos sus comentarios detallados sobre su experiencia, incluidos los aspectos negativos que mencionó, como el calentamiento excesivo, la tapa inadecuada y el deterioro general de la calidad del producto a lo largo del tiempo.\n",
       "\n",
       "Lamentamos mucho las molestias que esto le haya causado y le pedimos disculpas por la situación. Su opinión es fundamental para nosotros y nos ayuda a mejorar nuestros productos y servicios para ofrecer una mejor experiencia a nuestros clientes.\n",
       "\n",
       "Si desea discutir más a fondo su experiencia o explorar posibles soluciones, lo invitamos a comunicarse con nuestro equipo de servicio al cliente para que podamos atender sus inquietudes de manera más personalizada.\n",
       "\n",
       "Agradecemos su lealtad y confianza en nuestra marca, y tomaremos en consideración sus comentarios para continuar mejorando y brindar productos de calidad a nuestros clientes.\n",
       "\n",
       "Gracias nuevamente por compartir su opinión con nosotros.\n",
       "\n",
       "Atentamente,\n",
       "Agente de servicio al cliente de IA"
      ],
      "text/plain": [
       "<IPython.core.display.Markdown object>"
      ]
     },
     "metadata": {},
     "output_type": "display_data"
    },
    {
     "name": "stdout",
     "output_type": "stream",
     "text": [
      "\n",
      "---------------------------------------------\n",
      "\n",
      "Intento 1 fallido. Error: 500 Server Error: Internal Server Error for url: https://api.awanllm.com/v1/chat/completions\n",
      "No se pudo completar la solicitud después de varios intentos.\n"
     ]
    },
    {
     "data": {
      "text/markdown": [
       "### Respuesta de LLAMA\n",
       "None"
      ],
      "text/plain": [
       "<IPython.core.display.Markdown object>"
      ]
     },
     "metadata": {},
     "output_type": "display_data"
    }
   ],
   "source": [
    "prompt = f\"\"\"\n",
    "Eres un asistente de IA de servicio al cliente.\n",
    "Tu tarea es enviar una respuesta por correo electrónico a un cliente valioso.\n",
    "Dado el correo electrónico del cliente delimitado por ```, genera una respuesta para agradecer al cliente por su reseña.\n",
    "Si el sentimiento es positivo o neutral, agradéceles por su reseña.\n",
    "Si el sentimiento es negativo, discúlpate y sugiere que pueden comunicarse con el servicio al cliente.\n",
    "Asegúrate de usar detalles específicos de la reseña.\n",
    "Escribe en un tono conciso y profesional.\n",
    "Firma el correo electrónico como `Agente de servicio al cliente de IA`.\n",
    "Reseña del cliente: ```{review}```\n",
    "Sentimiento de la reseña: {sentiment}\n",
    "\"\"\"\n",
    "response = preguntar_gpt(prompt)\n",
    "display(Markdown(f\"### Respuesta de GPT\\n{response}\"))\n",
    "print(\"\\n---------------------------------------------\\n\")\n",
    "display(Markdown(f\"### Respuesta de LLAMA\\n{preguntar_llama('Eres un asistente de IA cuyo trabajo es responder a lo que te está pidiendo el usuario de la forma más fiel al prompt sin preámbulos explicativos ni resúmenes finales.', prompt)}\"))"
   ]
  },
  {
   "cell_type": "markdown",
   "metadata": {},
   "source": [
    "## Recordándole al modelo que utilice detalles del email del cliente"
   ]
  },
  {
   "cell_type": "code",
   "execution_count": 4,
   "metadata": {},
   "outputs": [
    {
     "data": {
      "text/markdown": [
       "### Respuesta de GPT\n",
       "Estimado Alfonso,\n",
       "\n",
       "Gracias por tomarte el tiempo de compartir tu experiencia con la licuadora que adquiriste en nuestra tienda. Lamentamos escuchar que no cumplió completamente tus expectativas y que experimentaste problemas con su funcionamiento.\n",
       "\n",
       "Nos disculpamos por las molestias ocasionadas por la falta de potencia de la licuadora, así como por los problemas con la tapa y el sobrecalentamiento que mencionaste. También lamentamos la situación con el cambio de precios en nuestros productos y la disminución en la calidad percibida.\n",
       "\n",
       "Apreciamos tus comentarios detallados y tu consejo sobre el uso de frutas y verduras congeladas para los batidos. Tus observaciones son muy valiosas para nosotros y las tendremos en cuenta mientras trabajamos en mejorar nuestros productos y servicios.\n",
       "\n",
       "Si necesitas alguna asistencia adicional o deseas compartir más detalles sobre tu experiencia, por favor no dudes en contactarnos a través de nuestro servicio al cliente. Estamos aquí para ayudarte en lo que necesites.\n",
       "\n",
       "Agradecemos tu sinceridad y la oportunidad de mejorar nuestros productos. Valoramos tu lealtad como cliente y esperamos poder brindarte una mejor experiencia en el futuro.\n",
       "\n",
       "Atentamente,\n",
       "Agente de servicio al cliente de IA"
      ],
      "text/plain": [
       "<IPython.core.display.Markdown object>"
      ]
     },
     "metadata": {},
     "output_type": "display_data"
    },
    {
     "name": "stdout",
     "output_type": "stream",
     "text": [
      "\n",
      "---------------------------------------------\n",
      "\n"
     ]
    },
    {
     "data": {
      "text/markdown": [
       "### Respuesta de LLAMA\n",
       "Asunto: Agradezco su retroalimentación sobre nuestra licuadora\n",
       "\n",
       "Estimado Sr. Alfonso,\n",
       "\n",
       "Queremos expresar nuestro agradecimiento por haber tomado el tiempo de compartir su experiencia con nosotros sobre la licuadora que compró en nuestra tienda. Me entristece saber que no estuvo satisfecho con el rendimiento de la licuadora, especialmente con la potencia y la calidad de la tapa.\n",
       "\n",
       "Disculpamos cualquier incomodidad causada por el aumento de precio del sistema de piezas y lamentamos que no haya podido aprovechar plenamente su compra debido a la caducidad de la garantía. Estamos trabajando para mejorar constantemente nuestros productos y servicios.\n",
       "\n",
       "Agradezco también sus sugerencias prácticas para mejorar el uso de la licuadora, como cortar finamente y congelar las frutas y verduras antes de hacer batidos. Estas recomendaciones serán útiles para otros clientes.\n",
       "\n",
       "Gracias nuevamente por su retroalimentación. Si necesita ayuda adicional o tiene alguna pregunta, por favor no dude en ponerse en contacto con nuestro servicio al cliente.\n",
       "\n",
       "Atentamente,\n",
       "Agente de servicio al cliente de IA"
      ],
      "text/plain": [
       "<IPython.core.display.Markdown object>"
      ]
     },
     "metadata": {},
     "output_type": "display_data"
    }
   ],
   "source": [
    "prompt = f\"\"\"\n",
    "Eres un asistente de IA de servicio al cliente.\n",
    "Tu tarea es enviar una respuesta por correo electrónico a un cliente valioso.\n",
    "Dado el correo electrónico del cliente delimitado por ```, genera una respuesta para agradecer al cliente por su reseña.\n",
    "Si el sentimiento es positivo o neutral, agradéceles por su reseña.\n",
    "Si el sentimiento es negativo, discúlpate y sugiere que pueden comunicarse con el servicio al cliente.\n",
    "Asegúrate de usar detalles específicos de la reseña para que la respuesta no sea tan robótica.\n",
    "Escribe en un tono conciso y profesional.\n",
    "Firma el correo electrónico como `Agente de servicio al cliente de IA`.\n",
    "Reseña del cliente: ```{review}```\n",
    "Sentimiento de la reseña: {sentiment}\n",
    "\"\"\"\n",
    "response = preguntar_gpt(prompt, temperature=1)\n",
    "display(Markdown(f\"### Respuesta de GPT\\n{response}\"))\n",
    "print(\"\\n---------------------------------------------\\n\")\n",
    "display(Markdown(f\"### Respuesta de LLAMA\\n{preguntar_llama('Eres un asistente de IA cuyo trabajo es responder a lo que te está pidiendo el usuario de la forma más fiel al prompt sin preámbulos explicativos ni resúmenes finales.', prompt)}\"))"
   ]
  }
 ],
 "metadata": {
  "kernelspec": {
   "display_name": "venv",
   "language": "python",
   "name": "python3"
  },
  "language_info": {
   "codemirror_mode": {
    "name": "ipython",
    "version": 3
   },
   "file_extension": ".py",
   "mimetype": "text/x-python",
   "name": "python",
   "nbconvert_exporter": "python",
   "pygments_lexer": "ipython3",
   "version": "3.11.2"
  }
 },
 "nbformat": 4,
 "nbformat_minor": 2
}
