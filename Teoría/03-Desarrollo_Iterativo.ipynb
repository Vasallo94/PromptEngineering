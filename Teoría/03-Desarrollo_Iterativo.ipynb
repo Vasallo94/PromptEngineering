{
   "cells": [
      {
         "cell_type": "markdown",
         "metadata": {},
         "source": [
            "**Table of contents**<a id='toc0_'></a>    \n",
            "1. [Desarrollo iterativo de prompts](#toc1_)    \n",
            "1.1. [Setup](#toc1_1_)    \n",
            "1.2. [Marketing de productos](#toc1_2_)    \n",
            "1.2.1. [Primer prompt de marketing](#toc1_2_1_)    \n",
            "1.2.2. [Problema 1: El texto es demasiado largo.](#toc1_2_2_)    \n",
            "1.2.3. [Problema 2: El texto no es lo suficientemente específico ni dirigido a un público objetivo.](#toc1_2_3_)    \n",
            "1.2.4. [Problema 3: La descripción necesita una tabla de dimensiones del producto.](#toc1_2_4_)    \n",
            "1.2.5. [Cargamos la librería de Python que nos permite ver el contenido de una variable en formato HTML](#toc1_2_5_)    \n",
            "\n",
            "<!-- vscode-jupyter-toc-config\n",
            "\tnumbering=true\n",
            "\tanchor=true\n",
            "\tflat=true\n",
            "\tminLevel=1\n",
            "\tmaxLevel=6\n",
            "\t/vscode-jupyter-toc-config -->\n",
            "<!-- THIS CELL WILL BE REPLACED ON TOC UPDATE. DO NOT WRITE YOUR TEXT IN THIS CELL -->"
         ]
      },
      {
         "cell_type": "markdown",
         "metadata": {},
         "source": [
            "# 1. <a id='toc1_'></a>[Desarrollo iterativo de prompts](#toc0_)\n",
            "\n",
            "En esta lección, analizará y perfeccionará de forma iterativa sus indicaciones para generar textos de marketing a partir de la ficha de un producto."
         ]
      },
      {
         "cell_type": "markdown",
         "metadata": {},
         "source": [
            "## 1.1. <a id='toc1_1_'></a>[Setup](#toc0_)"
         ]
      },
      {
         "cell_type": "code",
         "execution_count": 1,
         "metadata": {},
         "outputs": [
            {
               "ename": "ModuleNotFoundError",
               "evalue": "No module named 'openai'",
               "output_type": "error",
               "traceback": [
                  "\u001b[0;31m---------------------------------------------------------------------------\u001b[0m",
                  "\u001b[0;31mModuleNotFoundError\u001b[0m                       Traceback (most recent call last)",
                  "Cell \u001b[0;32mIn[1], line 5\u001b[0m\n\u001b[1;32m      3\u001b[0m \u001b[38;5;28;01mimport\u001b[39;00m \u001b[38;5;21;01msys\u001b[39;00m\n\u001b[1;32m      4\u001b[0m sys\u001b[38;5;241m.\u001b[39mpath\u001b[38;5;241m.\u001b[39mappend(\u001b[38;5;124m'\u001b[39m\u001b[38;5;124m../utils/\u001b[39m\u001b[38;5;124m'\u001b[39m)\n\u001b[0;32m----> 5\u001b[0m \u001b[38;5;28;01mfrom\u001b[39;00m \u001b[38;5;21;01mfunciones\u001b[39;00m \u001b[38;5;28;01mimport\u001b[39;00m preguntar_llama, preguntar_gpt\n",
                  "File \u001b[0;32m~/Clases_Pontia/PromptEngineering/Teoría/../utils/funciones.py:7\u001b[0m\n\u001b[1;32m      5\u001b[0m \u001b[38;5;28;01mimport\u001b[39;00m \u001b[38;5;21;01mrequests\u001b[39;00m\n\u001b[1;32m      6\u001b[0m \u001b[38;5;28;01mfrom\u001b[39;00m \u001b[38;5;21;01mdotenv\u001b[39;00m \u001b[38;5;28;01mimport\u001b[39;00m load_dotenv\n\u001b[0;32m----> 7\u001b[0m \u001b[38;5;28;01mfrom\u001b[39;00m \u001b[38;5;21;01mopenai\u001b[39;00m \u001b[38;5;28;01mimport\u001b[39;00m OpenAI\n\u001b[1;32m      9\u001b[0m load_dotenv(os\u001b[38;5;241m.\u001b[39mpath\u001b[38;5;241m.\u001b[39mjoin(\u001b[38;5;124m\"\u001b[39m\u001b[38;5;124m..\u001b[39m\u001b[38;5;124m\"\u001b[39m, \u001b[38;5;124m\"\u001b[39m\u001b[38;5;124m.env\u001b[39m\u001b[38;5;124m\"\u001b[39m))\n\u001b[1;32m     11\u001b[0m \u001b[38;5;66;03m# Definir las variables de entorno\u001b[39;00m\n",
                  "\u001b[0;31mModuleNotFoundError\u001b[0m: No module named 'openai'"
               ]
            }
         ],
         "source": [
            "from IPython.display import Markdown\n",
            "\n",
            "import sys\n",
            "sys.path.append('../utils/')\n",
            "from funciones import preguntar_llama, preguntar_gpt"
         ]
      },
      {
         "cell_type": "markdown",
         "metadata": {},
         "source": [
            "## 1.2. <a id='toc1_2_'></a>[Marketing de productos](#toc0_)"
         ]
      },
      {
         "cell_type": "code",
         "execution_count": null,
         "metadata": {},
         "outputs": [],
         "source": [
            "hoja_informativa_mesa = \"\"\"\n",
            "VISIÓN GENERAL\n",
            "- Parte de una hermosa familia de muebles de estilo rústico, incluyendo sillas, bancos, armarios y más.\n",
            "- Varias opciones de acabado de madera y estilos de patas.\n",
            "- Disponible con o sin estante inferior para almacenamiento.\n",
            "- Adecuado para entornos domésticos o empresariales.\n",
            "- Calificado para uso en contratos.\n",
            "\n",
            "CONSTRUCCIÓN\n",
            "- Construcción en madera maciza.\n",
            "- Diseño resistente y duradero.\n",
            "\n",
            "DIMENSIONES\n",
            "- ANCHO 80 CM\n",
            "- LARGO 160 CM\n",
            "- ALTURA 75 CM\n",
            "\n",
            "OPCIONES\n",
            "- Elección del acabado de madera: natural, teñida, desgastada, etc.\n",
            "- Opciones de estilo de patas: rectas, cónicas, torneadas, etc.\n",
            "- Estante inferior opcional para almacenamiento.\n",
            "\n",
            "MATERIALES\n",
            "TABLERO Y PATAS\n",
            "- Madera maciza (nogal, roble, cedro, etc.)\n",
            "\n",
            "PAÍS DE ORIGEN\n",
            "- Grecia\n",
            "\"\"\""
         ]
      },
      {
         "cell_type": "markdown",
         "metadata": {},
         "source": [
            "### 1.2.1. <a id='toc1_2_1_'></a>[Primer prompt de marketing](#toc0_)"
         ]
      },
      {
         "cell_type": "code",
         "execution_count": null,
         "metadata": {},
         "outputs": [
            {
               "data": {
                  "text/markdown": [
                     "### Descripción del producto de GPT\n",
                     "```\n",
                     "Descubre la mesa de comedor de la colección de muebles de estilo rústico, una pieza elegante y funcional que combina belleza y durabilidad. Fabricada en madera maciza y con un diseño resistente, esta mesa es un elemento versátil que se adapta a cualquier entorno, ya sea en el hogar o en un entorno empresarial.\n",
                     "\n",
                     "Con unas dimensiones de 80 cm de ancho, 160 cm de largo y 75 cm de altura, ofrece un amplio espacio para disfrutar de deliciosas comidas en compañía de familiares y amigos.\n",
                     "\n",
                     "Personaliza tu mesa con diversas opciones, como el acabado de madera (natural, teñida, desgastada, etc.) y el estilo de patas (rectas, cónicas, torneadas, etc.). Además, puedes elegir si prefieres incorporar un estante inferior para mayor capacidad de almacenamiento.\n",
                     "\n",
                     "Hecha con materiales de alta calidad, las tablas y patas son de madera maciza, con opciones de nogal, roble, cedro, entre otros. Todo el encanto y la artesanía de Grecia se reflejan en esta mesa de comedor que cumple con los estándares de uso en contratos.\n",
                     "\n",
                     "Embellece tu espacio con esta mesa de comedor versátil y elegante, proveniente de Grecia, un punto focal único para tus reuniones y celebraciones.```\n"
                  ]
               },
               "metadata": {},
               "output_type": "display_data"
            },
            {
               "name": "stdout",
               "output_type": "stream",
               "text": [
                  "\n",
                  "---------------------------------------------\n",
                  "\n",
                  "Intento 1 fallido. Error: 500 Server Error: Internal Server Error for url: https://api.awanllm.com/v1/chat/completions\n",
                  "No se pudo completar la solicitud después de varios intentos.\n"
               ]
            },
            {
               "data": {
                  "text/markdown": [
                     "### Descripción del producto de LLAMA\n",
                     "None"
                  ]
               },
               "metadata": {},
               "output_type": "display_data"
            }
         ],
         "source": [
            "prompt = f\"\"\"\n",
            "Tu tarea consiste en ayudar a un equipo de marketing a crear una descripción de un producto para un sitio web en una ficha técnica.\n",
            "\n",
            "Escriba una descripción del producto basada en la información proporcionada en la ficha técnica delimitada por tres comillas.\n",
            "\n",
            "Ficha técnica: ```{hoja_informativa_mesa}```\n",
            "\"\"\"\n",
            "response = preguntar_gpt(prompt)\n",
            "display(Markdown(f\"### Descripción del producto de GPT\\n{response}\"))\n",
            "print(\"\\n---------------------------------------------\\n\")\n",
            "display(Markdown(f\"### Descripción del producto de LLAMA\\n{preguntar_llama('Eres un asistente de IA cuyo trabajo es responder a lo que te está pidiendo el usuario de la forma más fiel al prompt sin preámbulos explicativos ni resúmenes finales.', prompt)}\"))"
         ]
      },
      {
         "cell_type": "markdown",
         "metadata": {},
         "source": [
            "### 1.2.2. <a id='toc1_2_2_'></a>[Problema 1: El texto es demasiado largo.](#toc0_)\n",
            "\n",
            "Podemos especificar la longitud del texto que queremos generar ya sea mediante caracteres, palabras o párrafos. En este caso, vamos a especificar la longitud en frases."
         ]
      },
      {
         "cell_type": "code",
         "execution_count": null,
         "metadata": {},
         "outputs": [
            {
               "data": {
                  "text/markdown": [
                     "### Descripción del producto de GPT\n",
                     "\"Presentamos nuestra mesa de comedor de la hermosa familia de muebles de estilo rústico, perfecta para cualquier hogar u oficina. Construida en madera maciza y disponible en diferentes acabados y estilos de patas, esta mesa es resistente y duradera. Con dimensiones de 80 cm de ancho, 160 cm de largo y 75 cm de altura, esta mesa ofrece la opción de un estante inferior para almacenamiento adicional. Fabricada en Grecia con materiales de alta calidad, esta mesa es una adición elegante y funcional a cualquier espacio.\""
                  ]
               },
               "metadata": {},
               "output_type": "display_data"
            },
            {
               "name": "stdout",
               "output_type": "stream",
               "text": [
                  "\n",
                  "---------------------------------------------\n",
                  "\n"
               ]
            },
            {
               "data": {
                  "text/markdown": [
                     "### Descripción del producto de LLAMA\n",
                     "\"El mobiliario rústico 'X' es una pieza de estilo tradicional construida con materiales nobles y diseño resistente. Con varias opciones de acabado de madera y estilos de patas, este producto se adapta perfectamente a entornos domésticos o empresariales. Disponible con o sin estante inferior para almacenamiento, ofrece una solución práctica y versátil para cualquier necesidad.\""
                  ]
               },
               "metadata": {},
               "output_type": "display_data"
            }
         ],
         "source": [
            "prompt = f\"\"\"\n",
            "Tu tarea consiste en ayudar a un equipo de marketing a crear una descripción de un producto para un sitio web en una ficha técnica.\n",
            "\n",
            "Escriba una descripción del producto basada en la información proporcionada en la ficha técnica delimitada por tres comillas.\n",
            "\n",
            "Usa como mucho 3-4 oraciones para describir el producto.\n",
            "\n",
            "Ficha técnica: ```{hoja_informativa_mesa}```\n",
            "\"\"\"\n",
            "response = preguntar_gpt(prompt)\n",
            "display(Markdown(f\"### Descripción del producto de GPT\\n{response}\"))\n",
            "print(\"\\n---------------------------------------------\\n\")\n",
            "display(Markdown(f\"### Descripción del producto de LLAMA\\n{preguntar_llama('Eres un asistente de IA cuyo trabajo es responder a lo que te está pidiendo el usuario de la forma más fiel al prompt sin preámbulos explicativos ni resúmenes finales.', prompt)}\"))"
         ]
      },
      {
         "cell_type": "markdown",
         "metadata": {},
         "source": [
            "### 1.2.3. <a id='toc1_2_3_'></a>[Problema 2: El texto no es lo suficientemente específico ni dirigido a un público objetivo.](#toc0_)\n",
            "\n",
            "Vamos a añadir una sección de texto que enfoque la descripción del producto y a generar un identificador de producto al final de la descripción."
         ]
      },
      {
         "cell_type": "code",
         "execution_count": null,
         "metadata": {},
         "outputs": [
            {
               "data": {
                  "text/markdown": [
                     "### Descripción del producto de GPT\n",
                     "\"Presentamos nuestra mesa de comedor de la hermosa familia de muebles de estilo rústico, construida en madera maciza de alta calidad. Con opciones de acabado de madera y estilos de patas personalizables, esta mesa es resistente y duradera, perfecta para entornos domésticos o empresariales. Disponible con o sin estante inferior para almacenamiento, este producto versátil es una adición elegante a cualquier espacio. ¡ID del producto: MDRGRC1!\""
                  ]
               },
               "metadata": {},
               "output_type": "display_data"
            },
            {
               "name": "stdout",
               "output_type": "stream",
               "text": [
                  "\n",
                  "---------------------------------------------\n",
                  "\n"
               ]
            },
            {
               "data": {
                  "text/markdown": [
                     "### Descripción del producto de LLAMA\n",
                     "\"El producto es un mueble de estilo rústico construido en madera maciza, con opciones de acabado de madera natural, teñida, desgastada, etc. y diferentes estilos de patas, incluyendo rectas, cónicas y torneadas. También cuenta con estante inferior disponible para almacenamiento. Fabricado en Grecia utilizando madera maciza de nogal, roble o cedro. ID del producto: GRST0149.\""
                  ]
               },
               "metadata": {},
               "output_type": "display_data"
            }
         ],
         "source": [
            "prompt = f\"\"\"\n",
            "Tu tarea consiste en ayudar a un equipo de marketing a crear una descripción de un producto para un sitio web en una ficha técnica.\n",
            "\n",
            "Escriba una descripción del producto basada en la información proporcionada en la ficha técnica delimitada por tres comillas.\n",
            "\n",
            "La descripción está destinada a los minoristas de muebles, por lo que debe ser de carácter técnico y centrarse en los materiales con los que está fabricado el producto.\n",
            "\n",
            "Al final de la descripción, genera un ID del producto de 7 caracteres.\n",
            "\n",
            "Usa como mucho 3-4 oraciones para describir el producto.\n",
            "\n",
            "Ficha técnica: ```{hoja_informativa_mesa}```\n",
            "\"\"\"\n",
            "response = preguntar_gpt(prompt)\n",
            "display(Markdown(f\"### Descripción del producto de GPT\\n{response}\"))\n",
            "print(\"\\n---------------------------------------------\\n\")\n",
            "display(Markdown(f\"### Descripción del producto de LLAMA\\n{preguntar_llama('Eres un asistente de IA cuyo trabajo es responder a lo que te está pidiendo el usuario de la forma más fiel al prompt sin preámbulos explicativos ni resúmenes finales.', prompt)}\"))"
         ]
      },
      {
         "cell_type": "markdown",
         "metadata": {},
         "source": [
            "### 1.2.4. <a id='toc1_2_4_'></a>[Problema 3: La descripción necesita una tabla de dimensiones del producto.](#toc0_)\n",
            "\n",
            "Vamos a pedirle al modelo que extraiga las dimensiones del producto y las incluya en la descripción en forma de tabla, para ello le diremos que nos devuelva la respuesta en formato HTML."
         ]
      },
      {
         "cell_type": "code",
         "execution_count": null,
         "metadata": {},
         "outputs": [
            {
               "data": {
                  "text/markdown": [
                     "### Descripción del producto de GPT\n",
                     "```html\n",
                     "<!DOCTYPE html>\n",
                     "<html>\n",
                     "<head>\n",
                     "<title>Descripción del Producto</title>\n",
                     "</head>\n",
                     "<body>\n",
                     "\n",
                     "<h2>Descripción del Producto:</h2>\n",
                     "<p>\"Este elegante y resistente mesa de comedor forma parte de una hermosa familia de muebles de estilo rústico. Fabricada en madera maciza de alta calidad, esta mesa está disponible en varias opciones de acabado de madera y estilos de patas. Puede elegir entre tener o no un estante inferior para almacenamiento. Perfecta para entornos domésticos o empresariales, esta mesa es adecuada para uso en contratos.\"</p>\n",
                     "\n",
                     "<table border=\"1\">\n",
                     "  <tr>\n",
                     "    <th>Ancho</th>\n",
                     "    <th>Largo</th>\n",
                     "    <th>Altura</th>\n",
                     "  </tr>\n",
                     "  <tr>\n",
                     "    <td>80 cm</td>\n",
                     "    <td>160 cm</td>\n",
                     "    <td>75 cm</td>\n",
                     "  </tr>\n",
                     "</table>\n",
                     "\n",
                     "<p>ID del Producto: ABC1234</p>\n",
                     "\n",
                     "</body>\n",
                     "</html>\n",
                     "```"
                  ]
               },
               "metadata": {},
               "output_type": "display_data"
            },
            {
               "name": "stdout",
               "output_type": "stream",
               "text": [
                  "\n",
                  "---------------------------------------------\n",
                  "\n"
               ]
            },
            {
               "data": {
                  "text/markdown": [
                     "### Descripción del producto de LLAMA\n",
                     "<p>\n",
                     "El producto es un elemento de mobiliario rústico construido en madera maciza, diseñado para entornos domésticos o empresariales. Está disponible con diferentes opciones de acabado de madera y estilos de patas, permitiendo adaptarlo a diferentes estilos y necesidades. También se puede elegir entre una configuración con o sin estante inferior para almacenamiento adicional.\n",
                     "</p>\n",
                     "\n",
                     "<table>\n",
                     "  <tr>\n",
                     "    <th>Ancho</th>\n",
                     "    <th>Largo</th>\n",
                     "    <th>Altura</th>\n",
                     "  </tr>\n",
                     "  <tr>\n",
                     "    <td>80 cm</td>\n",
                     "    <td>160 cm</td>\n",
                     "    <td>75 cm</td>\n",
                     "  </tr>\n",
                     "</table>\n",
                     "\n",
                     "ID del producto: GTX456A"
                  ]
               },
               "metadata": {},
               "output_type": "display_data"
            }
         ],
         "source": [
            "prompt = f\"\"\"\n",
            "Tu tarea consiste en ayudar a un equipo de marketing a crear una descripción de un producto para un sitio web en una ficha técnica.\n",
            "\n",
            "Escriba una descripción del producto basada en la información proporcionada en la ficha técnica delimitada por tres comillas.\n",
            "\n",
            "La descripción está destinada a los minoristas de muebles, por lo que debe ser de carácter técnico y centrarse en los materiales con los que está fabricado el producto.\n",
            "\n",
            "Al final de la descripción, genera un ID del producto de 7 caracteres.\n",
            "\n",
            "Usa como mucho 3-4 oraciones para describir el producto.\n",
            "\n",
            "Después de la descripción, incluye una tabla que de la información de las dimensiones del producto. La tabla debe tener 3 columnas: Ancho, Largo y Altura y dos filas: una para los títulos de las columnas y otra para los valores de las dimensiones. Da las dimensiones en centímetros.\n",
            "\n",
            "Devuelve toda la respuesta en formato HTLM.\n",
            "\n",
            "Ficha técnica: ```{hoja_informativa_mesa}```\n",
            "\"\"\"\n",
            "response = preguntar_gpt(prompt)\n",
            "display(Markdown(f\"### Descripción del producto de GPT\\n{response}\"))\n",
            "print(\"\\n---------------------------------------------\\n\")\n",
            "display(Markdown(f\"### Descripción del producto de LLAMA\\n{preguntar_llama('Eres un asistente de IA cuyo trabajo es responder a lo que te está pidiendo el usuario de la forma más fiel al prompt sin preámbulos explicativos ni resúmenes finales.', prompt)}\"))"
         ]
      },
      {
         "cell_type": "markdown",
         "metadata": {},
         "source": [
            "### 1.2.5. <a id='toc1_2_5_'></a>[Cargamos la librería de Python que nos permite ver el contenido de una variable en formato HTML](#toc0_)\n"
         ]
      },
      {
         "cell_type": "code",
         "execution_count": null,
         "metadata": {},
         "outputs": [
            {
               "data": {
                  "text/html": [
                     "```html\n",
                     "<!DOCTYPE html>\n",
                     "<html>\n",
                     "<head>\n",
                     "<title>Descripción del Producto</title>\n",
                     "</head>\n",
                     "<body>\n",
                     "\n",
                     "<h2>Descripción del Producto:</h2>\n",
                     "<p>\"Este elegante y resistente mesa de comedor forma parte de una hermosa familia de muebles de estilo rústico. Fabricada en madera maciza de alta calidad, esta mesa está disponible en varias opciones de acabado de madera y estilos de patas. Puede elegir entre tener o no un estante inferior para almacenamiento. Perfecta para entornos domésticos o empresariales, esta mesa es adecuada para uso en contratos.\"</p>\n",
                     "\n",
                     "<table border=\"1\">\n",
                     "  <tr>\n",
                     "    <th>Ancho</th>\n",
                     "    <th>Largo</th>\n",
                     "    <th>Altura</th>\n",
                     "  </tr>\n",
                     "  <tr>\n",
                     "    <td>80 cm</td>\n",
                     "    <td>160 cm</td>\n",
                     "    <td>75 cm</td>\n",
                     "  </tr>\n",
                     "</table>\n",
                     "\n",
                     "<p>ID del Producto: ABC1234</p>\n",
                     "\n",
                     "</body>\n",
                     "</html>\n",
                     "```"
                  ]
               },
               "metadata": {},
               "output_type": "display_data"
            }
         ],
         "source": [
            "from IPython.display import HTML, display\n",
            "display(HTML(response))"
         ]
      },
      {
         "cell_type": "markdown",
         "metadata": {},
         "source": [
            "## Tu turno de experimentar!\n"
         ]
      },
      {
         "cell_type": "code",
         "execution_count": null,
         "metadata": {},
         "outputs": [],
         "source": []
      }
   ],
   "metadata": {
      "kernelspec": {
         "display_name": "3.11.4",
         "language": "python",
         "name": "python3"
      },
      "language_info": {
         "codemirror_mode": {
            "name": "ipython",
            "version": 3
         },
         "file_extension": ".py",
         "mimetype": "text/x-python",
         "name": "python",
         "nbconvert_exporter": "python",
         "pygments_lexer": "ipython3",
         "version": "3.11.4"
      }
   },
   "nbformat": 4,
   "nbformat_minor": 2
}
